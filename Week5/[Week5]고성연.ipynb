{
 "cells": [
  {
   "cell_type": "markdown",
   "metadata": {},
   "source": [
    "# \\[Week5] 추천시스템  \n",
    "## [캐글 데이터](https://www.kaggle.com/tmdb/tmdb-movie-metadata?select=tmdb_5000_movies.csv) tmdb_5000_movies.csv   \n",
    "참고 사이트 : [[구름 Edu]](https://edu.goorm.io/learn/lecture/20671/%EB%94%A5%EB%9F%AC%EB%8B%9D-%EC%9D%B4%EB%A1%A0-%EB%B0%8F-%ED%8C%8C%EC%9D%B4%EC%8D%AC-%EC%8B%A4%EC%8A%B5)"
   ]
  },
  {
   "cell_type": "markdown",
   "metadata": {},
   "source": [
    "## 1. 자연어처리 - 문서 유사도 (용어 정리)"
   ]
  },
  {
   "cell_type": "markdown",
   "metadata": {},
   "source": [
    "1. Bag of Words   "
   ]
  },
  {
   "cell_type": "markdown",
   "metadata": {},
   "source": [
    "\\[답변] 문자를 숫자로 표현하는 방법 중 하나. \n",
    "단어들의 순서 전혀 고려하지 않고 출현빈도에 집중, 텍스트 데이터를 수치화 표현.\n",
    "→머신러닝 모델의 입력값으로 사용할 수 있다. (머신러닝 모델은 수학적 모델이므로 수치값으로 입력값이 들어가야한다.)"
   ]
  },
  {
   "cell_type": "markdown",
   "metadata": {},
   "source": [
    "1) 문장 간의 유사도 구하는 방법 "
   ]
  },
  {
   "cell_type": "markdown",
   "metadata": {},
   "source": [
    "\\[답변] 유사도를 구하고자 하는 문장들의 각 인덱스에 있는 값끼리 전부 곱한 후에, 더한다."
   ]
  },
  {
   "cell_type": "markdown",
   "metadata": {},
   "source": [
    "2) 단점"
   ]
  },
  {
   "cell_type": "markdown",
   "metadata": {},
   "source": [
    "\\[답변] \n",
    "- 실제 사전에는 무수히 많은 단어가 있으므로, 문장 하나를 표현할때, 많은 0을 가진 긴 벡터가 사용된다. 따라서 계산량도 높아지고 메모리 사용량도 많아진다.\n",
    "- 많이 출현한 단어일수록 유사도에 미치는 힘이 더 세진다.\n",
    "- 단어의 순서를 무시한다. (문맥이 무시된다.)\n",
    "- 오타, 줄임말 등은 데이터를 가지고 있기 힘들어 적용하기 어렵다."
   ]
  },
  {
   "cell_type": "markdown",
   "metadata": {},
   "source": [
    "2. n-그램"
   ]
  },
  {
   "cell_type": "markdown",
   "metadata": {},
   "source": [
    "\\[답변] 연속적인 n개의 토큰으로 구성된 것."
   ]
  },
  {
   "cell_type": "markdown",
   "metadata": {},
   "source": [
    "**(예제) fine thank you**  \n",
    "1) 1-gram"
   ]
  },
  {
   "cell_type": "markdown",
   "metadata": {},
   "source": [
    "    1-1) Word level  "
   ]
  },
  {
   "cell_type": "markdown",
   "metadata": {},
   "source": [
    "    [답변]  [fine, thank, you]"
   ]
  },
  {
   "cell_type": "markdown",
   "metadata": {},
   "source": [
    "    1-2) Character level"
   ]
  },
  {
   "cell_type": "markdown",
   "metadata": {},
   "source": [
    "    [답변]  [f,i, n, e, t, h, a, n, k, y, o, u]"
   ]
  },
  {
   "cell_type": "markdown",
   "metadata": {},
   "source": [
    "2) 2-gram"
   ]
  },
  {
   "cell_type": "markdown",
   "metadata": {},
   "source": [
    "    2-1) Word level"
   ]
  },
  {
   "cell_type": "markdown",
   "metadata": {},
   "source": [
    "    [답변]  [fine thank,thank you]"
   ]
  },
  {
   "cell_type": "markdown",
   "metadata": {},
   "source": [
    "    2-2) Character level "
   ]
  },
  {
   "cell_type": "markdown",
   "metadata": {},
   "source": [
    "    [답변] [fi, in, ne, e ,  t, th, ha, an, nk, k ,  y, yo, ou]"
   ]
  },
  {
   "cell_type": "markdown",
   "metadata": {},
   "source": [
    "3) 3-gram"
   ]
  },
  {
   "cell_type": "markdown",
   "metadata": {},
   "source": [
    "    3-1) Word level "
   ]
  },
  {
   "cell_type": "markdown",
   "metadata": {},
   "source": [
    "    [답변] [fine thank you]"
   ]
  },
  {
   "cell_type": "markdown",
   "metadata": {},
   "source": [
    "    3-2) Character level "
   ]
  },
  {
   "cell_type": "markdown",
   "metadata": {},
   "source": [
    "    [답변] [fin, ine, ne , e t,  th, tha, han, ank, nk , k y,  yo, you]"
   ]
  },
  {
   "cell_type": "markdown",
   "metadata": {},
   "source": [
    "4) n-gram 사용하는 이유?  "
   ]
  },
  {
   "cell_type": "markdown",
   "metadata": {},
   "source": [
    "\\[답변] \n",
    "- bog of word의 단어 순서를 고려하지 않아 문맥이 무시되는 단점 극복\n",
    "- 많은 자연어 처리 어플리케이션 사용 가능 (다음 단어를 예측 할 수 있다. 단어의 스펠링을 체크할 수 있다.)"
   ]
  },
  {
   "cell_type": "markdown",
   "metadata": {},
   "source": [
    "3. 점 A(3,4), 점 B(4,3)의 cosine 유사도를 구하시오.  "
   ]
  },
  {
   "cell_type": "markdown",
   "metadata": {},
   "source": [
    "\\[답변] cosine유사도 = cos(θ) = A∙B / ||A||\\*||B||\n",
    "<br/>     (3\\*4)+(4\\*3)/5*5 = 0.96"
   ]
  },
  {
   "cell_type": "markdown",
   "metadata": {},
   "source": [
    "## 2. 추천시스템  \n",
    "### 아래 코드에서 pass 부분을 지우고 그 자리에 코드 작성해주세요"
   ]
  },
  {
   "cell_type": "markdown",
   "metadata": {},
   "source": [
    "### 0. 추천시스템 종류 정리"
   ]
  },
  {
   "cell_type": "markdown",
   "metadata": {},
   "source": [
    "1. Content-based filtering  "
   ]
  },
  {
   "cell_type": "markdown",
   "metadata": {},
   "source": [
    "\\[답변] 아이템의 특성(컨텐츠 자체의 내용)을 기반으로 비슷한 아이템 추천"
   ]
  },
  {
   "cell_type": "markdown",
   "metadata": {},
   "source": [
    "2. Collaborative filtering  "
   ]
  },
  {
   "cell_type": "markdown",
   "metadata": {},
   "source": [
    "\\[답변] 많은 사용자로부터 얻은 취향 정보를 기반으로 예측하여 추천"
   ]
  },
  {
   "cell_type": "markdown",
   "metadata": {},
   "source": [
    "    - user-based collaborative filtering  "
   ]
  },
  {
   "cell_type": "markdown",
   "metadata": {},
   "source": [
    "    [답변] 사용자 간의 유사도가 기준, 가장 비슷한 사용자의 아이템 중에서 추천"
   ]
  },
  {
   "cell_type": "markdown",
   "metadata": {},
   "source": [
    "    - item-based collaborative filtering  "
   ]
  },
  {
   "cell_type": "markdown",
   "metadata": {},
   "source": [
    "    [답변] 아이템 간의 유사도가 기준, 사용자의 아이템과 가장 유사도가 높은 아이템 추천"
   ]
  },
  {
   "cell_type": "markdown",
   "metadata": {},
   "source": [
    "Content-based filtering을 해봅시다.  \n",
    "보통은 장르를 기준으로 많이 하지만, 자연어처리에 좀 더 익숙해지기 위해서 줄거리를 바탕으로 해보겠습니다.  \n",
    "Collaborative filtering도 한번 직접 해보세요. 재밌습니다:)"
   ]
  },
  {
   "cell_type": "markdown",
   "metadata": {},
   "source": [
    "### 1. CSV 파일 불러와 DataFrame으로 저장"
   ]
  },
  {
   "cell_type": "code",
   "execution_count": 1,
   "metadata": {},
   "outputs": [
    {
     "data": {
      "text/html": [
       "<div>\n",
       "<style scoped>\n",
       "    .dataframe tbody tr th:only-of-type {\n",
       "        vertical-align: middle;\n",
       "    }\n",
       "\n",
       "    .dataframe tbody tr th {\n",
       "        vertical-align: top;\n",
       "    }\n",
       "\n",
       "    .dataframe thead th {\n",
       "        text-align: right;\n",
       "    }\n",
       "</style>\n",
       "<table border=\"1\" class=\"dataframe\">\n",
       "  <thead>\n",
       "    <tr style=\"text-align: right;\">\n",
       "      <th></th>\n",
       "      <th>original_title</th>\n",
       "      <th>overview</th>\n",
       "    </tr>\n",
       "  </thead>\n",
       "  <tbody>\n",
       "    <tr>\n",
       "      <th>0</th>\n",
       "      <td>Avatar</td>\n",
       "      <td>In the 22nd century, a paraplegic Marine is di...</td>\n",
       "    </tr>\n",
       "    <tr>\n",
       "      <th>1</th>\n",
       "      <td>Pirates of the Caribbean: At World's End</td>\n",
       "      <td>Captain Barbossa, long believed to be dead, ha...</td>\n",
       "    </tr>\n",
       "    <tr>\n",
       "      <th>2</th>\n",
       "      <td>Spectre</td>\n",
       "      <td>A cryptic message from Bond’s past sends him o...</td>\n",
       "    </tr>\n",
       "    <tr>\n",
       "      <th>3</th>\n",
       "      <td>The Dark Knight Rises</td>\n",
       "      <td>Following the death of District Attorney Harve...</td>\n",
       "    </tr>\n",
       "    <tr>\n",
       "      <th>4</th>\n",
       "      <td>John Carter</td>\n",
       "      <td>John Carter is a war-weary, former military ca...</td>\n",
       "    </tr>\n",
       "    <tr>\n",
       "      <th>...</th>\n",
       "      <td>...</td>\n",
       "      <td>...</td>\n",
       "    </tr>\n",
       "    <tr>\n",
       "      <th>4798</th>\n",
       "      <td>El Mariachi</td>\n",
       "      <td>El Mariachi just wants to play his guitar and ...</td>\n",
       "    </tr>\n",
       "    <tr>\n",
       "      <th>4799</th>\n",
       "      <td>Newlyweds</td>\n",
       "      <td>A newlywed couple's honeymoon is upended by th...</td>\n",
       "    </tr>\n",
       "    <tr>\n",
       "      <th>4800</th>\n",
       "      <td>Signed, Sealed, Delivered</td>\n",
       "      <td>\"Signed, Sealed, Delivered\" introduces a dedic...</td>\n",
       "    </tr>\n",
       "    <tr>\n",
       "      <th>4801</th>\n",
       "      <td>Shanghai Calling</td>\n",
       "      <td>When ambitious New York attorney Sam is sent t...</td>\n",
       "    </tr>\n",
       "    <tr>\n",
       "      <th>4802</th>\n",
       "      <td>My Date with Drew</td>\n",
       "      <td>Ever since the second grade when he first saw ...</td>\n",
       "    </tr>\n",
       "  </tbody>\n",
       "</table>\n",
       "<p>4803 rows × 2 columns</p>\n",
       "</div>"
      ],
      "text/plain": [
       "                                original_title  \\\n",
       "0                                       Avatar   \n",
       "1     Pirates of the Caribbean: At World's End   \n",
       "2                                      Spectre   \n",
       "3                        The Dark Knight Rises   \n",
       "4                                  John Carter   \n",
       "...                                        ...   \n",
       "4798                               El Mariachi   \n",
       "4799                                 Newlyweds   \n",
       "4800                 Signed, Sealed, Delivered   \n",
       "4801                          Shanghai Calling   \n",
       "4802                         My Date with Drew   \n",
       "\n",
       "                                               overview  \n",
       "0     In the 22nd century, a paraplegic Marine is di...  \n",
       "1     Captain Barbossa, long believed to be dead, ha...  \n",
       "2     A cryptic message from Bond’s past sends him o...  \n",
       "3     Following the death of District Attorney Harve...  \n",
       "4     John Carter is a war-weary, former military ca...  \n",
       "...                                                 ...  \n",
       "4798  El Mariachi just wants to play his guitar and ...  \n",
       "4799  A newlywed couple's honeymoon is upended by th...  \n",
       "4800  \"Signed, Sealed, Delivered\" introduces a dedic...  \n",
       "4801  When ambitious New York attorney Sam is sent t...  \n",
       "4802  Ever since the second grade when he first saw ...  \n",
       "\n",
       "[4803 rows x 2 columns]"
      ]
     },
     "execution_count": 1,
     "metadata": {},
     "output_type": "execute_result"
    }
   ],
   "source": [
    "import pandas as pd\n",
    "movies = pd.read_csv(\"tmdb_5000_movies.csv\")        # tmdb_5000_movies.csv dataframe으로 읽어오기\n",
    "movies = movies[[\"original_title\", \"overview\"]]\n",
    "movies[\"overview\"] = movies[\"overview\"].astype(\"str\")\n",
    "movies"
   ]
  },
  {
   "cell_type": "markdown",
   "metadata": {},
   "source": [
    "### 2. 전처리  \n",
    "출력 예시)\n",
    "\n",
    "    original_title    0\n",
    "    overview          3\n",
    "    dtype: int64\n"
   ]
  },
  {
   "cell_type": "code",
   "execution_count": 2,
   "metadata": {},
   "outputs": [
    {
     "data": {
      "text/plain": [
       "original_title    0\n",
       "overview          0\n",
       "dtype: int64"
      ]
     },
     "execution_count": 2,
     "metadata": {},
     "output_type": "execute_result"
    }
   ],
   "source": [
    "# null 값 개수 확인\n",
    "movies.isnull().sum()"
   ]
  },
  {
   "cell_type": "markdown",
   "metadata": {},
   "source": [
    "1) 줄거리가 NaN인 **영화** drop"
   ]
  },
  {
   "cell_type": "code",
   "execution_count": 8,
   "metadata": {
    "scrolled": true
   },
   "outputs": [
    {
     "data": {
      "text/html": [
       "<div>\n",
       "<style scoped>\n",
       "    .dataframe tbody tr th:only-of-type {\n",
       "        vertical-align: middle;\n",
       "    }\n",
       "\n",
       "    .dataframe tbody tr th {\n",
       "        vertical-align: top;\n",
       "    }\n",
       "\n",
       "    .dataframe thead th {\n",
       "        text-align: right;\n",
       "    }\n",
       "</style>\n",
       "<table border=\"1\" class=\"dataframe\">\n",
       "  <thead>\n",
       "    <tr style=\"text-align: right;\">\n",
       "      <th></th>\n",
       "      <th>original_title</th>\n",
       "      <th>overview</th>\n",
       "    </tr>\n",
       "  </thead>\n",
       "  <tbody>\n",
       "    <tr>\n",
       "      <th>0</th>\n",
       "      <td>Avatar</td>\n",
       "      <td>In the 22nd century, a paraplegic Marine is di...</td>\n",
       "    </tr>\n",
       "    <tr>\n",
       "      <th>1</th>\n",
       "      <td>Pirates of the Caribbean: At World's End</td>\n",
       "      <td>Captain Barbossa, long believed to be dead, ha...</td>\n",
       "    </tr>\n",
       "    <tr>\n",
       "      <th>2</th>\n",
       "      <td>Spectre</td>\n",
       "      <td>A cryptic message from Bond’s past sends him o...</td>\n",
       "    </tr>\n",
       "    <tr>\n",
       "      <th>3</th>\n",
       "      <td>The Dark Knight Rises</td>\n",
       "      <td>Following the death of District Attorney Harve...</td>\n",
       "    </tr>\n",
       "    <tr>\n",
       "      <th>4</th>\n",
       "      <td>John Carter</td>\n",
       "      <td>John Carter is a war-weary, former military ca...</td>\n",
       "    </tr>\n",
       "    <tr>\n",
       "      <th>...</th>\n",
       "      <td>...</td>\n",
       "      <td>...</td>\n",
       "    </tr>\n",
       "    <tr>\n",
       "      <th>4798</th>\n",
       "      <td>El Mariachi</td>\n",
       "      <td>El Mariachi just wants to play his guitar and ...</td>\n",
       "    </tr>\n",
       "    <tr>\n",
       "      <th>4799</th>\n",
       "      <td>Newlyweds</td>\n",
       "      <td>A newlywed couple's honeymoon is upended by th...</td>\n",
       "    </tr>\n",
       "    <tr>\n",
       "      <th>4800</th>\n",
       "      <td>Signed, Sealed, Delivered</td>\n",
       "      <td>\"Signed, Sealed, Delivered\" introduces a dedic...</td>\n",
       "    </tr>\n",
       "    <tr>\n",
       "      <th>4801</th>\n",
       "      <td>Shanghai Calling</td>\n",
       "      <td>When ambitious New York attorney Sam is sent t...</td>\n",
       "    </tr>\n",
       "    <tr>\n",
       "      <th>4802</th>\n",
       "      <td>My Date with Drew</td>\n",
       "      <td>Ever since the second grade when he first saw ...</td>\n",
       "    </tr>\n",
       "  </tbody>\n",
       "</table>\n",
       "<p>4803 rows × 2 columns</p>\n",
       "</div>"
      ],
      "text/plain": [
       "                                original_title  \\\n",
       "0                                       Avatar   \n",
       "1     Pirates of the Caribbean: At World's End   \n",
       "2                                      Spectre   \n",
       "3                        The Dark Knight Rises   \n",
       "4                                  John Carter   \n",
       "...                                        ...   \n",
       "4798                               El Mariachi   \n",
       "4799                                 Newlyweds   \n",
       "4800                 Signed, Sealed, Delivered   \n",
       "4801                          Shanghai Calling   \n",
       "4802                         My Date with Drew   \n",
       "\n",
       "                                               overview  \n",
       "0     In the 22nd century, a paraplegic Marine is di...  \n",
       "1     Captain Barbossa, long believed to be dead, ha...  \n",
       "2     A cryptic message from Bond’s past sends him o...  \n",
       "3     Following the death of District Attorney Harve...  \n",
       "4     John Carter is a war-weary, former military ca...  \n",
       "...                                                 ...  \n",
       "4798  El Mariachi just wants to play his guitar and ...  \n",
       "4799  A newlywed couple's honeymoon is upended by th...  \n",
       "4800  \"Signed, Sealed, Delivered\" introduces a dedic...  \n",
       "4801  When ambitious New York attorney Sam is sent t...  \n",
       "4802  Ever since the second grade when he first saw ...  \n",
       "\n",
       "[4803 rows x 2 columns]"
      ]
     },
     "execution_count": 8,
     "metadata": {},
     "output_type": "execute_result"
    }
   ],
   "source": [
    "movies.dropna()"
   ]
  },
  {
   "cell_type": "markdown",
   "metadata": {},
   "source": [
    "2) \"overview\" column 모두 소문자로, 문자+숫자(\\w)만 남기고 나머지는 띄어쓰기로 대체"
   ]
  },
  {
   "cell_type": "code",
   "execution_count": 7,
   "metadata": {
    "scrolled": true,
    "tags": []
   },
   "outputs": [
    {
     "data": {
      "text/plain": [
       "0       in the 22nd century  a paraplegic marine is di...\n",
       "1       captain barbossa  long believed to be dead  ha...\n",
       "2       a cryptic message from bond s past sends him o...\n",
       "3       following the death of district attorney harve...\n",
       "4       john carter is a war weary  former military ca...\n",
       "                              ...                        \n",
       "4798    el mariachi just wants to play his guitar and ...\n",
       "4799    a newlywed couple s honeymoon is upended by th...\n",
       "4800     signed  sealed  delivered  introduces a dedic...\n",
       "4801    when ambitious new york attorney sam is sent t...\n",
       "4802    ever since the second grade when he first saw ...\n",
       "Name: overview, Length: 4803, dtype: object"
      ]
     },
     "execution_count": 7,
     "metadata": {},
     "output_type": "execute_result"
    }
   ],
   "source": [
    "import re\n",
    "# 되도록 apply, lambda 사용할것!\n",
    "movies[\"overview\"].apply(lambda x : re.sub(\"\\W\", \" \", x.lower()))"
   ]
  },
  {
   "cell_type": "markdown",
   "metadata": {},
   "source": [
    "### 3. TF-IDF 계산"
   ]
  },
  {
   "cell_type": "markdown",
   "metadata": {},
   "source": [
    "1) TF 란?  "
   ]
  },
  {
   "cell_type": "markdown",
   "metadata": {},
   "source": [
    "\\[답변] Term Frequency. 특정 문서에서 특정 단어의 등장 빈도. \n",
    "<br/> 문서가 주어졌을 때, 어떠한 단어가 여러번 등장했다면, 등장한 만큼 단어와 문서의 연관성이 높을것이다.\n",
    "<br/> but, 불용어와 같이 연관성이 없어도 자주 등장하는 단어들이 있음.\n",
    "<br/>=> TF만으로는 문서와 단어의 연관성 나타낼 수 없음"
   ]
  },
  {
   "cell_type": "markdown",
   "metadata": {},
   "source": [
    "2) DF 란?  "
   ]
  },
  {
   "cell_type": "markdown",
   "metadata": {},
   "source": [
    "\\[답변] Document Frequency. 특정 단어가 등장한 문서의 수"
   ]
  },
  {
   "cell_type": "markdown",
   "metadata": {},
   "source": [
    "3) IDF 란?   "
   ]
  },
  {
   "cell_type": "markdown",
   "metadata": {},
   "source": [
    "\\[답변] log(전체 문서의 수/특정 단어가 등장한 문서의 수)\n",
    "<br/> 불용어처럼 연관성이 없어도 자주 등장하는 단어들에게 패널티를 주기 위해 사용"
   ]
  },
  {
   "cell_type": "markdown",
   "metadata": {},
   "source": [
    "라이브러리로 적용해보자..."
   ]
  },
  {
   "cell_type": "code",
   "execution_count": 17,
   "metadata": {
    "tags": []
   },
   "outputs": [],
   "source": [
    "from sklearn.feature_extraction.text import TfidfVectorizer\n",
    "# ngram_range=(1, 2) 는 단어를 1개 혹은 2개 연속으로 보겠다\n",
    "tfidf_vec = TfidfVectorizer(ngram_range=(1, 2))          # Vectorizer 생성\n",
    "tfidf_matrix = tfidf_vec.fit_transform(movies[\"overview\"])      # Vectorizer가 단어들을 학습"
   ]
  },
  {
   "cell_type": "markdown",
   "metadata": {},
   "source": [
    "### 4. 영화 간 **cosine 유사도**  \n",
    "\\[출력예시]  \n",
    "\n",
    "    ### COSINE Similarity ###\n",
    "    [[1.         0.01513636 0.00614044 ... 0.01195144 0.00571986 0.00630023]\n",
    "    [0.01513636 1.         0.01307772 ... 0.01768395 0.00997186 0.00666392]\n",
    "    [0.00614044 0.01307772 1.         ... 0.01288316 0.00565125 0.00612543]\n",
    "    ...\n",
    "    [0.01195144 0.01768395 0.01288316 ... 1.         0.01532266 0.0089986 ]\n",
    "    [0.00571986 0.00997186 0.00565125 ... 0.01532266 1.         0.01649368]\n",
    "    [0.00630023 0.00666392 0.00612543 ... 0.0089986  0.01649368 1.        ]]\n",
    "    [[   0 3603  634 ... 2852 3945 3386]\n",
    "    ### 유사도 기준 index 정렬 ###\n",
    "    [[   0 3603  634 ... 2852 3945 3386]\n",
    "    [   1 2379 2542 ... 3487 3622 3945]\n",
    "    [   2 1343 3161 ... 3534 3637 3082]\n",
    "    ...\n",
    "    [4797 4033  569 ... 2604 3685 1658]\n",
    "    [4798 2017 1480 ... 2108 1658 4511]\n",
    "    [4799 2586  868 ... 3987 2192  669]]\n",
    "\n"
   ]
  },
  {
   "cell_type": "code",
   "execution_count": 18,
   "metadata": {
    "tags": []
   },
   "outputs": [
    {
     "name": "stdout",
     "output_type": "stream",
     "text": [
      "### COSINE Similarity ###\n",
      "[[1.         0.01514413 0.00614504 ... 0.01195829 0.00572386 0.006304  ]\n",
      " [0.01514413 1.         0.01308527 ... 0.0176922  0.00997908 0.00666831]\n",
      " [0.00614504 0.01308527 1.         ... 0.01289    0.00565554 0.00612954]\n",
      " ...\n",
      " [0.01195829 0.0176922  0.01289    ... 1.         0.01532978 0.00900306]\n",
      " [0.00572386 0.00997908 0.00565554 ... 0.01532978 1.         0.01649947]\n",
      " [0.006304   0.00666831 0.00612954 ... 0.00900306 0.01649947 1.        ]]\n",
      "### 유사도 기준 index 정렬 ###\n",
      "[[   0 3604  634 ... 4140 2596 2669]\n",
      " [   1 2379 2542 ...  161 2656 4458]\n",
      " [   2 1343 3162 ... 4144 4148 4180]\n",
      " ...\n",
      " [4800 4034  569 ... 2853 4140 1038]\n",
      " [4801 2017 1480 ... 4140 4458 2108]\n",
      " [4802 2586  868 ... 3988 4513 3152]]\n"
     ]
    }
   ],
   "source": [
    "from sklearn.metrics.pairwise import cosine_similarity\n",
    "import numpy as np\n",
    "plot_similarity = cosine_similarity(tfidf_matrix, tfidf_matrix)     # 줄거리 간 cosine 유사도 구하기 - tfidf_matrix 사용\n",
    "print(\"### COSINE Similarity ###\")\n",
    "print(plot_similarity)\n",
    "similar_index = np.argsort(-plot_similarity)        # 유사도 높은 순서대로 index 정렬\n",
    "print(\"### 유사도 기준 index 정렬 ###\") \n",
    "print(similar_index)"
   ]
  },
  {
   "cell_type": "code",
   "execution_count": 20,
   "metadata": {
    "tags": []
   },
   "outputs": [
    {
     "data": {
      "text/html": [
       "<div>\n",
       "<style scoped>\n",
       "    .dataframe tbody tr th:only-of-type {\n",
       "        vertical-align: middle;\n",
       "    }\n",
       "\n",
       "    .dataframe tbody tr th {\n",
       "        vertical-align: top;\n",
       "    }\n",
       "\n",
       "    .dataframe thead th {\n",
       "        text-align: right;\n",
       "    }\n",
       "</style>\n",
       "<table border=\"1\" class=\"dataframe\">\n",
       "  <thead>\n",
       "    <tr style=\"text-align: right;\">\n",
       "      <th></th>\n",
       "      <th>original_title</th>\n",
       "      <th>overview</th>\n",
       "    </tr>\n",
       "  </thead>\n",
       "  <tbody>\n",
       "    <tr>\n",
       "      <th>0</th>\n",
       "      <td>Avatar</td>\n",
       "      <td>In the 22nd century, a paraplegic Marine is di...</td>\n",
       "    </tr>\n",
       "    <tr>\n",
       "      <th>3604</th>\n",
       "      <td>Apollo 18</td>\n",
       "      <td>Officially, Apollo 17 was the last manned miss...</td>\n",
       "    </tr>\n",
       "    <tr>\n",
       "      <th>634</th>\n",
       "      <td>The Matrix</td>\n",
       "      <td>Set in the 22nd century, The Matrix tells the ...</td>\n",
       "    </tr>\n",
       "    <tr>\n",
       "      <th>529</th>\n",
       "      <td>Tears of the Sun</td>\n",
       "      <td>Navy SEAL Lieutenant A.K. Waters and his elite...</td>\n",
       "    </tr>\n",
       "    <tr>\n",
       "      <th>1013</th>\n",
       "      <td>Child 44</td>\n",
       "      <td>Set in Stalin-era Soviet Union, a disgraced MG...</td>\n",
       "    </tr>\n",
       "    <tr>\n",
       "      <th>775</th>\n",
       "      <td>Supernova</td>\n",
       "      <td>Set in the 22nd century, when a battered salva...</td>\n",
       "    </tr>\n",
       "    <tr>\n",
       "      <th>2130</th>\n",
       "      <td>The American</td>\n",
       "      <td>Dispatched to a small Italian town to await fu...</td>\n",
       "    </tr>\n",
       "    <tr>\n",
       "      <th>2628</th>\n",
       "      <td>Blood and Chocolate</td>\n",
       "      <td>A young teenage werewolf is torn between honor...</td>\n",
       "    </tr>\n",
       "    <tr>\n",
       "      <th>1341</th>\n",
       "      <td>Obitaemyy Ostrov</td>\n",
       "      <td>On the threshold of 22nd century, furrowing th...</td>\n",
       "    </tr>\n",
       "    <tr>\n",
       "      <th>2808</th>\n",
       "      <td>The Exorcist</td>\n",
       "      <td>12-year-old Regan MacNeil begins to adapt an e...</td>\n",
       "    </tr>\n",
       "  </tbody>\n",
       "</table>\n",
       "</div>"
      ],
      "text/plain": [
       "           original_title                                           overview\n",
       "0                  Avatar  In the 22nd century, a paraplegic Marine is di...\n",
       "3604            Apollo 18  Officially, Apollo 17 was the last manned miss...\n",
       "634            The Matrix  Set in the 22nd century, The Matrix tells the ...\n",
       "529      Tears of the Sun  Navy SEAL Lieutenant A.K. Waters and his elite...\n",
       "1013             Child 44  Set in Stalin-era Soviet Union, a disgraced MG...\n",
       "775             Supernova  Set in the 22nd century, when a battered salva...\n",
       "2130         The American  Dispatched to a small Italian town to await fu...\n",
       "2628  Blood and Chocolate  A young teenage werewolf is torn between honor...\n",
       "1341     Obitaemyy Ostrov  On the threshold of 22nd century, furrowing th...\n",
       "2808         The Exorcist  12-year-old Regan MacNeil begins to adapt an e..."
      ]
     },
     "metadata": {},
     "output_type": "display_data"
    }
   ],
   "source": [
    "input_movie = \"Avatar\"          # data에 있는 영화의 제목을 넣어야 합니다.\n",
    "\n",
    "movie_index = movies[movies[\"original_title\"]==input_movie].index.values    # input_movie에 해당하는 index 값 가져오기\n",
    "similar_movies = similar_index[movie_index, :10]                   # 유사도 상위 10개 index 가져오기\n",
    "# 인덱스로 사용하기 위해서는 1차원으로 변형\n",
    "similar_movies_index = similar_movies.reshape(-1)             # similar_movies 1차원 변형\n",
    "display(movies.iloc[similar_movies_index])"
   ]
  },
  {
   "cell_type": "markdown",
   "metadata": {},
   "source": [
    "3주동안의 자연어처리 스터디가 끝났습니다. 다음주부터는 이미지처리 스터디가 시작됩니다.  \n",
    "짧은 기간이라 많은 부분을 다루지는 못했지만, 추후에 프로젝트를 진행하면서 멤버들끼리 딥러닝 등 심화 부분을 공부하시면 더 좋을 것 같습니다.  \n",
    "중간에 시험기간도 겹쳐서 바쁜 와중에도 과제 잘 해주셔서 감사합니다!"
   ]
  }
 ],
 "metadata": {
  "kernelspec": {
   "display_name": "Python 3",
   "language": "python",
   "name": "python3"
  },
  "language_info": {
   "codemirror_mode": {
    "name": "ipython",
    "version": 3
   },
   "file_extension": ".py",
   "mimetype": "text/x-python",
   "name": "python",
   "nbconvert_exporter": "python",
   "pygments_lexer": "ipython3",
   "version": "3.6.10"
  }
 },
 "nbformat": 4,
 "nbformat_minor": 2
}
