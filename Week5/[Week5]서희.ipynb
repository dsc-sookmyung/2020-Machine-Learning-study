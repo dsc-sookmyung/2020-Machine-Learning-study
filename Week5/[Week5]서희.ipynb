{
 "cells": [
  {
   "cell_type": "markdown",
   "metadata": {},
   "source": [
    "# \\[Week5] 추천시스템  \n",
    "## [캐글 데이터](https://www.kaggle.com/tmdb/tmdb-movie-metadata?select=tmdb_5000_movies.csv) tmdb_5000_movies.csv   \n",
    "참고 사이트 : [[구름 Edu]](https://edu.goorm.io/learn/lecture/20671/%EB%94%A5%EB%9F%AC%EB%8B%9D-%EC%9D%B4%EB%A1%A0-%EB%B0%8F-%ED%8C%8C%EC%9D%B4%EC%8D%AC-%EC%8B%A4%EC%8A%B5)"
   ]
  },
  {
   "cell_type": "markdown",
   "metadata": {},
   "source": [
    "## 1. 자연어처리 - 문서 유사도 (용어 정리)"
   ]
  },
  {
   "cell_type": "markdown",
   "metadata": {},
   "source": [
    "1. Bag of Words   "
   ]
  },
  {
   "cell_type": "markdown",
   "metadata": {},
   "source": [
    "단어들의 순서는 전혀 고려하지 않고, 단어들의 출현 빈도(freqeuncy)에만 집중하는 텍스트 데이터의 수치화 표현 방법이다."
   ]
  },
  {
   "cell_type": "markdown",
   "metadata": {},
   "source": [
    "1) 문장 간의 유사도 구하는 방법 "
   ]
  },
  {
   "cell_type": "markdown",
   "metadata": {},
   "source": [
    "BOW로 각 문장을 binary vector로 표현한 후 각 인덱스의 값을 곱하고 전부 더한다.\n",
    "\n",
    "\n",
    "e.g.\n",
    "\n",
    "awesome thank you [1, 1, 1, 0, 0, 0, 0] <br>\n",
    "great thank you &nbsp;&nbsp;&nbsp;&nbsp;&nbsp;&nbsp;&nbsp;[0, 1, 1, 1, 0, 0, 0]\n",
    "\n",
    "1x1 + 1x1 = 2"
   ]
  },
  {
   "cell_type": "markdown",
   "metadata": {},
   "source": [
    "2) 단점"
   ]
  },
  {
   "cell_type": "markdown",
   "metadata": {},
   "source": [
    "- Sparsity\n",
    "\n",
    "If we use all English words for bag of words, the vector will be very long, but very few non zeros\n",
    "\n",
    "실제 사전에는 100만개가 넘는 단어들이 있을 수도 있다. 그렇게 되면 벡터의 차원이 100만개가 넘어가기 때문에 실제 문장하나를 표현할 때 대부분의 값이 0이고 그외의 값들은 상당히 적을 것이다. 결국 학습량이 많아지고 컴퓨터 자원도 상당히 많이 사용하게 된다.\n",
    "\n",
    "e.g. the game is fun [1,1,1,1,0,0,0,0,0,0,0,,,,,,0,0,0,0,0]\n",
    "\n",
    "- Frequent words has more power\n",
    "\n",
    "많이 출현한 단어는 힘이 세진다. 만약 의미없는 단어들이 많이 사용 되었다면 우리가 원하는 결과를 얻기는 어려울 것이다.\n",
    "\n",
    "- Ignoring word orders\n",
    "\n",
    "bag of words will have same vector for totally different sentence if they have same words since it is ignoring word orders\n",
    "\n",
    "e.g. home run VS run home\n",
    "\n",
    "Cf. n-gram으로 보완 가능\n",
    "\n",
    "- Out of vocabulary\n",
    "\n",
    "What if text has mis-spelling? (good moning, tank yo)\n",
    "\n",
    "What if text is unseen from your dataset? (gr8, gooood)\n",
    "\n",
    "Bag of words cannot handle unseen words"
   ]
  },
  {
   "cell_type": "markdown",
   "metadata": {},
   "source": [
    "2. n-그램"
   ]
  },
  {
   "cell_type": "markdown",
   "metadata": {},
   "source": [
    "contiguous sequence of N tokens (words, characters... )"
   ]
  },
  {
   "cell_type": "markdown",
   "metadata": {},
   "source": [
    "**(예제) fine thank you**  \n",
    "1) 1-gram (unigram)"
   ]
  },
  {
   "cell_type": "markdown",
   "metadata": {},
   "source": [
    "    1-1) Word level  "
   ]
  },
  {
   "cell_type": "markdown",
   "metadata": {},
   "source": [
    "    [fine,thank,you]"
   ]
  },
  {
   "cell_type": "markdown",
   "metadata": {},
   "source": [
    "    1-2) Character level"
   ]
  },
  {
   "cell_type": "markdown",
   "metadata": {},
   "source": [
    "    [f,i,n,e, ,t,h,a,n,k, ,y,o,u]"
   ]
  },
  {
   "cell_type": "markdown",
   "metadata": {},
   "source": [
    "2) 2-gram (bigram)"
   ]
  },
  {
   "cell_type": "markdown",
   "metadata": {},
   "source": [
    "    2-1) Word level"
   ]
  },
  {
   "cell_type": "markdown",
   "metadata": {},
   "source": [
    "    [fine thank,thank you]  "
   ]
  },
  {
   "cell_type": "markdown",
   "metadata": {},
   "source": [
    "    2-2) Character level "
   ]
  },
  {
   "cell_type": "markdown",
   "metadata": {},
   "source": [
    "    [fi,in,ne,e , t,th,ha,an,nk,k , y,yo,ou]"
   ]
  },
  {
   "cell_type": "markdown",
   "metadata": {},
   "source": [
    "3) 3-gram (trigram)"
   ]
  },
  {
   "cell_type": "markdown",
   "metadata": {},
   "source": [
    "    3-1) Word level "
   ]
  },
  {
   "cell_type": "markdown",
   "metadata": {},
   "source": [
    "    [fine thank you]"
   ]
  },
  {
   "cell_type": "markdown",
   "metadata": {},
   "source": [
    "    3-2) Character level "
   ]
  },
  {
   "cell_type": "markdown",
   "metadata": {},
   "source": [
    "    [fin,ine,ne ,e t, th,tha,han,ank,nk ,k y, yo,you]"
   ]
  },
  {
   "cell_type": "markdown",
   "metadata": {},
   "source": [
    "4) n-gram 사용하는 이유?  "
   ]
  },
  {
   "cell_type": "markdown",
   "metadata": {},
   "source": [
    "- Overcome bag of words drawbacks (ignoring sequence of words)\n",
    "\n",
    "- Next word prediction\n",
    "\n",
    "- Find Misspelling\n",
    "\n",
    "- And more..."
   ]
  },
  {
   "cell_type": "markdown",
   "metadata": {},
   "source": [
    "3. 점 A(3,4), 점 B(4,3)의 cosine 유사도를 구하시오.  "
   ]
  },
  {
   "cell_type": "markdown",
   "metadata": {},
   "source": [
    "{(3 * 4) + (4 * 3)} / (5 * 5) = 0.96"
   ]
  },
  {
   "cell_type": "markdown",
   "metadata": {},
   "source": [
    "## 2. 추천시스템  "
   ]
  },
  {
   "cell_type": "markdown",
   "metadata": {},
   "source": [
    "### 0. 추천시스템 종류 정리"
   ]
  },
  {
   "cell_type": "markdown",
   "metadata": {},
   "source": [
    "1. Content-based filtering  "
   ]
  },
  {
   "cell_type": "markdown",
   "metadata": {},
   "source": [
    "아이템이나 유저를 분석하여 비슷한 아이템을 추천한다. 아이템과 유저간의 액션을 분석하는 것이 아니라 컨텐츠 자체를 분석하기 때문에 많은 양의 유저 액션을 요구하지 않는다는 장점이 있다. CF의 단점인 cold start가 없다."
   ]
  },
  {
   "cell_type": "markdown",
   "metadata": {},
   "source": [
    "2. Collaborative filtering  "
   ]
  },
  {
   "cell_type": "markdown",
   "metadata": {},
   "source": [
    "유저의 평가 내역을 이용한다. 아이템이나 유저의 유사도를 모델링하고 측정하여 추천한다.\n",
    "\n",
    "단점)\n",
    "- Cold start<br>\n",
    "    : 유저의 평가 내역이 필요하다. 데이터가 없는 서비스 초기에는 추천이 부정확하다.\n",
    "- Scalability\n",
    "- Sparsity"
   ]
  },
  {
   "cell_type": "markdown",
   "metadata": {},
   "source": [
    "    - user-based collaborative filtering  "
   ]
  },
  {
   "cell_type": "markdown",
   "metadata": {},
   "source": [
    "    유저의 행위를 측정 및 분석하고 이를 기반으로 유저 간 유사도를 측정한다. 유사도가 높은 유저의 선호 아이템들을 기반으로 추천한다."
   ]
  },
  {
   "cell_type": "markdown",
   "metadata": {},
   "source": [
    "    - item-based collaborative filtering  "
   ]
  },
  {
   "cell_type": "markdown",
   "metadata": {},
   "source": [
    "    아이템 간의 유사도를 측정하며, 유저가 어떤 아이템을 선호하면 유사한 다른 아이템을 추천한다."
   ]
  },
  {
   "cell_type": "markdown",
   "metadata": {},
   "source": [
    "Content-based filtering을 해봅시다.  \n",
    "보통은 장르를 기준으로 많이 하지만, 자연어처리에 좀 더 익숙해지기 위해서 줄거리를 바탕으로 해보겠습니다.  \n",
    "Collaborative filtering도 한번 직접 해보세요. 재밌습니다:)"
   ]
  },
  {
   "cell_type": "markdown",
   "metadata": {},
   "source": [
    "### 1. CSV 파일 불러와 DataFrame으로 저장"
   ]
  },
  {
   "cell_type": "code",
   "execution_count": 1,
   "metadata": {},
   "outputs": [
    {
     "data": {
      "text/html": [
       "<div>\n",
       "<style scoped>\n",
       "    .dataframe tbody tr th:only-of-type {\n",
       "        vertical-align: middle;\n",
       "    }\n",
       "\n",
       "    .dataframe tbody tr th {\n",
       "        vertical-align: top;\n",
       "    }\n",
       "\n",
       "    .dataframe thead th {\n",
       "        text-align: right;\n",
       "    }\n",
       "</style>\n",
       "<table border=\"1\" class=\"dataframe\">\n",
       "  <thead>\n",
       "    <tr style=\"text-align: right;\">\n",
       "      <th></th>\n",
       "      <th>original_title</th>\n",
       "      <th>overview</th>\n",
       "    </tr>\n",
       "  </thead>\n",
       "  <tbody>\n",
       "    <tr>\n",
       "      <th>0</th>\n",
       "      <td>Avatar</td>\n",
       "      <td>In the 22nd century, a paraplegic Marine is di...</td>\n",
       "    </tr>\n",
       "    <tr>\n",
       "      <th>1</th>\n",
       "      <td>Pirates of the Caribbean: At World's End</td>\n",
       "      <td>Captain Barbossa, long believed to be dead, ha...</td>\n",
       "    </tr>\n",
       "    <tr>\n",
       "      <th>2</th>\n",
       "      <td>Spectre</td>\n",
       "      <td>A cryptic message from Bond’s past sends him o...</td>\n",
       "    </tr>\n",
       "    <tr>\n",
       "      <th>3</th>\n",
       "      <td>The Dark Knight Rises</td>\n",
       "      <td>Following the death of District Attorney Harve...</td>\n",
       "    </tr>\n",
       "    <tr>\n",
       "      <th>4</th>\n",
       "      <td>John Carter</td>\n",
       "      <td>John Carter is a war-weary, former military ca...</td>\n",
       "    </tr>\n",
       "    <tr>\n",
       "      <th>...</th>\n",
       "      <td>...</td>\n",
       "      <td>...</td>\n",
       "    </tr>\n",
       "    <tr>\n",
       "      <th>4798</th>\n",
       "      <td>El Mariachi</td>\n",
       "      <td>El Mariachi just wants to play his guitar and ...</td>\n",
       "    </tr>\n",
       "    <tr>\n",
       "      <th>4799</th>\n",
       "      <td>Newlyweds</td>\n",
       "      <td>A newlywed couple's honeymoon is upended by th...</td>\n",
       "    </tr>\n",
       "    <tr>\n",
       "      <th>4800</th>\n",
       "      <td>Signed, Sealed, Delivered</td>\n",
       "      <td>\"Signed, Sealed, Delivered\" introduces a dedic...</td>\n",
       "    </tr>\n",
       "    <tr>\n",
       "      <th>4801</th>\n",
       "      <td>Shanghai Calling</td>\n",
       "      <td>When ambitious New York attorney Sam is sent t...</td>\n",
       "    </tr>\n",
       "    <tr>\n",
       "      <th>4802</th>\n",
       "      <td>My Date with Drew</td>\n",
       "      <td>Ever since the second grade when he first saw ...</td>\n",
       "    </tr>\n",
       "  </tbody>\n",
       "</table>\n",
       "<p>4803 rows × 2 columns</p>\n",
       "</div>"
      ],
      "text/plain": [
       "                                original_title  \\\n",
       "0                                       Avatar   \n",
       "1     Pirates of the Caribbean: At World's End   \n",
       "2                                      Spectre   \n",
       "3                        The Dark Knight Rises   \n",
       "4                                  John Carter   \n",
       "...                                        ...   \n",
       "4798                               El Mariachi   \n",
       "4799                                 Newlyweds   \n",
       "4800                 Signed, Sealed, Delivered   \n",
       "4801                          Shanghai Calling   \n",
       "4802                         My Date with Drew   \n",
       "\n",
       "                                               overview  \n",
       "0     In the 22nd century, a paraplegic Marine is di...  \n",
       "1     Captain Barbossa, long believed to be dead, ha...  \n",
       "2     A cryptic message from Bond’s past sends him o...  \n",
       "3     Following the death of District Attorney Harve...  \n",
       "4     John Carter is a war-weary, former military ca...  \n",
       "...                                                 ...  \n",
       "4798  El Mariachi just wants to play his guitar and ...  \n",
       "4799  A newlywed couple's honeymoon is upended by th...  \n",
       "4800  \"Signed, Sealed, Delivered\" introduces a dedic...  \n",
       "4801  When ambitious New York attorney Sam is sent t...  \n",
       "4802  Ever since the second grade when he first saw ...  \n",
       "\n",
       "[4803 rows x 2 columns]"
      ]
     },
     "execution_count": 1,
     "metadata": {},
     "output_type": "execute_result"
    }
   ],
   "source": [
    "import pandas as pd\n",
    "movies = pd.read_csv('tmdb_5000_movies.csv')           # tmdb_5000_movies.csv dataframe으로 읽어오기\n",
    "movies = movies[[\"original_title\", \"overview\"]]\n",
    "movies[\"overview\"] = movies[\"overview\"].astype(\"str\")\n",
    "movies"
   ]
  },
  {
   "cell_type": "markdown",
   "metadata": {},
   "source": [
    "### 2. 전처리  \n",
    "출력 예시)\n",
    "\n",
    "    original_title    0\n",
    "    overview          3\n",
    "    dtype: int64\n"
   ]
  },
  {
   "cell_type": "code",
   "execution_count": 5,
   "metadata": {},
   "outputs": [
    {
     "data": {
      "text/plain": [
       "original_title    0\n",
       "overview          0\n",
       "dtype: int64"
      ]
     },
     "execution_count": 5,
     "metadata": {},
     "output_type": "execute_result"
    }
   ],
   "source": [
    "# null 값 개수 확인\n",
    "movies.isnull().sum()"
   ]
  },
  {
   "cell_type": "markdown",
   "metadata": {},
   "source": [
    "1) 줄거리가 NaN인 **영화** drop"
   ]
  },
  {
   "cell_type": "code",
   "execution_count": 10,
   "metadata": {},
   "outputs": [
    {
     "data": {
      "text/html": [
       "<div>\n",
       "<style scoped>\n",
       "    .dataframe tbody tr th:only-of-type {\n",
       "        vertical-align: middle;\n",
       "    }\n",
       "\n",
       "    .dataframe tbody tr th {\n",
       "        vertical-align: top;\n",
       "    }\n",
       "\n",
       "    .dataframe thead th {\n",
       "        text-align: right;\n",
       "    }\n",
       "</style>\n",
       "<table border=\"1\" class=\"dataframe\">\n",
       "  <thead>\n",
       "    <tr style=\"text-align: right;\">\n",
       "      <th></th>\n",
       "      <th>original_title</th>\n",
       "      <th>overview</th>\n",
       "    </tr>\n",
       "  </thead>\n",
       "  <tbody>\n",
       "  </tbody>\n",
       "</table>\n",
       "</div>"
      ],
      "text/plain": [
       "Empty DataFrame\n",
       "Columns: [original_title, overview]\n",
       "Index: []"
      ]
     },
     "execution_count": 10,
     "metadata": {},
     "output_type": "execute_result"
    }
   ],
   "source": [
    "movies[movies['overview'].isnull()]"
   ]
  },
  {
   "cell_type": "markdown",
   "metadata": {},
   "source": [
    "2) \"overview\" column 모두 소문자로, 문자+숫자(\\w)만 남기고 나머지는 띄어쓰기로 대체"
   ]
  },
  {
   "cell_type": "code",
   "execution_count": 16,
   "metadata": {
    "tags": []
   },
   "outputs": [],
   "source": [
    "import re\n",
    "# 되도록 apply, lambda 사용할것!\n",
    "movies['overview'] = movies['overview'].apply(lambda x: re.sub('[^a-z0-9]+', ' ', x.lower()))"
   ]
  },
  {
   "cell_type": "markdown",
   "metadata": {},
   "source": [
    "### 3. TF-IDF 계산"
   ]
  },
  {
   "cell_type": "markdown",
   "metadata": {},
   "source": [
    "1) TF 란?  "
   ]
  },
  {
   "cell_type": "markdown",
   "metadata": {},
   "source": [
    "Term Frequency\n",
    "\n",
    "TF measures how frequently a term occurs in a document\n",
    "\n",
    "If a term occurs more times than other terms in a document, the term has more relevance than other terms for the document"
   ]
  },
  {
   "cell_type": "markdown",
   "metadata": {},
   "source": [
    "2) DF 란?  "
   ]
  },
  {
   "cell_type": "markdown",
   "metadata": {},
   "source": [
    "Document Frequency\n",
    "\n",
    "단어 자체가 문서군 내에서 자주 사용되는 경우, 이것은 그 단어가 흔하게 등장한다는 것을 의미한다."
   ]
  },
  {
   "cell_type": "markdown",
   "metadata": {},
   "source": [
    "3) IDF 란?   "
   ]
  },
  {
   "cell_type": "markdown",
   "metadata": {},
   "source": [
    "Inverse Document Frequency\n",
    "\n",
    "Log (Total # of Docs / # of Docs with the term in it) <br>\n",
    "Cf. Docs: 문장, term: 단어"
   ]
  },
  {
   "cell_type": "markdown",
   "metadata": {},
   "source": [
    "TF-IDF: To find how relevant a term in a document (numerically) <br>\n",
    "relevant: a word relevance is the amount of info that gives about its context"
   ]
  },
  {
   "cell_type": "markdown",
   "metadata": {},
   "source": [
    "라이브러리로 적용해보자..."
   ]
  },
  {
   "cell_type": "code",
   "execution_count": 26,
   "metadata": {
    "tags": []
   },
   "outputs": [],
   "source": [
    "from sklearn.feature_extraction.text import TfidfVectorizer\n",
    "# ngram_range=(1, 2) 는 단어를 1개 혹은 2개 연속으로 보겠다\n",
    "tfidf_vec = TfidfVectorizer(ngram_range = (1,2))        # Vectorizer 생성\n",
    "tfidf_matrix = tfidf_vec.fit_transform(movies['overview'])       # Vectorizer가 단어들을 학습"
   ]
  },
  {
   "cell_type": "markdown",
   "metadata": {},
   "source": [
    "### 4. 영화 간 **cosine 유사도**  \n",
    "\\[출력예시]  \n",
    "\n",
    "    ### COSINE Similarity ###\n",
    "    [[1.         0.01513636 0.00614044 ... 0.01195144 0.00571986 0.00630023]\n",
    "    [0.01513636 1.         0.01307772 ... 0.01768395 0.00997186 0.00666392]\n",
    "    [0.00614044 0.01307772 1.         ... 0.01288316 0.00565125 0.00612543]\n",
    "    ...\n",
    "    [0.01195144 0.01768395 0.01288316 ... 1.         0.01532266 0.0089986 ]\n",
    "    [0.00571986 0.00997186 0.00565125 ... 0.01532266 1.         0.01649368]\n",
    "    [0.00630023 0.00666392 0.00612543 ... 0.0089986  0.01649368 1.        ]]\n",
    "    [[   0 3603  634 ... 2852 3945 3386]\n",
    "    ### 유사도 기준 index 정렬 ###\n",
    "    [[   0 3603  634 ... 2852 3945 3386]\n",
    "    [   1 2379 2542 ... 3487 3622 3945]\n",
    "    [   2 1343 3161 ... 3534 3637 3082]\n",
    "    ...\n",
    "    [4797 4033  569 ... 2604 3685 1658]\n",
    "    [4798 2017 1480 ... 2108 1658 4511]\n",
    "    [4799 2586  868 ... 3987 2192  669]]\n",
    "\n"
   ]
  },
  {
   "cell_type": "code",
   "execution_count": 56,
   "metadata": {
    "scrolled": true,
    "tags": []
   },
   "outputs": [
    {
     "ename": "SyntaxError",
     "evalue": "invalid syntax (<ipython-input-56-6a48f651b3bb>, line 6)",
     "output_type": "error",
     "traceback": [
      "\u001b[1;36m  File \u001b[1;32m\"<ipython-input-56-6a48f651b3bb>\"\u001b[1;36m, line \u001b[1;32m6\u001b[0m\n\u001b[1;33m    similar_index = sorted(list(enumerate(plot_similarity[])), key=lambda x: x[1], reverse=True)            # 유사도 높은 순서대로 index 정렬\u001b[0m\n\u001b[1;37m                                                          ^\u001b[0m\n\u001b[1;31mSyntaxError\u001b[0m\u001b[1;31m:\u001b[0m invalid syntax\n"
     ]
    }
   ],
   "source": [
    "from sklearn.metrics.pairwise import cosine_similarity\n",
    "import numpy as np\n",
    "plot_similarity = cosine_similarity(tfidf_matrix, tfidf_matrix)        # 줄거리 간 cosine 유사도 구하기 - tfidf_matrix 사용\n",
    "print(\"### COSINE Similarity ###\")\n",
    "print(plot_similarity)\n",
    "similar_index = sorted(list(enumerate(plot_similarity[])), key=lambda x: x[1], reverse=True)            # 유사도 높은 순서대로 index 정렬\n",
    "print(\"### 유사도 기준 index 정렬 ###\") \n",
    "print(similar_index)"
   ]
  },
  {
   "cell_type": "code",
   "execution_count": 57,
   "metadata": {
    "tags": []
   },
   "outputs": [
    {
     "ename": "AttributeError",
     "evalue": "'list' object has no attribute 'reshape'",
     "output_type": "error",
     "traceback": [
      "\u001b[1;31m---------------------------------------------------------------------------\u001b[0m",
      "\u001b[1;31mAttributeError\u001b[0m                            Traceback (most recent call last)",
      "\u001b[1;32m<ipython-input-57-c96c68cf1f4f>\u001b[0m in \u001b[0;36m<module>\u001b[1;34m\u001b[0m\n\u001b[0;32m      4\u001b[0m \u001b[0msimilar_movies\u001b[0m \u001b[1;33m=\u001b[0m \u001b[0msorted\u001b[0m\u001b[1;33m(\u001b[0m\u001b[0mlist\u001b[0m\u001b[1;33m(\u001b[0m\u001b[0menumerate\u001b[0m\u001b[1;33m(\u001b[0m\u001b[0mplot_similarity\u001b[0m\u001b[1;33m[\u001b[0m\u001b[0mmovie_index\u001b[0m\u001b[1;33m]\u001b[0m\u001b[1;33m)\u001b[0m\u001b[1;33m)\u001b[0m\u001b[1;33m,\u001b[0m \u001b[0mkey\u001b[0m\u001b[1;33m=\u001b[0m\u001b[1;32mlambda\u001b[0m \u001b[0mx\u001b[0m\u001b[1;33m:\u001b[0m \u001b[0mx\u001b[0m\u001b[1;33m[\u001b[0m\u001b[1;36m1\u001b[0m\u001b[1;33m]\u001b[0m\u001b[1;33m,\u001b[0m \u001b[0mreverse\u001b[0m\u001b[1;33m=\u001b[0m\u001b[1;32mTrue\u001b[0m\u001b[1;33m)\u001b[0m\u001b[1;33m[\u001b[0m\u001b[1;33m:\u001b[0m\u001b[1;36m10\u001b[0m\u001b[1;33m]\u001b[0m        \u001b[1;31m# 유사도 상위 10개 index 가져오기\u001b[0m\u001b[1;33m\u001b[0m\u001b[1;33m\u001b[0m\u001b[0m\n\u001b[0;32m      5\u001b[0m \u001b[1;31m# 인덱스로 사용하기 위해서는 1차원으로 변형\u001b[0m\u001b[1;33m\u001b[0m\u001b[1;33m\u001b[0m\u001b[1;33m\u001b[0m\u001b[0m\n\u001b[1;32m----> 6\u001b[1;33m \u001b[0msimilar_movies_index\u001b[0m \u001b[1;33m=\u001b[0m \u001b[0msimilar_movies\u001b[0m\u001b[1;33m.\u001b[0m\u001b[0mreshape\u001b[0m\u001b[1;33m(\u001b[0m\u001b[1;36m10\u001b[0m\u001b[1;33m,\u001b[0m\u001b[1;36m1\u001b[0m\u001b[1;33m)\u001b[0m             \u001b[1;31m# similar_movies 1차원 변형\u001b[0m\u001b[1;33m\u001b[0m\u001b[1;33m\u001b[0m\u001b[0m\n\u001b[0m\u001b[0;32m      7\u001b[0m \u001b[0mdisplay\u001b[0m\u001b[1;33m(\u001b[0m\u001b[0mmovies\u001b[0m\u001b[1;33m.\u001b[0m\u001b[0miloc\u001b[0m\u001b[1;33m[\u001b[0m\u001b[0msimilar_movies_index\u001b[0m\u001b[1;33m]\u001b[0m\u001b[1;33m)\u001b[0m\u001b[1;33m\u001b[0m\u001b[1;33m\u001b[0m\u001b[0m\n",
      "\u001b[1;31mAttributeError\u001b[0m: 'list' object has no attribute 'reshape'"
     ]
    }
   ],
   "source": [
    "input_movie = \"Avatar\"          # data에 있는 영화의 제목을 넣어야 합니다.\n",
    "\n",
    "movie_index = movies[movies['original_title']=='Avatar'].index[0]    # input_movie에 해당하는 index 값 가져오기\n",
    "similar_movies = sorted(list(enumerate(plot_similarity[movie_index])), key=lambda x: x[1], reverse=True)[:10]        # 유사도 상위 10개 index 가져오기\n",
    "# 인덱스로 사용하기 위해서는 1차원으로 변형\n",
    "similar_movies_index = similar_movies.reshape(10,1)             # similar_movies 1차원 변형\n",
    "display(movies.iloc[similar_movies_index])"
   ]
  },
  {
   "cell_type": "markdown",
   "metadata": {},
   "source": [
    "3주동안의 자연어처리 스터디가 끝났습니다. 다음주부터는 이미지처리 스터디가 시작됩니다.  \n",
    "짧은 기간이라 많은 부분을 다루지는 못했지만, 추후에 프로젝트를 진행하면서 멤버들끼리 딥러닝 등 심화 부분을 공부하시면 더 좋을 것 같습니다.  \n",
    "중간에 시험기간도 겹쳐서 바쁜 와중에도 과제 잘 해주셔서 감사합니다!"
   ]
  },
  {
   "cell_type": "code",
   "execution_count": null,
   "metadata": {},
   "outputs": [],
   "source": []
  }
 ],
 "metadata": {
  "kernelspec": {
   "display_name": "Python 3",
   "language": "python",
   "name": "python3"
  },
  "language_info": {
   "codemirror_mode": {
    "name": "ipython",
    "version": 3
   },
   "file_extension": ".py",
   "mimetype": "text/x-python",
   "name": "python",
   "nbconvert_exporter": "python",
   "pygments_lexer": "ipython3",
   "version": "3.8.3"
  }
 },
 "nbformat": 4,
 "nbformat_minor": 2
}
