{
 "cells": [
  {
   "cell_type": "markdown",
   "metadata": {},
   "source": [
    "# \\[Week5] 추천시스템  \n",
    "## [캐글 데이터](https://www.kaggle.com/tmdb/tmdb-movie-metadata?select=tmdb_5000_movies.csv) tmdb_5000_movies.csv   \n",
    "참고 사이트 : [[구름 Edu]](https://edu.goorm.io/learn/lecture/20671/%EB%94%A5%EB%9F%AC%EB%8B%9D-%EC%9D%B4%EB%A1%A0-%EB%B0%8F-%ED%8C%8C%EC%9D%B4%EC%8D%AC-%EC%8B%A4%EC%8A%B5)"
   ]
  },
  {
   "cell_type": "markdown",
   "metadata": {},
   "source": [
    "## 1. 자연어처리 - 문서 유사도 (용어 정리)"
   ]
  },
  {
   "cell_type": "markdown",
   "metadata": {},
   "source": [
    "1. Bag of Words   "
   ]
  },
  {
   "cell_type": "markdown",
   "metadata": {},
   "source": [
    "\\[답변] 가방 속에 단어와 단어의 빈도수가 쌍으로 들어가있다. 가방을 흔들면 순서가 뒤죽박죽 섞인다.   \n",
    "문장 유사도 구할 때, ml model의 입력값으로 사용 가능. "
   ]
  },
  {
   "cell_type": "markdown",
   "metadata": {},
   "source": [
    "1) 문장 간의 유사도 구하는 방법 "
   ]
  },
  {
   "cell_type": "markdown",
   "metadata": {},
   "source": [
    "\\[답변] 두 문장의 BoW의 값을 인덱스 별로 곱해서 더해준다. 값이 클수록 유사도가 높다. "
   ]
  },
  {
   "cell_type": "markdown",
   "metadata": {},
   "source": [
    "2) 단점"
   ]
  },
  {
   "cell_type": "markdown",
   "metadata": {},
   "source": [
    "\\[답변] sparsity; vector 차원이 커지면 0이 많아지고 메모리 비효율적이다.   \n",
    "frequent words has more power   \n",
    "ignoring word orders; 가방에 들어가있어서 출현 순서가 고려되지 않는다.    \n",
    "out of vocabulary; 처음 보는 단어는 처리를 못한다. "
   ]
  },
  {
   "cell_type": "markdown",
   "metadata": {},
   "source": [
    "2. n-그램"
   ]
  },
  {
   "cell_type": "markdown",
   "metadata": {},
   "source": [
    "\\[답변] 연속적으로 n개의 token으로 구성된 것. "
   ]
  },
  {
   "cell_type": "markdown",
   "metadata": {},
   "source": [
    "**(예제) fine thank you**  \n",
    "1) 1-gram"
   ]
  },
  {
   "cell_type": "markdown",
   "metadata": {},
   "source": [
    "    1-1) Word level  "
   ]
  },
  {
   "cell_type": "markdown",
   "metadata": {},
   "source": [
    "    [답변]  [fine, thank, you]"
   ]
  },
  {
   "cell_type": "markdown",
   "metadata": {},
   "source": [
    "    1-2) Character level"
   ]
  },
  {
   "cell_type": "markdown",
   "metadata": {},
   "source": [
    "    [답변]  [f, i, n, e,  , t, h, a, n, k,  , y, o, u]"
   ]
  },
  {
   "cell_type": "markdown",
   "metadata": {},
   "source": [
    "2) 2-gram"
   ]
  },
  {
   "cell_type": "markdown",
   "metadata": {},
   "source": [
    "    2-1) Word level"
   ]
  },
  {
   "cell_type": "markdown",
   "metadata": {},
   "source": [
    "    [답변]  [fine thank, thank you]"
   ]
  },
  {
   "cell_type": "markdown",
   "metadata": {},
   "source": [
    "    2-2) Character level "
   ]
  },
  {
   "cell_type": "markdown",
   "metadata": {},
   "source": [
    "    [답변] [fi, in, ne, e ,  t, th, ha, an, nk, k ,  y, yo, ou]"
   ]
  },
  {
   "cell_type": "markdown",
   "metadata": {},
   "source": [
    "3) 3-gram"
   ]
  },
  {
   "cell_type": "markdown",
   "metadata": {},
   "source": [
    "    3-1) Word level "
   ]
  },
  {
   "cell_type": "markdown",
   "metadata": {},
   "source": [
    "    [답변] [fine thank you]"
   ]
  },
  {
   "cell_type": "markdown",
   "metadata": {},
   "source": [
    "    3-2) Character level "
   ]
  },
  {
   "cell_type": "markdown",
   "metadata": {},
   "source": [
    "    [답변] [fin, ine, ne , e t,  th, tha, han, ank, nk , k y,  yo, you]"
   ]
  },
  {
   "cell_type": "markdown",
   "metadata": {},
   "source": [
    "4) n-gram 사용하는 이유?  "
   ]
  },
  {
   "cell_type": "markdown",
   "metadata": {},
   "source": [
    "\\[답변] BoW의 순서 무시 단점을 극복 가능. 다음 단어 예측, 오타 찾기"
   ]
  },
  {
   "cell_type": "markdown",
   "metadata": {},
   "source": [
    "3. 점 A(3,4), 점 B(4,3)의 cosine 유사도를 구하시오.  "
   ]
  },
  {
   "cell_type": "markdown",
   "metadata": {},
   "source": [
    "\\[답변] A * B / (|A| * |B|) = ((3 * 4) + (4 * 3)) / (5 * 5) = cos(16.26°)"
   ]
  },
  {
   "cell_type": "markdown",
   "metadata": {},
   "source": [
    "## 2. 추천시스템  \n",
    "### 아래 코드에서 pass 부분을 지우고 그 자리에 코드 작성해주세요"
   ]
  },
  {
   "cell_type": "markdown",
   "metadata": {},
   "source": [
    "### 0. 추천시스템 종류 정리"
   ]
  },
  {
   "cell_type": "markdown",
   "metadata": {},
   "source": [
    "1. Content-based filtering  "
   ]
  },
  {
   "cell_type": "markdown",
   "metadata": {},
   "source": [
    "\\[답변] "
   ]
  },
  {
   "cell_type": "markdown",
   "metadata": {},
   "source": [
    "2. Collaborative filtering  "
   ]
  },
  {
   "cell_type": "markdown",
   "metadata": {},
   "source": [
    "\\[답변]"
   ]
  },
  {
   "cell_type": "markdown",
   "metadata": {},
   "source": [
    "    - user-based collaborative filtering  "
   ]
  },
  {
   "cell_type": "markdown",
   "metadata": {},
   "source": [
    "    [답변]"
   ]
  },
  {
   "cell_type": "markdown",
   "metadata": {},
   "source": [
    "    - item-based collaborative filtering  "
   ]
  },
  {
   "cell_type": "markdown",
   "metadata": {},
   "source": [
    "    [답변]"
   ]
  },
  {
   "cell_type": "markdown",
   "metadata": {},
   "source": [
    "Content-based filtering을 해봅시다.  \n",
    "보통은 장르를 기준으로 많이 하지만, 자연어처리에 좀 더 익숙해지기 위해서 줄거리를 바탕으로 해보겠습니다.  \n",
    "Collaborative filtering도 한번 직접 해보세요. 재밌습니다:)"
   ]
  },
  {
   "cell_type": "markdown",
   "metadata": {},
   "source": [
    "### 1. CSV 파일 불러와 DataFrame으로 저장"
   ]
  },
  {
   "cell_type": "code",
   "execution_count": null,
   "metadata": {},
   "outputs": [],
   "source": [
    "import pandas as pd\n",
    "movies = pass           # tmdb_5000_movies.csv dataframe으로 읽어오기\n",
    "movies = movies[[\"original_title\", \"overview\"]]\n",
    "movies[\"overview\"] = movies[\"overview\"].astype(\"str\")\n",
    "movies"
   ]
  },
  {
   "cell_type": "markdown",
   "metadata": {},
   "source": [
    "### 2. 전처리  \n",
    "출력 예시)\n",
    "\n",
    "    original_title    0\n",
    "    overview          3\n",
    "    dtype: int64\n"
   ]
  },
  {
   "cell_type": "code",
   "execution_count": null,
   "metadata": {},
   "outputs": [],
   "source": [
    "# null 값 개수 확인\n",
    "pass"
   ]
  },
  {
   "cell_type": "markdown",
   "metadata": {},
   "source": [
    "1) 줄거리가 NaN인 **영화** drop"
   ]
  },
  {
   "cell_type": "code",
   "execution_count": null,
   "metadata": {},
   "outputs": [],
   "source": [
    "pass"
   ]
  },
  {
   "cell_type": "markdown",
   "metadata": {},
   "source": [
    "2) \"overview\" column 모두 소문자로, 문자+숫자(\\w)만 남기고 나머지는 띄어쓰기로 대체"
   ]
  },
  {
   "cell_type": "code",
   "execution_count": null,
   "metadata": {
    "tags": []
   },
   "outputs": [],
   "source": [
    "import re\n",
    "# 되도록 apply, lambda 사용할것!\n",
    "pass"
   ]
  },
  {
   "cell_type": "markdown",
   "metadata": {},
   "source": [
    "### 3. TF-IDF 계산"
   ]
  },
  {
   "cell_type": "markdown",
   "metadata": {},
   "source": [
    "1) TF 란?  "
   ]
  },
  {
   "cell_type": "markdown",
   "metadata": {},
   "source": [
    "\\[답변]"
   ]
  },
  {
   "cell_type": "markdown",
   "metadata": {},
   "source": [
    "2) DF 란?  "
   ]
  },
  {
   "cell_type": "markdown",
   "metadata": {},
   "source": [
    "\\[답변]"
   ]
  },
  {
   "cell_type": "markdown",
   "metadata": {},
   "source": [
    "3) IDF 란?   "
   ]
  },
  {
   "cell_type": "markdown",
   "metadata": {},
   "source": [
    "\\[답변]"
   ]
  },
  {
   "cell_type": "markdown",
   "metadata": {},
   "source": [
    "라이브러리로 적용해보자..."
   ]
  },
  {
   "cell_type": "code",
   "execution_count": null,
   "metadata": {
    "tags": []
   },
   "outputs": [],
   "source": [
    "from sklearn.feature_extraction.text import TfidfVectorizer\n",
    "# ngram_range=(1, 2) 는 단어를 1개 혹은 2개 연속으로 보겠다\n",
    "tfidf_vec = pass                    # Vectorizer 생성\n",
    "tfidf_matrix = tfidf_vec.pass       # Vectorizer가 단어들을 학습"
   ]
  },
  {
   "cell_type": "markdown",
   "metadata": {},
   "source": [
    "### 4. 영화 간 **cosine 유사도**  \n",
    "\\[출력예시]  \n",
    "\n",
    "    ### COSINE Similarity ###\n",
    "    [[1.         0.01513636 0.00614044 ... 0.01195144 0.00571986 0.00630023]\n",
    "    [0.01513636 1.         0.01307772 ... 0.01768395 0.00997186 0.00666392]\n",
    "    [0.00614044 0.01307772 1.         ... 0.01288316 0.00565125 0.00612543]\n",
    "    ...\n",
    "    [0.01195144 0.01768395 0.01288316 ... 1.         0.01532266 0.0089986 ]\n",
    "    [0.00571986 0.00997186 0.00565125 ... 0.01532266 1.         0.01649368]\n",
    "    [0.00630023 0.00666392 0.00612543 ... 0.0089986  0.01649368 1.        ]]\n",
    "    [[   0 3603  634 ... 2852 3945 3386]\n",
    "    ### 유사도 기준 index 정렬 ###\n",
    "    [[   0 3603  634 ... 2852 3945 3386]\n",
    "    [   1 2379 2542 ... 3487 3622 3945]\n",
    "    [   2 1343 3161 ... 3534 3637 3082]\n",
    "    ...\n",
    "    [4797 4033  569 ... 2604 3685 1658]\n",
    "    [4798 2017 1480 ... 2108 1658 4511]\n",
    "    [4799 2586  868 ... 3987 2192  669]]\n",
    "\n"
   ]
  },
  {
   "cell_type": "code",
   "execution_count": null,
   "metadata": {
    "tags": []
   },
   "outputs": [],
   "source": [
    "from sklearn.metrics.pairwise import cosine_similarity\n",
    "import numpy as np\n",
    "plot_similarity = pass          # 줄거리 간 cosine 유사도 구하기 - tfidf_matrix 사용\n",
    "print(\"### COSINE Similarity ###\")\n",
    "print(plot_similarity)\n",
    "similar_index = pass            # 유사도 높은 순서대로 index 정렬\n",
    "print(\"### 유사도 기준 index 정렬 ###\") \n",
    "print(similar_index)"
   ]
  },
  {
   "cell_type": "code",
   "execution_count": null,
   "metadata": {
    "tags": []
   },
   "outputs": [],
   "source": [
    "input_movie = \"Avatar\"          # data에 있는 영화의 제목을 넣어야 합니다.\n",
    "\n",
    "movie_index = pass    # input_movie에 해당하는 index 값 가져오기\n",
    "similar_movies = pass                   # 유사도 상위 10개 index 가져오기\n",
    "# 인덱스로 사용하기 위해서는 1차원으로 변형\n",
    "similar_movies_index = pass             # similar_movies 1차원 변형\n",
    "display(movies.iloc[similar_movies_index])"
   ]
  },
  {
   "cell_type": "markdown",
   "metadata": {},
   "source": [
    "3주동안의 자연어처리 스터디가 끝났습니다. 다음주부터는 이미지처리 스터디가 시작됩니다.  \n",
    "짧은 기간이라 많은 부분을 다루지는 못했지만, 추후에 프로젝트를 진행하면서 멤버들끼리 딥러닝 등 심화 부분을 공부하시면 더 좋을 것 같습니다.  \n",
    "중간에 시험기간도 겹쳐서 바쁜 와중에도 과제 잘 해주셔서 감사합니다!"
   ]
  }
 ],
 "metadata": {
  "kernelspec": {
   "display_name": "Python 3",
   "language": "python",
   "name": "python3"
  },
  "language_info": {
   "codemirror_mode": {
    "name": "ipython",
    "version": 3
   },
   "file_extension": ".py",
   "mimetype": "text/x-python",
   "name": "python",
   "nbconvert_exporter": "python",
   "pygments_lexer": "ipython3",
   "version": "3.8.5"
  }
 },
 "nbformat": 4,
 "nbformat_minor": 2
}
