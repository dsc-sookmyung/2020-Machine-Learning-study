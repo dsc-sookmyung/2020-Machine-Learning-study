{
 "cells": [
  {
   "cell_type": "markdown",
   "metadata": {},
   "source": [
    "# \\[Week5] 추천시스템  \n",
    "## [캐글 데이터](https://www.kaggle.com/tmdb/tmdb-movie-metadata?select=tmdb_5000_movies.csv) tmdb_5000_movies.csv   \n",
    "참고 사이트 : [[구름 Edu]](https://edu.goorm.io/learn/lecture/20671/%EB%94%A5%EB%9F%AC%EB%8B%9D-%EC%9D%B4%EB%A1%A0-%EB%B0%8F-%ED%8C%8C%EC%9D%B4%EC%8D%AC-%EC%8B%A4%EC%8A%B5)"
   ]
  },
  {
   "cell_type": "markdown",
   "metadata": {},
   "source": [
    "## 1. 자연어처리 - 문서 유사도 (용어 정리)"
   ]
  },
  {
   "cell_type": "markdown",
   "metadata": {},
   "source": [
    "1. Bag of Words   "
   ]
  },
  {
   "cell_type": "markdown",
   "metadata": {},
   "source": [
    "\\[답변] 가방 속에 단어와 단어의 빈도수가 쌍으로 들어가있다. 가방을 흔들면 순서가 뒤죽박죽 섞인다.   \n",
    "문장 유사도 구할 때, ml model의 입력값으로 사용 가능. "
   ]
  },
  {
   "cell_type": "markdown",
   "metadata": {},
   "source": [
    "1) 문장 간의 유사도 구하는 방법 "
   ]
  },
  {
   "cell_type": "markdown",
   "metadata": {},
   "source": [
    "\\[답변] 두 문장의 BoW의 값을 인덱스 별로 곱해서 더해준다. 값이 클수록 유사도가 높다. "
   ]
  },
  {
   "cell_type": "markdown",
   "metadata": {},
   "source": [
    "2) 단점"
   ]
  },
  {
   "cell_type": "markdown",
   "metadata": {},
   "source": [
    "\\[답변] sparsity; vector 차원이 커지면 0이 많아지고 메모리 비효율적이다.   \n",
    "frequent words has more power   \n",
    "ignoring word orders; 가방에 들어가있어서 출현 순서가 고려되지 않는다.    \n",
    "out of vocabulary; 처음 보는 단어는 처리를 못한다. "
   ]
  },
  {
   "cell_type": "markdown",
   "metadata": {},
   "source": [
    "2. n-그램"
   ]
  },
  {
   "cell_type": "markdown",
   "metadata": {},
   "source": [
    "\\[답변] 연속적으로 n개의 token으로 구성된 것. "
   ]
  },
  {
   "cell_type": "markdown",
   "metadata": {},
   "source": [
    "**(예제) fine thank you**  \n",
    "1) 1-gram"
   ]
  },
  {
   "cell_type": "markdown",
   "metadata": {},
   "source": [
    "    1-1) Word level  "
   ]
  },
  {
   "cell_type": "markdown",
   "metadata": {},
   "source": [
    "    [답변]  [fine, thank, you]"
   ]
  },
  {
   "cell_type": "markdown",
   "metadata": {},
   "source": [
    "    1-2) Character level"
   ]
  },
  {
   "cell_type": "markdown",
   "metadata": {},
   "source": [
    "    [답변]  [f, i, n, e,  , t, h, a, n, k,  , y, o, u]"
   ]
  },
  {
   "cell_type": "markdown",
   "metadata": {},
   "source": [
    "2) 2-gram"
   ]
  },
  {
   "cell_type": "markdown",
   "metadata": {},
   "source": [
    "    2-1) Word level"
   ]
  },
  {
   "cell_type": "markdown",
   "metadata": {},
   "source": [
    "    [답변]  [fine thank, thank you]"
   ]
  },
  {
   "cell_type": "markdown",
   "metadata": {},
   "source": [
    "    2-2) Character level "
   ]
  },
  {
   "cell_type": "markdown",
   "metadata": {},
   "source": [
    "    [답변] [fi, in, ne, e ,  t, th, ha, an, nk, k ,  y, yo, ou]"
   ]
  },
  {
   "cell_type": "markdown",
   "metadata": {},
   "source": [
    "3) 3-gram"
   ]
  },
  {
   "cell_type": "markdown",
   "metadata": {},
   "source": [
    "    3-1) Word level "
   ]
  },
  {
   "cell_type": "markdown",
   "metadata": {},
   "source": [
    "    [답변] [fine thank you]"
   ]
  },
  {
   "cell_type": "markdown",
   "metadata": {},
   "source": [
    "    3-2) Character level "
   ]
  },
  {
   "cell_type": "markdown",
   "metadata": {},
   "source": [
    "    [답변] [fin, ine, ne , e t,  th, tha, han, ank, nk , k y,  yo, you]"
   ]
  },
  {
   "cell_type": "markdown",
   "metadata": {},
   "source": [
    "4) n-gram 사용하는 이유?  "
   ]
  },
  {
   "cell_type": "markdown",
   "metadata": {},
   "source": [
    "\\[답변] BoW의 순서 무시 단점을 극복 가능. 다음 단어 예측, 오타 찾기"
   ]
  },
  {
   "cell_type": "markdown",
   "metadata": {},
   "source": [
    "3. 점 A(3,4), 점 B(4,3)의 cosine 유사도를 구하시오.  "
   ]
  },
  {
   "cell_type": "markdown",
   "metadata": {},
   "source": [
    "\\[답변] A * B / (|A| * |B|) = ((3 * 4) + (4 * 3)) / (5 * 5) = cos(16.26°)"
   ]
  },
  {
   "cell_type": "markdown",
   "metadata": {},
   "source": [
    "## 2. 추천시스템  \n",
    "### 아래 코드에서 pass 부분을 지우고 그 자리에 코드 작성해주세요"
   ]
  },
  {
   "cell_type": "markdown",
   "metadata": {},
   "source": [
    "### 0. 추천시스템 종류 정리"
   ]
  },
  {
   "cell_type": "markdown",
   "metadata": {},
   "source": [
    "1. Content-based filtering  "
   ]
  },
  {
   "cell_type": "markdown",
   "metadata": {},
   "source": [
    "\\[답변] meta 정보를 feature로 사용한다. cold start 문제를 피할 수 있다. "
   ]
  },
  {
   "cell_type": "markdown",
   "metadata": {},
   "source": [
    "2. Collaborative filtering  "
   ]
  },
  {
   "cell_type": "markdown",
   "metadata": {},
   "source": [
    "\\[답변] 협력 필터링. user의 행동 양식, 패턴에 따라 추천한다. 수집된 정보 양이 많아야 효과가 좋다. "
   ]
  },
  {
   "cell_type": "markdown",
   "metadata": {},
   "source": [
    "    - user-based collaborative filtering  "
   ]
  },
  {
   "cell_type": "markdown",
   "metadata": {},
   "source": [
    "    [답변] user끼리의 유사도를 측정한다. item이라는 vector로 표현됨. 비슷한 유저를 찾아 item 비교를 통해 추천"
   ]
  },
  {
   "cell_type": "markdown",
   "metadata": {},
   "source": [
    "    - item-based collaborative filtering  "
   ]
  },
  {
   "cell_type": "markdown",
   "metadata": {},
   "source": [
    "    [답변] item끼리의 유사도를 측정한다. user라는 vector로 표현됨. 비슷한 item을 추천"
   ]
  },
  {
   "cell_type": "markdown",
   "metadata": {},
   "source": [
    "Content-based filtering을 해봅시다.  \n",
    "보통은 장르를 기준으로 많이 하지만, 자연어처리에 좀 더 익숙해지기 위해서 줄거리를 바탕으로 해보겠습니다.  \n",
    "Collaborative filtering도 한번 직접 해보세요. 재밌습니다:)"
   ]
  },
  {
   "cell_type": "markdown",
   "metadata": {},
   "source": [
    "### 1. CSV 파일 불러와 DataFrame으로 저장"
   ]
  },
  {
   "cell_type": "code",
   "execution_count": 1,
   "metadata": {},
   "outputs": [
    {
     "data": {
      "text/html": [
       "<div>\n",
       "<style scoped>\n",
       "    .dataframe tbody tr th:only-of-type {\n",
       "        vertical-align: middle;\n",
       "    }\n",
       "\n",
       "    .dataframe tbody tr th {\n",
       "        vertical-align: top;\n",
       "    }\n",
       "\n",
       "    .dataframe thead th {\n",
       "        text-align: right;\n",
       "    }\n",
       "</style>\n",
       "<table border=\"1\" class=\"dataframe\">\n",
       "  <thead>\n",
       "    <tr style=\"text-align: right;\">\n",
       "      <th></th>\n",
       "      <th>original_title</th>\n",
       "      <th>overview</th>\n",
       "    </tr>\n",
       "  </thead>\n",
       "  <tbody>\n",
       "    <tr>\n",
       "      <th>0</th>\n",
       "      <td>Avatar</td>\n",
       "      <td>In the 22nd century, a paraplegic Marine is di...</td>\n",
       "    </tr>\n",
       "    <tr>\n",
       "      <th>1</th>\n",
       "      <td>Pirates of the Caribbean: At World's End</td>\n",
       "      <td>Captain Barbossa, long believed to be dead, ha...</td>\n",
       "    </tr>\n",
       "    <tr>\n",
       "      <th>2</th>\n",
       "      <td>Spectre</td>\n",
       "      <td>A cryptic message from Bond’s past sends him o...</td>\n",
       "    </tr>\n",
       "    <tr>\n",
       "      <th>3</th>\n",
       "      <td>The Dark Knight Rises</td>\n",
       "      <td>Following the death of District Attorney Harve...</td>\n",
       "    </tr>\n",
       "    <tr>\n",
       "      <th>4</th>\n",
       "      <td>John Carter</td>\n",
       "      <td>John Carter is a war-weary, former military ca...</td>\n",
       "    </tr>\n",
       "    <tr>\n",
       "      <th>...</th>\n",
       "      <td>...</td>\n",
       "      <td>...</td>\n",
       "    </tr>\n",
       "    <tr>\n",
       "      <th>4798</th>\n",
       "      <td>El Mariachi</td>\n",
       "      <td>El Mariachi just wants to play his guitar and ...</td>\n",
       "    </tr>\n",
       "    <tr>\n",
       "      <th>4799</th>\n",
       "      <td>Newlyweds</td>\n",
       "      <td>A newlywed couple's honeymoon is upended by th...</td>\n",
       "    </tr>\n",
       "    <tr>\n",
       "      <th>4800</th>\n",
       "      <td>Signed, Sealed, Delivered</td>\n",
       "      <td>\"Signed, Sealed, Delivered\" introduces a dedic...</td>\n",
       "    </tr>\n",
       "    <tr>\n",
       "      <th>4801</th>\n",
       "      <td>Shanghai Calling</td>\n",
       "      <td>When ambitious New York attorney Sam is sent t...</td>\n",
       "    </tr>\n",
       "    <tr>\n",
       "      <th>4802</th>\n",
       "      <td>My Date with Drew</td>\n",
       "      <td>Ever since the second grade when he first saw ...</td>\n",
       "    </tr>\n",
       "  </tbody>\n",
       "</table>\n",
       "<p>4803 rows × 2 columns</p>\n",
       "</div>"
      ],
      "text/plain": [
       "                                original_title  \\\n",
       "0                                       Avatar   \n",
       "1     Pirates of the Caribbean: At World's End   \n",
       "2                                      Spectre   \n",
       "3                        The Dark Knight Rises   \n",
       "4                                  John Carter   \n",
       "...                                        ...   \n",
       "4798                               El Mariachi   \n",
       "4799                                 Newlyweds   \n",
       "4800                 Signed, Sealed, Delivered   \n",
       "4801                          Shanghai Calling   \n",
       "4802                         My Date with Drew   \n",
       "\n",
       "                                               overview  \n",
       "0     In the 22nd century, a paraplegic Marine is di...  \n",
       "1     Captain Barbossa, long believed to be dead, ha...  \n",
       "2     A cryptic message from Bond’s past sends him o...  \n",
       "3     Following the death of District Attorney Harve...  \n",
       "4     John Carter is a war-weary, former military ca...  \n",
       "...                                                 ...  \n",
       "4798  El Mariachi just wants to play his guitar and ...  \n",
       "4799  A newlywed couple's honeymoon is upended by th...  \n",
       "4800  \"Signed, Sealed, Delivered\" introduces a dedic...  \n",
       "4801  When ambitious New York attorney Sam is sent t...  \n",
       "4802  Ever since the second grade when he first saw ...  \n",
       "\n",
       "[4803 rows x 2 columns]"
      ]
     },
     "execution_count": 1,
     "metadata": {},
     "output_type": "execute_result"
    }
   ],
   "source": [
    "import pandas as pd\n",
    "movies = pd.read_csv('tmdb_5000_movies.csv')           # tmdb_5000_movies.csv dataframe으로 읽어오기\n",
    "movies = movies[[\"original_title\", \"overview\"]]\n",
    "movies[\"overview\"] = movies[\"overview\"].astype(\"str\")\n",
    "movies"
   ]
  },
  {
   "cell_type": "markdown",
   "metadata": {},
   "source": [
    "### 2. 전처리  \n",
    "출력 예시)\n",
    "\n",
    "    original_title    0\n",
    "    overview          3\n",
    "    dtype: int64\n"
   ]
  },
  {
   "cell_type": "code",
   "execution_count": 2,
   "metadata": {},
   "outputs": [
    {
     "data": {
      "text/plain": [
       "original_title    0\n",
       "overview          0\n",
       "dtype: int64"
      ]
     },
     "execution_count": 2,
     "metadata": {},
     "output_type": "execute_result"
    }
   ],
   "source": [
    "# null 값 개수 확인\n",
    "movies.isnull().sum()"
   ]
  },
  {
   "cell_type": "markdown",
   "metadata": {},
   "source": [
    "1) 줄거리가 NaN인 **영화** drop"
   ]
  },
  {
   "cell_type": "code",
   "execution_count": 3,
   "metadata": {},
   "outputs": [],
   "source": [
    "movies = movies.dropna(axis = 0)"
   ]
  },
  {
   "cell_type": "markdown",
   "metadata": {},
   "source": [
    "2) \"overview\" column 모두 소문자로, 문자+숫자(\\w)만 남기고 나머지는 띄어쓰기로 대체"
   ]
  },
  {
   "cell_type": "code",
   "execution_count": 4,
   "metadata": {
    "tags": []
   },
   "outputs": [
    {
     "data": {
      "text/html": [
       "<div>\n",
       "<style scoped>\n",
       "    .dataframe tbody tr th:only-of-type {\n",
       "        vertical-align: middle;\n",
       "    }\n",
       "\n",
       "    .dataframe tbody tr th {\n",
       "        vertical-align: top;\n",
       "    }\n",
       "\n",
       "    .dataframe thead th {\n",
       "        text-align: right;\n",
       "    }\n",
       "</style>\n",
       "<table border=\"1\" class=\"dataframe\">\n",
       "  <thead>\n",
       "    <tr style=\"text-align: right;\">\n",
       "      <th></th>\n",
       "      <th>original_title</th>\n",
       "      <th>overview</th>\n",
       "    </tr>\n",
       "  </thead>\n",
       "  <tbody>\n",
       "    <tr>\n",
       "      <th>0</th>\n",
       "      <td>Avatar</td>\n",
       "      <td>in the 22nd century  a paraplegic marine is di...</td>\n",
       "    </tr>\n",
       "    <tr>\n",
       "      <th>1</th>\n",
       "      <td>Pirates of the Caribbean: At World's End</td>\n",
       "      <td>captain barbossa  long believed to be dead  ha...</td>\n",
       "    </tr>\n",
       "    <tr>\n",
       "      <th>2</th>\n",
       "      <td>Spectre</td>\n",
       "      <td>a cryptic message from bond s past sends him o...</td>\n",
       "    </tr>\n",
       "    <tr>\n",
       "      <th>3</th>\n",
       "      <td>The Dark Knight Rises</td>\n",
       "      <td>following the death of district attorney harve...</td>\n",
       "    </tr>\n",
       "    <tr>\n",
       "      <th>4</th>\n",
       "      <td>John Carter</td>\n",
       "      <td>john carter is a war weary  former military ca...</td>\n",
       "    </tr>\n",
       "    <tr>\n",
       "      <th>...</th>\n",
       "      <td>...</td>\n",
       "      <td>...</td>\n",
       "    </tr>\n",
       "    <tr>\n",
       "      <th>4798</th>\n",
       "      <td>El Mariachi</td>\n",
       "      <td>el mariachi just wants to play his guitar and ...</td>\n",
       "    </tr>\n",
       "    <tr>\n",
       "      <th>4799</th>\n",
       "      <td>Newlyweds</td>\n",
       "      <td>a newlywed couple s honeymoon is upended by th...</td>\n",
       "    </tr>\n",
       "    <tr>\n",
       "      <th>4800</th>\n",
       "      <td>Signed, Sealed, Delivered</td>\n",
       "      <td>signed  sealed  delivered  introduces a dedic...</td>\n",
       "    </tr>\n",
       "    <tr>\n",
       "      <th>4801</th>\n",
       "      <td>Shanghai Calling</td>\n",
       "      <td>when ambitious new york attorney sam is sent t...</td>\n",
       "    </tr>\n",
       "    <tr>\n",
       "      <th>4802</th>\n",
       "      <td>My Date with Drew</td>\n",
       "      <td>ever since the second grade when he first saw ...</td>\n",
       "    </tr>\n",
       "  </tbody>\n",
       "</table>\n",
       "<p>4803 rows × 2 columns</p>\n",
       "</div>"
      ],
      "text/plain": [
       "                                original_title  \\\n",
       "0                                       Avatar   \n",
       "1     Pirates of the Caribbean: At World's End   \n",
       "2                                      Spectre   \n",
       "3                        The Dark Knight Rises   \n",
       "4                                  John Carter   \n",
       "...                                        ...   \n",
       "4798                               El Mariachi   \n",
       "4799                                 Newlyweds   \n",
       "4800                 Signed, Sealed, Delivered   \n",
       "4801                          Shanghai Calling   \n",
       "4802                         My Date with Drew   \n",
       "\n",
       "                                               overview  \n",
       "0     in the 22nd century  a paraplegic marine is di...  \n",
       "1     captain barbossa  long believed to be dead  ha...  \n",
       "2     a cryptic message from bond s past sends him o...  \n",
       "3     following the death of district attorney harve...  \n",
       "4     john carter is a war weary  former military ca...  \n",
       "...                                                 ...  \n",
       "4798  el mariachi just wants to play his guitar and ...  \n",
       "4799  a newlywed couple s honeymoon is upended by th...  \n",
       "4800   signed  sealed  delivered  introduces a dedic...  \n",
       "4801  when ambitious new york attorney sam is sent t...  \n",
       "4802  ever since the second grade when he first saw ...  \n",
       "\n",
       "[4803 rows x 2 columns]"
      ]
     },
     "execution_count": 4,
     "metadata": {},
     "output_type": "execute_result"
    }
   ],
   "source": [
    "import re\n",
    "# 되도록 apply, lambda 사용할것!\n",
    "movies['overview'] = movies['overview'].apply(lambda x: re.sub('[^\\w]', ' ', x.lower()))\n",
    "movies"
   ]
  },
  {
   "cell_type": "markdown",
   "metadata": {},
   "source": [
    "### 3. TF-IDF 계산"
   ]
  },
  {
   "cell_type": "markdown",
   "metadata": {},
   "source": [
    "1) TF 란?  "
   ]
  },
  {
   "cell_type": "markdown",
   "metadata": {},
   "source": [
    "\\[답변] term frequency. 주어진 문서에서의 단어 출현 빈도. 특정 단어 출현빈도 / 모든 단어 출현 빈도. "
   ]
  },
  {
   "cell_type": "markdown",
   "metadata": {},
   "source": [
    "2) DF 란?  "
   ]
  },
  {
   "cell_type": "markdown",
   "metadata": {},
   "source": [
    "\\[답변] document frequency. "
   ]
  },
  {
   "cell_type": "markdown",
   "metadata": {},
   "source": [
    "3) IDF 란?   "
   ]
  },
  {
   "cell_type": "markdown",
   "metadata": {},
   "source": [
    "\\[답변] inverse document frequency. log(총 문장의 개수 / 그 단어가 출현한 문장의 개수)"
   ]
  },
  {
   "cell_type": "markdown",
   "metadata": {},
   "source": [
    "라이브러리로 적용해보자..."
   ]
  },
  {
   "cell_type": "code",
   "execution_count": 5,
   "metadata": {
    "tags": []
   },
   "outputs": [],
   "source": [
    "from sklearn.feature_extraction.text import TfidfVectorizer\n",
    "# ngram_range=(1, 2) 는 단어를 1개 혹은 2개 연속으로 보겠다\n",
    "tfidf_vec = TfidfVectorizer(ngram_range = (1, 2))                    # Vectorizer 생성\n",
    "tfidf_matrix = tfidf_vec.fit_transform(movies['overview'])       # Vectorizer가 단어들을 학습"
   ]
  },
  {
   "cell_type": "markdown",
   "metadata": {},
   "source": [
    "### 4. 영화 간 **cosine 유사도**  \n",
    "\\[출력예시]  \n",
    "\n",
    "    ### COSINE Similarity ###\n",
    "    [[1.         0.01513636 0.00614044 ... 0.01195144 0.00571986 0.00630023]\n",
    "    [0.01513636 1.         0.01307772 ... 0.01768395 0.00997186 0.00666392]\n",
    "    [0.00614044 0.01307772 1.         ... 0.01288316 0.00565125 0.00612543]\n",
    "    ...\n",
    "    [0.01195144 0.01768395 0.01288316 ... 1.         0.01532266 0.0089986 ]\n",
    "    [0.00571986 0.00997186 0.00565125 ... 0.01532266 1.         0.01649368]\n",
    "    [0.00630023 0.00666392 0.00612543 ... 0.0089986  0.01649368 1.        ]]\n",
    "    [[   0 3603  634 ... 2852 3945 3386]\n",
    "    ### 유사도 기준 index 정렬 ###\n",
    "    [[   0 3603  634 ... 2852 3945 3386]\n",
    "    [   1 2379 2542 ... 3487 3622 3945]\n",
    "    [   2 1343 3161 ... 3534 3637 3082]\n",
    "    ...\n",
    "    [4797 4033  569 ... 2604 3685 1658]\n",
    "    [4798 2017 1480 ... 2108 1658 4511]\n",
    "    [4799 2586  868 ... 3987 2192  669]]\n",
    "\n"
   ]
  },
  {
   "cell_type": "code",
   "execution_count": 6,
   "metadata": {
    "tags": []
   },
   "outputs": [
    {
     "name": "stdout",
     "output_type": "stream",
     "text": [
      "### COSINE Similarity ###\n",
      "[[1.         0.01514413 0.00614504 ... 0.01195829 0.00572386 0.006304  ]\n",
      " [0.01514413 1.         0.01308527 ... 0.0176922  0.00997908 0.00666831]\n",
      " [0.00614504 0.01308527 1.         ... 0.01289    0.00565554 0.00612954]\n",
      " ...\n",
      " [0.01195829 0.0176922  0.01289    ... 1.         0.01532978 0.00900306]\n",
      " [0.00572386 0.00997908 0.00565554 ... 0.01532978 1.         0.01649947]\n",
      " [0.006304   0.00666831 0.00612954 ... 0.00900306 0.01649947 1.        ]]\n",
      "### 유사도 기준 index 정렬 ###\n",
      "[[   0 3604  634 ... 4140 2596 2669]\n",
      " [   1 2379 2542 ...  161 2656 4458]\n",
      " [   2 1343 3162 ... 4144 4148 4180]\n",
      " ...\n",
      " [4800 4034  569 ... 2853 4140 1038]\n",
      " [4801 2017 1480 ... 4140 4458 2108]\n",
      " [4802 2586  868 ... 3988 4513 3152]]\n"
     ]
    }
   ],
   "source": [
    "from sklearn.metrics.pairwise import cosine_similarity\n",
    "import numpy as np\n",
    "plot_similarity = cosine_similarity(tfidf_matrix, tfidf_matrix)          # 줄거리 간 cosine 유사도 구하기 - tfidf_matrix 사용\n",
    "print(\"### COSINE Similarity ###\")\n",
    "print(plot_similarity)\n",
    "similar_index = np.argsort(-plot_similarity)         # 유사도 높은 순서대로 index 정렬\n",
    "print(\"### 유사도 기준 index 정렬 ###\") \n",
    "print(similar_index)\n",
    "\n",
    "# https://wikidocs.net/76347"
   ]
  },
  {
   "cell_type": "code",
   "execution_count": 7,
   "metadata": {
    "tags": []
   },
   "outputs": [
    {
     "data": {
      "text/html": [
       "<div>\n",
       "<style scoped>\n",
       "    .dataframe tbody tr th:only-of-type {\n",
       "        vertical-align: middle;\n",
       "    }\n",
       "\n",
       "    .dataframe tbody tr th {\n",
       "        vertical-align: top;\n",
       "    }\n",
       "\n",
       "    .dataframe thead th {\n",
       "        text-align: right;\n",
       "    }\n",
       "</style>\n",
       "<table border=\"1\" class=\"dataframe\">\n",
       "  <thead>\n",
       "    <tr style=\"text-align: right;\">\n",
       "      <th></th>\n",
       "      <th>original_title</th>\n",
       "      <th>overview</th>\n",
       "    </tr>\n",
       "  </thead>\n",
       "  <tbody>\n",
       "    <tr>\n",
       "      <th>3604</th>\n",
       "      <td>Apollo 18</td>\n",
       "      <td>officially  apollo 17 was the last manned miss...</td>\n",
       "    </tr>\n",
       "    <tr>\n",
       "      <th>634</th>\n",
       "      <td>The Matrix</td>\n",
       "      <td>set in the 22nd century  the matrix tells the ...</td>\n",
       "    </tr>\n",
       "    <tr>\n",
       "      <th>529</th>\n",
       "      <td>Tears of the Sun</td>\n",
       "      <td>navy seal lieutenant a k  waters and his elite...</td>\n",
       "    </tr>\n",
       "    <tr>\n",
       "      <th>1013</th>\n",
       "      <td>Child 44</td>\n",
       "      <td>set in stalin era soviet union  a disgraced mg...</td>\n",
       "    </tr>\n",
       "    <tr>\n",
       "      <th>775</th>\n",
       "      <td>Supernova</td>\n",
       "      <td>set in the 22nd century  when a battered salva...</td>\n",
       "    </tr>\n",
       "    <tr>\n",
       "      <th>2130</th>\n",
       "      <td>The American</td>\n",
       "      <td>dispatched to a small italian town to await fu...</td>\n",
       "    </tr>\n",
       "    <tr>\n",
       "      <th>2628</th>\n",
       "      <td>Blood and Chocolate</td>\n",
       "      <td>a young teenage werewolf is torn between honor...</td>\n",
       "    </tr>\n",
       "    <tr>\n",
       "      <th>1341</th>\n",
       "      <td>Obitaemyy Ostrov</td>\n",
       "      <td>on the threshold of 22nd century  furrowing th...</td>\n",
       "    </tr>\n",
       "    <tr>\n",
       "      <th>2808</th>\n",
       "      <td>The Exorcist</td>\n",
       "      <td>12 year old regan macneil begins to adapt an e...</td>\n",
       "    </tr>\n",
       "    <tr>\n",
       "      <th>311</th>\n",
       "      <td>The Adventures of Pluto Nash</td>\n",
       "      <td>the year is 2087  the setting is the moon  plu...</td>\n",
       "    </tr>\n",
       "  </tbody>\n",
       "</table>\n",
       "</div>"
      ],
      "text/plain": [
       "                    original_title  \\\n",
       "3604                     Apollo 18   \n",
       "634                     The Matrix   \n",
       "529               Tears of the Sun   \n",
       "1013                      Child 44   \n",
       "775                      Supernova   \n",
       "2130                  The American   \n",
       "2628           Blood and Chocolate   \n",
       "1341              Obitaemyy Ostrov   \n",
       "2808                  The Exorcist   \n",
       "311   The Adventures of Pluto Nash   \n",
       "\n",
       "                                               overview  \n",
       "3604  officially  apollo 17 was the last manned miss...  \n",
       "634   set in the 22nd century  the matrix tells the ...  \n",
       "529   navy seal lieutenant a k  waters and his elite...  \n",
       "1013  set in stalin era soviet union  a disgraced mg...  \n",
       "775   set in the 22nd century  when a battered salva...  \n",
       "2130  dispatched to a small italian town to await fu...  \n",
       "2628  a young teenage werewolf is torn between honor...  \n",
       "1341  on the threshold of 22nd century  furrowing th...  \n",
       "2808  12 year old regan macneil begins to adapt an e...  \n",
       "311   the year is 2087  the setting is the moon  plu...  "
      ]
     },
     "metadata": {},
     "output_type": "display_data"
    }
   ],
   "source": [
    "input_movie = \"Avatar\"          # data에 있는 영화의 제목을 넣어야 합니다.\n",
    "\n",
    "movie_index = movies[movies.original_title == input_movie].index[0]    # input_movie에 해당하는 index 값 가져오기\n",
    "similar_movies = similar_index[movie_index][1:11]                   # 유사도 상위 10개 index 가져오기\n",
    "similar_movies\n",
    "# 인덱스로 사용하기 위해서는 1차원으로 변형\n",
    "similar_movies_index = [i for i in similar_movies]            # similar_movies 1차원 변형\n",
    "display(movies.iloc[similar_movies_index])"
   ]
  },
  {
   "cell_type": "code",
   "execution_count": 8,
   "metadata": {
    "tags": []
   },
   "outputs": [
    {
     "data": {
      "text/html": [
       "<div>\n",
       "<style scoped>\n",
       "    .dataframe tbody tr th:only-of-type {\n",
       "        vertical-align: middle;\n",
       "    }\n",
       "\n",
       "    .dataframe tbody tr th {\n",
       "        vertical-align: top;\n",
       "    }\n",
       "\n",
       "    .dataframe thead th {\n",
       "        text-align: right;\n",
       "    }\n",
       "</style>\n",
       "<table border=\"1\" class=\"dataframe\">\n",
       "  <thead>\n",
       "    <tr style=\"text-align: right;\">\n",
       "      <th></th>\n",
       "      <th>original_title</th>\n",
       "      <th>overview</th>\n",
       "    </tr>\n",
       "  </thead>\n",
       "  <tbody>\n",
       "    <tr>\n",
       "      <th>299</th>\n",
       "      <td>Batman Forever</td>\n",
       "      <td>the dark knight of gotham city confronts a das...</td>\n",
       "    </tr>\n",
       "    <tr>\n",
       "      <th>65</th>\n",
       "      <td>The Dark Knight</td>\n",
       "      <td>batman raises the stakes in his war on crime  ...</td>\n",
       "    </tr>\n",
       "    <tr>\n",
       "      <th>1359</th>\n",
       "      <td>Batman</td>\n",
       "      <td>the dark knight of gotham city begins his war ...</td>\n",
       "    </tr>\n",
       "    <tr>\n",
       "      <th>428</th>\n",
       "      <td>Batman Returns</td>\n",
       "      <td>having defeated the joker  batman now faces th...</td>\n",
       "    </tr>\n",
       "    <tr>\n",
       "      <th>2507</th>\n",
       "      <td>Slow Burn</td>\n",
       "      <td>a district attorney  ray liotta  is involved i...</td>\n",
       "    </tr>\n",
       "    <tr>\n",
       "      <th>119</th>\n",
       "      <td>Batman Begins</td>\n",
       "      <td>driven by tragedy  billionaire bruce wayne ded...</td>\n",
       "    </tr>\n",
       "    <tr>\n",
       "      <th>3854</th>\n",
       "      <td>Batman: The Dark Knight Returns, Part 2</td>\n",
       "      <td>batman has stopped the reign of terror that th...</td>\n",
       "    </tr>\n",
       "    <tr>\n",
       "      <th>1181</th>\n",
       "      <td>JFK</td>\n",
       "      <td>new orleans district attorney jim garrison dis...</td>\n",
       "    </tr>\n",
       "    <tr>\n",
       "      <th>210</th>\n",
       "      <td>Batman &amp; Robin</td>\n",
       "      <td>along with crime fighting partner robin and ne...</td>\n",
       "    </tr>\n",
       "    <tr>\n",
       "      <th>4649</th>\n",
       "      <td>Shotgun Stories</td>\n",
       "      <td>shotgun stories tracks a feud that erupts betw...</td>\n",
       "    </tr>\n",
       "  </tbody>\n",
       "</table>\n",
       "</div>"
      ],
      "text/plain": [
       "                               original_title  \\\n",
       "299                            Batman Forever   \n",
       "65                            The Dark Knight   \n",
       "1359                                   Batman   \n",
       "428                            Batman Returns   \n",
       "2507                                Slow Burn   \n",
       "119                             Batman Begins   \n",
       "3854  Batman: The Dark Knight Returns, Part 2   \n",
       "1181                                      JFK   \n",
       "210                            Batman & Robin   \n",
       "4649                          Shotgun Stories   \n",
       "\n",
       "                                               overview  \n",
       "299   the dark knight of gotham city confronts a das...  \n",
       "65    batman raises the stakes in his war on crime  ...  \n",
       "1359  the dark knight of gotham city begins his war ...  \n",
       "428   having defeated the joker  batman now faces th...  \n",
       "2507  a district attorney  ray liotta  is involved i...  \n",
       "119   driven by tragedy  billionaire bruce wayne ded...  \n",
       "3854  batman has stopped the reign of terror that th...  \n",
       "1181  new orleans district attorney jim garrison dis...  \n",
       "210   along with crime fighting partner robin and ne...  \n",
       "4649  shotgun stories tracks a feud that erupts betw...  "
      ]
     },
     "metadata": {},
     "output_type": "display_data"
    }
   ],
   "source": [
    "# https://wikidocs.net/24603\n",
    "input_movie = \"The Dark Knight Rises\"  \n",
    "\n",
    "movie_index = movies[movies.original_title == input_movie].index[0]    # input_movie에 해당하는 index 값 가져오기\n",
    "similar_movies = similar_index[movie_index][1:11]                   # 유사도 상위 10개 index 가져오기\n",
    "similar_movies\n",
    "# 인덱스로 사용하기 위해서는 1차원으로 변형\n",
    "similar_movies_index = [i for i in similar_movies]            # similar_movies 1차원 변형\n",
    "display(movies.iloc[similar_movies_index])"
   ]
  },
  {
   "cell_type": "markdown",
   "metadata": {},
   "source": [
    "3주동안의 자연어처리 스터디가 끝났습니다. 다음주부터는 이미지처리 스터디가 시작됩니다.  \n",
    "짧은 기간이라 많은 부분을 다루지는 못했지만, 추후에 프로젝트를 진행하면서 멤버들끼리 딥러닝 등 심화 부분을 공부하시면 더 좋을 것 같습니다.  \n",
    "중간에 시험기간도 겹쳐서 바쁜 와중에도 과제 잘 해주셔서 감사합니다!"
   ]
  }
 ],
 "metadata": {
  "kernelspec": {
   "display_name": "Python 3",
   "language": "python",
   "name": "python3"
  },
  "language_info": {
   "codemirror_mode": {
    "name": "ipython",
    "version": 3
   },
   "file_extension": ".py",
   "mimetype": "text/x-python",
   "name": "python",
   "nbconvert_exporter": "python",
   "pygments_lexer": "ipython3",
   "version": "3.8.5"
  }
 },
 "nbformat": 4,
 "nbformat_minor": 2
}
