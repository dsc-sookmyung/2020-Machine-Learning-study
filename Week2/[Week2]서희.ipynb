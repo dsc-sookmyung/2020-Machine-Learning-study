{
 "cells": [
  {
   "cell_type": "markdown",
   "metadata": {},
   "source": [
    "# \\[Week2] 머신러닝 기초"
   ]
  },
  {
   "cell_type": "markdown",
   "metadata": {},
   "source": [
    "## 1. 머신러닝 기본 용어 정리\n",
    "[강의링크](https://edu.goorm.io/learn/lecture/4012/%EB%A8%B8%EC%8B%A0%EB%9F%AC%EB%8B%9D-%EC%9D%B4%EB%A1%A0-%EB%B0%8F-%ED%8C%8C%EC%9D%B4%EC%8D%AC-%EC%8B%A4%EC%8A%B5)\n",
    "04.머신러닝2(오버피팅언더피팅 극복하기 ~ ) 수강하시면 됩니다.  \n",
    "당연히 그냥 구글링하셔도 됩니다.  \n",
    "\\*각 용어 정리는 본인이 추후에 보기 편한 방법으로 자유롭게 하시면 됩니다.  \n",
    "참고) 소수점 셋째자리 아래는 버림하셔도 됩니다."
   ]
  },
  {
   "cell_type": "markdown",
   "metadata": {},
   "source": [
    "### overfitting & underfitting"
   ]
  },
  {
   "cell_type": "markdown",
   "metadata": {},
   "source": [
    "1. 오버피팅(overfitting)이란?  \n",
    "    → 현재 데이터(existing data)로는 잘 작동하지만, 새로운 데이터(new data)로는 잘 작동하지 않는 경우\n",
    "    \n",
    "    high variance models (∵ complex and represent all the features of the traising set very well)\n",
    "    \n",
    "    _학습데이터에 대해서는 오차가 감소하지만 실제 데이터에 대해서는 오차가 증가하는 경우_\n",
    "    _(decision boundary를 기준으로 False에 몰려있는 경우)_"
   ]
  },
  {
   "cell_type": "markdown",
   "metadata": {},
   "source": [
    "2. 언더피팅(underfitting)이란?  \n",
    "    → high bias models (∵ simple and can generalize some features to the unseen data)\n",
    "    \n",
    "    bias: 실제 값에서 얼마나 멀리 떨어져 있는가<br>\n",
    "    variance: 예측 값끼리 서로 얼마나 멀리 떨어져 있는가"
   ]
  },
  {
   "cell_type": "markdown",
   "metadata": {},
   "source": [
    "3. underfitting 막는 방법 2가지  \n",
    "    - Find more features\n",
    "    - Try high variance machine learning models (Decision Tree, K-NN, SVM)"
   ]
  },
  {
   "cell_type": "markdown",
   "metadata": {},
   "source": [
    "4. overfitting 판단 방법  \n",
    "→ 학습 데이터로는 잘 작동하지만, 새로운 데이터로는 잘 작동하지 않는 경우"
   ]
  },
  {
   "cell_type": "markdown",
   "metadata": {},
   "source": [
    "5. overfitting 막는 방법  \n",
    "    - Cross validation <br> \n",
    "    _if validation accuracy is lower, do regularization!_\n",
    "    - Regularization <br>\n",
    "        : Let model simpler by giving more bias and less variance <br>\n",
    "        _Repeat until no overfitting_\n",
    "    - Add more data as much as possible\n",
    "    <br><br>\n",
    "    Cf. Cost Function with Regularization <br>\n",
    "    $J(\\theta) = \\frac{1}{2m}  \\sum_{i=1}^m (h_\\theta(x^i)-y^i)^2 \n",
    "    + \\lambda \\sum_{i=1}^n \\lvert \\theta_i \\rvert$\n",
    "    <br>\n",
    "    ($\\lambda$ = learning rate) <br>\n",
    "    too small learning rate → overfitting <br>\n",
    "    too big learning rate → underfitting"
   ]
  },
  {
   "cell_type": "markdown",
   "metadata": {},
   "source": [
    "### Norm  \n",
    "<br>\n",
    "a norm is a function that assigns a strictly positive length or size to each vector in a vector space"
   ]
  },
  {
   "cell_type": "markdown",
   "metadata": {},
   "source": [
    "1. Norm 수식   \n",
    "$L_p = (\\sum_{i=1}^n \\lvert x_i \\rvert^p)^\\frac{1}{p}$"
   ]
  },
  {
   "cell_type": "markdown",
   "metadata": {},
   "source": [
    "2. L1 Norm 수식    \n",
    "$L_1 = (\\sum_{i=1}^n \\lvert x_i \\rvert)$\n",
    "<br><br>\n",
    "Cf. L1 Norm in Computer Science\n",
    "    - L1 Regularization <br>\n",
    "    - Computer Vision"
   ]
  },
  {
   "cell_type": "markdown",
   "metadata": {},
   "source": [
    "3. L2 Norm 수식  \n",
    "$L_p = (\\sum_{i=1}^n \\lvert x_i \\rvert^2)^\\frac{1}{2}$\n",
    "<br><br>\n",
    "Cf.Pythagoras theorm"
   ]
  },
  {
   "cell_type": "markdown",
   "metadata": {},
   "source": [
    "4. L2 Norm이 사용되는 Machine Learning 알고리즘   \n",
    "    - kNN algorithm\n",
    "    - kmean algorithm"
   ]
  },
  {
   "cell_type": "markdown",
   "metadata": {},
   "source": [
    "_source code in github_ <br>\n",
    "https://github.com/minsuk-heo/python_tutorial"
   ]
  },
  {
   "cell_type": "markdown",
   "metadata": {},
   "source": [
    "### PCA 차원 축소\n",
    "Principal Component Analysis Reduce Dimension **(RE)**"
   ]
  },
  {
   "cell_type": "markdown",
   "metadata": {},
   "source": [
    "### Confusion Matrix (혼동 행렬)  \n",
    "![image](https://user-images.githubusercontent.com/45345120/94503235-f23a4680-0240-11eb-9fae-86768d58ff58.png)"
   ]
  },
  {
   "cell_type": "markdown",
   "metadata": {},
   "source": [
    "1. Confusion matrix 그리기"
   ]
  },
  {
   "cell_type": "code",
   "execution_count": 17,
   "metadata": {},
   "outputs": [
    {
     "data": {
      "text/plain": [
       "<matplotlib.axes._subplots.AxesSubplot at 0x28a05733f40>"
      ]
     },
     "execution_count": 17,
     "metadata": {},
     "output_type": "execute_result"
    },
    {
     "data": {
      "image/png": "[encoded data removed]",
      "text/plain": [
       "<Figure size 720x504 with 2 Axes>"
      ]
     },
     "metadata": {},
     "output_type": "display_data"
    }
   ],
   "source": [
    "import seaborn as sns\n",
    "import pandas as pd\n",
    "import matplotlib.pyplot as plt\n",
    "%matplotlib inline\n",
    "sns.set(font_scale=2)\n",
    "array = ([1,0,0,0], [0,1,0,0], [0,0,1,0], [0,1,0,2])\n",
    "df_cm = pd.DataFrame(array, index=[\"A\",\"B\",\"C\",\"D\"],\n",
    "                        columns=[\"A\",\"B\",\"C\",\"D\"])\n",
    "plt.figure(figsize=(10,7))\n",
    "plt.title('confusion matrix')\n",
    "sns.heatmap(df_cm, annot=True)"
   ]
  },
  {
   "cell_type": "markdown",
   "metadata": {},
   "source": [
    "2. Confusion Matrix with normalization"
   ]
  },
  {
   "cell_type": "code",
   "execution_count": 18,
   "metadata": {},
   "outputs": [
    {
     "data": {
      "text/plain": [
       "<matplotlib.axes._subplots.AxesSubplot at 0x28a0599f6d0>"
      ]
     },
     "execution_count": 18,
     "metadata": {},
     "output_type": "execute_result"
    },
    {
     "data": {
      "image/png": "[encoded data removed]",
      "text/plain": [
       "<Figure size 720x504 with 2 Axes>"
      ]
     },
     "metadata": {},
     "output_type": "display_data"
    }
   ],
   "source": [
    "import numpy as np\n",
    "total = np.sum(array, axis = 1)\n",
    "array = array / total[:, None]\n",
    "df_cm = pd.DataFrame(array, index=[\"A\",\"B\",\"C\",\"D\"],\n",
    "                        columns=[\"A\",\"B\",\"C\",\"D\"])\n",
    "plt.figure(figsize=(10,7))\n",
    "plt.title('confusion matrix with normalization')\n",
    "sns.heatmap(df_cm, annot=True)"
   ]
  },
  {
   "cell_type": "markdown",
   "metadata": {},
   "source": [
    "### 다중 분류 모델 성능 평가  \n",
    "![image](https://user-images.githubusercontent.com/45345120/94510085-dc348200-0250-11eb-95fd-0f678b6f9e70.png)   \n",
    "위의 표를 보고 모델 성능을 측정해봅시다. (소수점 셋째자리에서 반올림)"
   ]
  },
  {
   "cell_type": "markdown",
   "metadata": {},
   "source": [
    "0. **A의** (1)TP(True Positive), (2)TN(True Negative), (3)FP, (4)FN 을 각각 구하시오.  \n",
    "    (1) 9\n",
    "    (2) 64\n",
    "    (3) 6\n",
    "    (4) 1"
   ]
  },
  {
   "cell_type": "markdown",
   "metadata": {},
   "source": [
    "1. Accuracy  <br><br>\n",
    "$Accuracy = \\frac{TP}{TP+TN+FP+FN}$ <hr>\n",
    "$\\frac{9+15+24+15}{80}$ <br>\n",
    "$∴Accuracy = 0.78$"
   ]
  },
  {
   "cell_type": "markdown",
   "metadata": {},
   "source": [
    "&nbsp;&nbsp;&nbsp;&nbsp; if data is balanced, consider accuracy!<br>\n",
    "&nbsp;&nbsp;&nbsp;&nbsp; if data is imbalanced, consider f1 score!<br>"
   ]
  },
  {
   "cell_type": "markdown",
   "metadata": {},
   "source": [
    "2. Average Precision  <br><br>\n",
    "$Precision = \\frac{TP}{TP+FP}$  &nbsp; : 해당 class의 actual values (column) 확인 <br>\n",
    "$Average Precision = \\frac{P(A)+P(B)+P(C)+P(D)}{4}$ (4: the number of classes)\n",
    "<hr>\n",
    "$P(A) = \\frac{9}{15} P(B) = \\frac{15}{20} P(C) = \\frac{24}{28} P(D) = \\frac{15}{17}$\n",
    "<br>\n",
    "\n",
    "    $∴Average Precision = 0.77$"
   ]
  },
  {
   "cell_type": "markdown",
   "metadata": {},
   "source": [
    "3. Average Recall  <br><br>\n",
    "$Average Recall = \\frac{TP}{TP+FN}$  &nbsp; : 해당 class의 predictions (row) 확인 \n",
    "$Average Recall = \\frac{R(A)+R(B)+R(C)+R(D)}{4}$ (4: the number of classes)\n",
    "<hr>\n",
    "$R(A) = \\frac{9}{10} R(B) = \\frac{15}{20} R(C) = \\frac{24}{30} R(D) = \\frac{15}{20}$\n",
    "<br> \n",
    "\n",
    "    $∴ Average Recall = 0.8$"
   ]
  },
  {
   "cell_type": "markdown",
   "metadata": {},
   "source": [
    "4. f1 score  \n",
    "$f1 score = 2 X \\frac{Precision X Recall}{Precision + Recall}$ <hr>\n",
    "$2 X \\frac{0.77 X 0.8}{0.77 + 0.8}$ <br>\n",
    "\n",
    "    $∴f1 score = 0.79$"
   ]
  },
  {
   "cell_type": "markdown",
   "metadata": {},
   "source": [
    "## 2. 머신러닝 알고리즘 - 알고리즘 2개\\[필수] 선택해서 작성 (다 하셔도 됩니다!)   \n",
    "### 선택한 알고리즘 옆에 **❄**를 붙여주세요.  \n",
    "사진을 추가해도 되고 자유 형식입니다.\n",
    "[강의링크](https://edu.goorm.io/learn/lecture/4012/%2525EB%2525A8%2525B8%2525EC%25258B%2525A0%2525EB%25259F%2525AC%2525EB%25258B%25259D-%2525EC%25259D%2525B4%2525EB%2525A1%2525A0-%2525EB%2525B0%25258F-%2525ED%25258C%25258C%2525EC%25259D%2525B4%2525EC%25258D%2525AC-%2525EC%25258B%2525A4%2525EC%25258A%2525B5#) (머신러닝1, 머신러닝2-kmeans)"
   ]
  },
  {
   "cell_type": "markdown",
   "metadata": {},
   "source": [
    "### 1. KNN(k-Nearest Neighbors) **❄**"
   ]
  },
  {
   "cell_type": "markdown",
   "metadata": {},
   "source": [
    "1. KNN 알고리즘\n",
    "K - Neareast Neighbors 최근접 이웃 알고리즘\n",
    "\n",
    "    - 지도 학습 (Supervised Learning)\n",
    "        - 분류(Classification)와 회귀(Regression)가 모두 가능\n",
    "    <br><br>\n",
    "    - 새로운 데이터가 주어졌을 때 기존 데이터 가운데 가장 가까운 k개 이웃의 정보로 새로운 데이터를 예측\n",
    "    <br><br>\n",
    "    - 거리를 측정할 때는 주로 유클리디안 거리 계산법(<-피타고라스 정리)을 사용\n"
   ]
  },
  {
   "cell_type": "code",
   "execution_count": 19,
   "metadata": {
    "tags": []
   },
   "outputs": [
    {
     "name": "stdout",
     "output_type": "stream",
     "text": [
      "results의 처음 6개 ==> ['virginica', 'versicolor', 'setosa', 'virginica', 'setosa', 'virginica']\n",
      "score 메소드 이용 ==> 0.933\n"
     ]
    }
   ],
   "source": [
    "from sklearn.datasets import load_iris\n",
    "from sklearn.model_selection import train_test_split\n",
    "from sklearn.neighbors import KNeighborsClassifier\n",
    "\n",
    "# iris data 로드\n",
    "iris = load_iris()\n",
    "\n",
    "# data split\n",
    "x_train, x_test, y_train, y_test = train_test_split(iris.data, iris.target, train_size = 0.3, random_state = 0)\n",
    "\n",
    "# classifier 객체 생성\n",
    "knn = KNeighborsClassifier(n_neighbors = 1, n_jobs = -1)\n",
    "# n_neighbors는 가장 가까운 이웃 개수\n",
    "# n_jobs는 사용할 코어의 개수 (-1이면 모든 코어 사용)\n",
    "knn.fit(x_train, y_train)\n",
    "\n",
    "prediction = knn.predict(x_test)    # knn 이용해 x_test 예측\n",
    "results = [iris.target_names[p] for p in prediction]\n",
    "print('results의 처음 6개 ==> {}'.format(results[:6]))\n",
    "\n",
    "# 정확도 계산\n",
    "print('score 메소드 이용 ==> {:.3f}'.format(knn.score(x_test, y_test)))"
   ]
  },
  {
   "cell_type": "markdown",
   "metadata": {},
   "source": [
    "### 2. Decision Tree **❄**"
   ]
  },
  {
   "cell_type": "markdown",
   "metadata": {},
   "source": [
    "1. Decision Tree 알고리즘\n",
    "    의사 결정 트리\n",
    "\n",
    "    - 지도 학습 (Supervised Learning)\n",
    "        - 분류(Classification)와 회귀(Regression)가 모두 가능\n",
    "    <br><br>\n",
    "    \n",
    "    - 특정 기준(질문)에 따라 데이터를 구분하는 모델\n",
    "    <br><br>\n",
    "    1-1) Define Problem <br>\n",
    "    1-2) Collect training Data\n",
    "    <br><br>\n",
    "    2-1) Extract Data <br>\n",
    "    2-2) Build a tree\n",
    "    <br><br>\n",
    "    3) Deploy machine\n",
    "    <br><br>\n",
    "    4) Test with test data"
   ]
  },
  {
   "cell_type": "markdown",
   "metadata": {},
   "source": [
    "2. \n",
    "    <br>\n",
    "    (1) Entropy \n",
    "    \n",
    "    불순도(Impurity): 해당 범주 안에 서로 다른 데이터가 얼마나 섞여있는지를 뜻함\n",
    "    \n",
    "    Entropy: 불순도를 수치적으로 나타낸 척도 <br>\n",
    "\n",
    "      $Entropy = -p(+)*\\log((p(+)) - p(-) * \\log(p(-))$\n",
    "      \n",
    "   <br> \n",
    "   (2) Information Gain\n",
    "   \n",
    "   정보획득: 분기 이전의 엔트로피에서 분기 이후의 엔트로피를 뺀 수치\n",
    "   \n",
    "   Information gain = entropy(parent) - [weighted averge] entropy(children)\n",
    "   \n",
    "   **결정 트리 알고리즘은 정보 획득을 최대화하는 방향으로 학습 진행**"
   ]
  },
  {
   "cell_type": "markdown",
   "metadata": {},
   "source": [
    "3. Information Gain 구하기  \n",
    "<table>\n",
    "    <thead>\n",
    "        <th>ID</th>\n",
    "        <th>Cartoon</th>\n",
    "        <th>WinterFamilyPhoto</th>\n",
    "    </thead>\n",
    "    <tbody>\n",
    "        <tr>\n",
    "            <td>1</td>\n",
    "            <td>No</td>\n",
    "            <td>Yes</td>\n",
    "        </tr>\n",
    "        <tr>\n",
    "            <td>2</td>\n",
    "            <td>Yes</td>\n",
    "            <td>No</td>\n",
    "        </tr>\n",
    "        <tr>\n",
    "            <td>3</td>\n",
    "            <td>Yes</td>\n",
    "            <td>No</td>\n",
    "        </tr>\n",
    "        <tr>\n",
    "            <td>4</td>\n",
    "            <td>No</td>\n",
    "            <td>No</td>\n",
    "        </tr>\n",
    "    </tbody>\n",
    "</table>"
   ]
  },
  {
   "cell_type": "markdown",
   "metadata": {},
   "source": [
    "(1) 위의 표 상황에서의 Entropy 구하기 <br><br>\n",
    "Total 4 photos <br>\n",
    "1 photo: winter family photo <br>\n",
    "3 photos: not winter family photo <br>\n",
    "<br>\n",
    "E(WinterFamilyPhoto) <br>\n",
    "= Entropy([1+, 3-]) <br>\n",
    "= -(1/4)*log(1/4) - (3/4)*log(3/4) <br>\n",
    "= 0.244\n",
    "<br><br>\n",
    "(2) Cartoon 기준으로 나눴을 때, Information gain 구하기 <br><br>\n",
    "IG(WinterFamilyPhoto, Cartoon) <br>\n",
    "= E(WinterFamilyPhoto) - E(WinterFamilyPhoto, Cartoon) <br>\n",
    "= 0.244 - (2/4 * E([0+, 2-]) + 2/4 * E([1+, 1-])) <br>\n",
    "= 0.094"
   ]
  },
  {
   "cell_type": "code",
   "execution_count": 4,
   "metadata": {
    "tags": []
   },
   "outputs": [
    {
     "name": "stdout",
     "output_type": "stream",
     "text": [
      "|--- feature_3 <= 0.75\n",
      "|   |--- class: 0\n",
      "|--- feature_3 >  0.75\n",
      "|   |--- feature_2 <= 4.95\n",
      "|   |   |--- class: 1\n",
      "|   |--- feature_2 >  4.95\n",
      "|   |   |--- class: 2\n",
      "\n",
      "results의 처음 6개 ==> ['virginica', 'versicolor', 'setosa', 'virginica', 'setosa', 'virginica']\n",
      "score 메소드 이용 ==> 0.911\n"
     ]
    }
   ],
   "source": [
    "from sklearn.datasets import load_iris\n",
    "from sklearn.model_selection import train_test_split\n",
    "from sklearn.tree import DecisionTreeClassifier\n",
    "from sklearn.tree import export_text\n",
    "# iris data 로드\n",
    "iris = load_iris()\n",
    "# data split\n",
    "x_train, x_test, y_train, y_test = train_test_split(iris.data, iris.target, test_size = 0.3, random_state = 0)\n",
    "# classifier 객체 생성\n",
    "decision_tree = DecisionTreeClassifier(max_depth = 2, random_state = 0)\n",
    "# max_depth 는 트리의 최대 깊이\n",
    "# default = None \n",
    "# -> 완벽하게 클래스 값이 결정되거나 데이터 개수가 min_samples_split 보다 작아질 때까지 분할\n",
    "decision_tree.fit(x_train, y_train)\n",
    "r = export_text(decision_tree)         # export_text 함수를 이용해 decision_tree 출력\n",
    "print(r)\n",
    "\n",
    "prediction = decision_tree.predict(x_test)\n",
    "results = [iris.target_names[p] for p in prediction]\n",
    "print('results의 처음 6개 ==> {}'.format(results[:6]))\n",
    "\n",
    "# 정확도 계산\n",
    "print('score 메소드 이용 ==> {:.3f}'.format(decision_tree.score(x_test, y_test)))"
   ]
  },
  {
   "cell_type": "markdown",
   "metadata": {},
   "source": [
    "### 3. Naive Bayes"
   ]
  },
  {
   "cell_type": "markdown",
   "metadata": {},
   "source": [
    "1. 조건부 확률   \n",
    "\\[답변]"
   ]
  },
  {
   "cell_type": "markdown",
   "metadata": {},
   "source": [
    "2. 베이즈 정리  \n",
    "\\[답변]"
   ]
  },
  {
   "cell_type": "markdown",
   "metadata": {},
   "source": [
    "3. 확률 계산  \n",
    "<table>\n",
    "    <thead>\n",
    "        <th>Index</th>\n",
    "        <th>Email</th>\n",
    "        <th>Spam</th>\n",
    "    </thead>\n",
    "    <tbody>\n",
    "        <tr>\n",
    "            <td>1</td>\n",
    "            <td>I got <strong>free</strong> two movie ticket from your boy friend</td>\n",
    "            <td>False</td>\n",
    "        </tr>\n",
    "        <tr>\n",
    "            <td>2</td>\n",
    "            <td><strong>free</strong> coupon from xx.com</td>\n",
    "            <td><strong>True</strong></td>\n",
    "        </tr>\n",
    "        <tr>\n",
    "            <td>3</td>\n",
    "            <td>watch <strong>free</strong> new movie from freemovie.com</td>\n",
    "            <td><strong>True</strong></td>\n",
    "        </tr>\n",
    "        <tr>\n",
    "            <td>4</td>\n",
    "            <td>Best deal, promo code here</td>\n",
    "            <td><strong>True</strong></td>\n",
    "        </tr>\n",
    "        <tr>\n",
    "            <td>5</td>\n",
    "            <td>There will be <strong>free</strong> pizza today 2pm meeting - your boss</td>\n",
    "            <td>False</td>\n",
    "        </tr>\n",
    "        <tr>\n",
    "            <td>6</td>\n",
    "            <td>Scheduled meeting tomorrow</td>\n",
    "            <td>False</td>\n",
    "        </tr>\n",
    "        <tr>\n",
    "            <td>7</td>\n",
    "            <td>Can we have lunch today?</td>\n",
    "            <td>False</td>\n",
    "        </tr>\n",
    "        <tr>\n",
    "            <td>8</td>\n",
    "            <td>I miss you</td>\n",
    "            <td>False</td>\n",
    "        </tr>\n",
    "        <tr>\n",
    "            <td>9</td>\n",
    "            <td>thanks my friend</td>\n",
    "            <td>False</td>\n",
    "        </tr>\n",
    "        <tr>\n",
    "            <td>10</td>\n",
    "            <td>It was good to see you today</td>\n",
    "            <td>False</td>\n",
    "        </tr>\n",
    "    </tbody>\n",
    "</table>"
   ]
  },
  {
   "cell_type": "markdown",
   "metadata": {},
   "source": [
    "(1) Spam 메일일 확률    \n",
    "\\[답변] P(Spam) =\n"
   ]
  },
  {
   "cell_type": "markdown",
   "metadata": {},
   "source": [
    "(2) 메일에 \"free\" 단어가 포함되어 있을 확률  \n",
    "\\[답변] P(\"free\") = "
   ]
  },
  {
   "cell_type": "markdown",
   "metadata": {},
   "source": [
    "(3) 스팸 메일에 \"free\" 단어가 포함되어 있을 확률   \n",
    "\\[답변] P(\"free\" | Spam) = "
   ]
  },
  {
   "cell_type": "markdown",
   "metadata": {},
   "source": [
    "(4) 메일에 \"free\" 단어가 포함되어 있을 경우 이 메일이 스팸일 확률  \n",
    "\\[답변] P(Spam | \"free\") = "
   ]
  },
  {
   "cell_type": "code",
   "execution_count": null,
   "metadata": {
    "tags": []
   },
   "outputs": [],
   "source": [
    "# 아래 pass 부분을 지우고 내용을 채워주세요.\n",
    "from sklearn.datasets import load_iris\n",
    "from sklearn.model_selection import train_test_split\n",
    "from sklearn.naive_bayes import GaussianNB\n",
    "# iris data 로드\n",
    "iris = load_iris()\n",
    "# data split\n",
    "x_train, x_test, y_train, y_test = pass # x : iris.data / y : iris.target / test_size=0.3 / random_state=0\n",
    "# classifier 객체 생성\n",
    "gnb = pass\n",
    "gnb.pass         # x_train, y_train 이용해 트레이닝\n",
    "\n",
    "prediction = gnb.pass       # gnb 이용해 x_test 예측\n",
    "results = [iris.target_names[p] for p in prediction]\n",
    "print('results의 처음 6개 ==> {}'.format(results[:6]))\n",
    "\n",
    "# 정확도 계산\n",
    "print('score 메소드 이용 ==> {:.3f}'.format(gnb.pass))        # x_test, y_test를 이용해 정확도 측정  "
   ]
  },
  {
   "cell_type": "markdown",
   "metadata": {},
   "source": [
    "### 4. SVM (Support Vector Machine)"
   ]
  },
  {
   "cell_type": "markdown",
   "metadata": {},
   "source": [
    "1. SVM 알고리즘 정리  \n",
    "\\[답변]"
   ]
  },
  {
   "cell_type": "markdown",
   "metadata": {},
   "source": [
    "2. SVM 파라미터 2가지  \n",
    "\\[답변] "
   ]
  },
  {
   "cell_type": "markdown",
   "metadata": {},
   "source": [
    "3. Grid Search 정리  \n",
    "\\[답변]"
   ]
  },
  {
   "cell_type": "code",
   "execution_count": null,
   "metadata": {
    "tags": []
   },
   "outputs": [],
   "source": [
    "# 아래 pass 부분을 지우고 내용을 채워주세요.\n",
    "from sklearn.datasets import load_iris\n",
    "from sklearn.model_selection import train_test_split\n",
    "from sklearn.svm import SVC\n",
    "# iris data 로드\n",
    "iris = load_iris()\n",
    "# data split\n",
    "x_train, x_test, y_train, y_test = pass      # x : iris.data / y : iris.target / test_size=0.3 / random_state=0\n",
    "# classifier 객체 생성\n",
    "svc = pass\n",
    "svc.pass            # x_train, y_train 이용해 트레이닝\n",
    "\n",
    "prediction = svc.pass       # svc 이용해 x_test 예측\n",
    "results = [iris.target_names[p] for p in prediction]\n",
    "print('results의 처음 6개 ==> {}'.format(results[:6]))\n",
    "\n",
    "# 정확도 계산\n",
    "print('score 메소드 이용 ==> {:.3f}'.format(svc.pass))          # x_test, y_test를 이용해 정확도 측정"
   ]
  },
  {
   "cell_type": "markdown",
   "metadata": {},
   "source": [
    "### 5. Linear Regression"
   ]
  },
  {
   "cell_type": "markdown",
   "metadata": {},
   "source": [
    "1. Classification VS Regression  \n",
    "\\[답변] "
   ]
  },
  {
   "cell_type": "markdown",
   "metadata": {},
   "source": [
    "3. Mean Square Error 란?  \n",
    "\\[답변] "
   ]
  },
  {
   "cell_type": "markdown",
   "metadata": {},
   "source": [
    "4. Error = h(x) - y 일 때 Mean Square Error   \n",
    "\\[답변] Mean Square Error = "
   ]
  },
  {
   "cell_type": "markdown",
   "metadata": {},
   "source": [
    "5. Gradient Descent 정리  \n",
    "\\[답변]"
   ]
  },
  {
   "cell_type": "code",
   "execution_count": null,
   "metadata": {},
   "outputs": [],
   "source": [
    "# 아래 pass 부분을 지우고 내용을 채워주세요.\n",
    "# 이 예제에서는 sepal length를 예측해봅시다.\n",
    "from sklearn.datasets import load_iris\n",
    "from sklearn.model_selection import train_test_split\n",
    "import pandas as pd\n",
    "\n",
    "# Load Iris Data\n",
    "iris = load_iris()\n",
    "iris_df = pd.DataFrame(data= iris.data, columns= iris.feature_names)        \n",
    "target_df = pd.DataFrame(data= iris.target, columns= ['species'])\n",
    "# Converting Objects to Numerical dtype\n",
    "iris_df = pd.concat([iris_df, target_df], axis= 1)\n",
    "\n",
    "iris_df"
   ]
  },
  {
   "cell_type": "code",
   "execution_count": null,
   "metadata": {
    "tags": []
   },
   "outputs": [],
   "source": [
    "from sklearn.linear_model import LinearRegression\n",
    "x = iris_df.pass        # 'sepal length (cm)' column drop\n",
    "y = iris_df['sepal length (cm)']    \n",
    "# data split\n",
    "x_train, x_test, y_train, y_test = pass    # test_size=0.3 / random_state=0\n",
    "# classifier 객체 생성\n",
    "lr = pass\n",
    "lr.pass         # x_train, y_train 이용해 트레이닝\n",
    "\n",
    "prediction = lr.pass           # lr 이용해 x_test 예측 \n",
    "print('실제 값의 처음 6개 ==> {}'.format(y_test.values[:6]))\n",
    "print('results의 처음 6개 ==> {}'.format(prediction[:6]))\n",
    "\n",
    "# 정확도 계산\n",
    "print('score 메소드 이용 ==> {:.3f}'.format(lr.pass))       # x_test, y_test를 이용해 정확도 측정"
   ]
  },
  {
   "cell_type": "markdown",
   "metadata": {},
   "source": [
    "### 6. Logistic Regression"
   ]
  },
  {
   "cell_type": "markdown",
   "metadata": {},
   "source": [
    "1. Linear regression VS Logistic Regression  \n",
    "\\[답변] "
   ]
  },
  {
   "cell_type": "markdown",
   "metadata": {},
   "source": [
    "2. Sigmoid Function 정리  \n",
    "\\[답변]"
   ]
  },
  {
   "cell_type": "markdown",
   "metadata": {},
   "source": [
    "3. Cost function?  \n",
    "\\[답변] "
   ]
  },
  {
   "cell_type": "code",
   "execution_count": null,
   "metadata": {
    "tags": []
   },
   "outputs": [],
   "source": [
    "# 아래 pass 부분을 지우고 내용을 채워주세요.\n",
    "from sklearn.datasets import load_iris\n",
    "from sklearn.model_selection import train_test_split\n",
    "from sklearn.linear_model import LogisticRegression\n",
    "# iris data 로드\n",
    "iris = load_iris()\n",
    "# data split\n",
    "x_train, x_test, y_train, y_test = pass      # x : iris.data / y : iris.target / test_size=0.3 / random_state=0\n",
    "# classifier 객체 생성\n",
    "lr = pass\n",
    "lr.pass             # x_train, y_train 이용해 트레이닝\n",
    "\n",
    "prediction = lr.pass           # lr 이용해 x_test 예측\n",
    "results = [iris.target_names[p] for p in prediction]\n",
    "print('results의 처음 6개 ==> {}'.format(results[:6]))\n",
    "\n",
    "# 정확도 계산\n",
    "print('score 메소드 이용 ==> {:.3f}'.format(lr.pass))       # x_test, y_test를 이용해 정확도 측정"
   ]
  },
  {
   "cell_type": "markdown",
   "metadata": {},
   "source": [
    "### 7. 랜덤 포레스트 Random Forest"
   ]
  },
  {
   "cell_type": "markdown",
   "metadata": {},
   "source": [
    "1. Random Forest 알고리즘 정리  \n",
    "\\[답변]"
   ]
  },
  {
   "cell_type": "code",
   "execution_count": null,
   "metadata": {
    "tags": []
   },
   "outputs": [],
   "source": [
    "# 아래 pass 부분을 지우고 내용을 채워주세요.\n",
    "from sklearn.datasets import load_iris\n",
    "from sklearn.model_selection import train_test_split\n",
    "from sklearn.ensemble import RandomForestClassifier\n",
    "# iris data 로드\n",
    "iris = load_iris()\n",
    "# data split\n",
    "x_train, x_test, y_train, y_test = pass      # x : iris.data / y : iris.target / test_size=0.3 / random_state=0\n",
    "# classifier 객체 생성\n",
    "clf = pass       # max_depth = 2 / random_state = 0\n",
    "# max_depth 의미? [답변]\n",
    "clf.pass         # x_train, y_train 이용해 트레이닝\n",
    "\n",
    "prediction = clf.pass           # clf 이용해 x_test 예측\n",
    "results = [iris.target_names[p] for p in prediction]\n",
    "print('results의 처음 6개 ==> {}'.format(results[:6]))\n",
    "\n",
    "# 정확도 계산\n",
    "print('score 메소드 이용 ==> {:.3f}'.format(clf.pass))          # x_test, y_test를 이용해 정확도 측정"
   ]
  },
  {
   "cell_type": "markdown",
   "metadata": {},
   "source": [
    "### 8. 앙상블"
   ]
  },
  {
   "cell_type": "markdown",
   "metadata": {},
   "source": [
    "1. Ensemble 기법 정리  \n",
    "\\[답변]"
   ]
  },
  {
   "cell_type": "markdown",
   "metadata": {},
   "source": [
    "2. hard voting VS soft voting  \n",
    "\\[답변] "
   ]
  },
  {
   "cell_type": "markdown",
   "metadata": {},
   "source": [
    "### 9. kmean 클러스터링"
   ]
  },
  {
   "cell_type": "markdown",
   "metadata": {},
   "source": [
    "1. k-mean 알고리즘 단계 - 추가 및 제거 가능  \n",
    "(1)\n",
    "<br>\n",
    "(2)\n",
    "<br>\n",
    "(3)\n",
    "<br>\n",
    "(4)\n",
    "<br>\n",
    "(5)\n",
    "<br>\n",
    "(6)\n",
    "<br>"
   ]
  },
  {
   "cell_type": "markdown",
   "metadata": {},
   "source": [
    "2. clustering이 끝났다고 판단되는 경우?  \n",
    "\\[답변]"
   ]
  },
  {
   "cell_type": "markdown",
   "metadata": {},
   "source": [
    "3. 초기 centroid 결정하는 방법 3가지와 그에 대한 설명  \n",
    "\\[답변(1)]\n",
    "<br>\n",
    "\\[답변(2)] \n",
    "<br>\n",
    "\\[답변(3)]\n"
   ]
  },
  {
   "cell_type": "markdown",
   "metadata": {},
   "source": [
    "4. KMeans 사용해보기"
   ]
  },
  {
   "cell_type": "code",
   "execution_count": null,
   "metadata": {},
   "outputs": [],
   "source": [
    "# 필요한 패키지 import\n",
    "import pandas as pd\n",
    "import numpy as np\n",
    "from sklearn.cluster import KMeans\n",
    "import matplotlib.pyplot as plt\n",
    "import seaborn as sns\n",
    "%matplotlib inline\n",
    "# Create data points\n",
    "array = [[3,1], [4,1], [3,2], [4,2],\n",
    "         [10,5], [10,6], [11,5], [11,6],\n",
    "         [15,1], [15,2], [16,1], [16,2]]\n",
    "df = pd.DataFrame(array, columns=['x', 'y'])\n",
    "\n",
    "# convert dataframe to numpy array\n",
    "data_points = df.values\n",
    "kmeans = pass    # cluster 개수 = 3 으로 KMeans clustering\n",
    "df['cluster_id'] = pass # clustering된 각 점의 cluster 번호 저장\n",
    "\n",
    "# Visualize data point\n",
    "sns.lmplot('x', 'y', data=df, fit_reg=False,                    \n",
    "            scatter_kws={\"s\": 200},\n",
    "            hue=\"cluster_id\")\n",
    "plt.title(\"kmean plot\")\n",
    "plt.xlabel(\"x\")\n",
    "plt.ylabel(\"y\")\n"
   ]
  }
 ],
 "metadata": {
  "kernelspec": {
   "display_name": "Python 3",
   "language": "python",
   "name": "python3"
  },
  "language_info": {
   "codemirror_mode": {
    "name": "ipython",
    "version": 3
   },
   "file_extension": ".py",
   "mimetype": "text/x-python",
   "name": "python",
   "nbconvert_exporter": "python",
   "pygments_lexer": "ipython3",
   "version": "3.8.3"
  }
 },
 "nbformat": 4,
 "nbformat_minor": 2
}
