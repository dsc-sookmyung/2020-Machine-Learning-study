{
 "cells": [
  {
   "cell_type": "markdown",
   "metadata": {},
   "source": [
    "# \\[Week2] 머신러닝 기초"
   ]
  },
  {
   "cell_type": "markdown",
   "metadata": {},
   "source": [
    "## 1. 머신러닝 기본 용어 정리\n",
    "[강의링크](https://edu.goorm.io/learn/lecture/4012/%EB%A8%B8%EC%8B%A0%EB%9F%AC%EB%8B%9D-%EC%9D%B4%EB%A1%A0-%EB%B0%8F-%ED%8C%8C%EC%9D%B4%EC%8D%AC-%EC%8B%A4%EC%8A%B5)\n",
    "04.머신러닝2(오버피팅언더피팅 극복하기 ~ ) 수강하시면 됩니다.  \n",
    "당연히 그냥 구글링하셔도 됩니다.  \n",
    "\\*각 용어 정리는 본인이 추후에 보기 편한 방법으로 자유롭게 하시면 됩니다.  \n",
    "참고) 소수점 셋째자리 아래는 버림하셔도 됩니다."
   ]
  },
  {
   "cell_type": "markdown",
   "metadata": {},
   "source": [
    "### overfitting & underfitting"
   ]
  },
  {
   "cell_type": "markdown",
   "metadata": {},
   "source": [
    "1. 오버피팅(overfitting)이란?  \n",
    "\\[답변] high variance. 노드들 간 얼마나 다른가. ex) 공통점이 too much해서 잘못 유추함. "
   ]
  },
  {
   "cell_type": "markdown",
   "metadata": {},
   "source": [
    "2. 언더피팅(underfitting)이란?  \n",
    "\\[답변] high bias. 정답으로부터 얼마나 멀리 있는가. ex) 공통점이 적어 잘 유추하지 못함. "
   ]
  },
  {
   "cell_type": "markdown",
   "metadata": {},
   "source": [
    "3. underfitting 막는 방법 2가지  \n",
    "\\[답변] feature(ex. 공통점)를 더 넣어준다, 자체적으로 variance가 높은 ml모델(decision tree, knn, svm)을 사용한다. "
   ]
  },
  {
   "cell_type": "markdown",
   "metadata": {},
   "source": [
    "4. overfitting 판단 방법  \n",
    "\\[답변] train data에서는 잘 작동하나 test에서는 잘 작동하지 않는다. "
   ]
  },
  {
   "cell_type": "markdown",
   "metadata": {},
   "source": [
    "5. overfitting 막는 방법  \n",
    "\\[답변] validation set을 사용. ex) K-Folds cross validation"
   ]
  },
  {
   "cell_type": "markdown",
   "metadata": {},
   "source": [
    "### Norm  \n",
    "아래 수식은 파이썬으로 작성 : x는 numpy array로 가정   \n",
    "힌트) abs 함수 쓸 것"
   ]
  },
  {
   "cell_type": "markdown",
   "metadata": {},
   "source": [
    "1. Norm 수식   \n",
    "\\[답변] np.power(np.sum(np.power(np.abs(x), p), axis = 1), 1.0 / p)"
   ]
  },
  {
   "cell_type": "markdown",
   "metadata": {},
   "source": [
    "2. L1 Norm 수식    \n",
    "\\[답변] np.sum(np.abs(x), axis = 1)"
   ]
  },
  {
   "cell_type": "markdown",
   "metadata": {},
   "source": [
    "3. L2 Norm 수식  \n",
    "\\[답변] np.sqrt(np.sum(np.square(x), axis = 1))"
   ]
  },
  {
   "cell_type": "markdown",
   "metadata": {},
   "source": [
    "4. L2 Norm이 사용되는 Machine Learning 알고리즘   \n",
    "\\[답변] knn, kmean"
   ]
  },
  {
   "cell_type": "markdown",
   "metadata": {},
   "source": [
    "### PCA 차원 축소"
   ]
  },
  {
   "cell_type": "markdown",
   "metadata": {},
   "source": [
    "PC(Principal Component) Analysis. longest distance를 갖는 선을 긋는다.  \n",
    "PC = Eigen Vector from Covariance Matrix\n",
    "\n",
    "N dimension has N eigen vectors. "
   ]
  },
  {
   "cell_type": "markdown",
   "metadata": {},
   "source": [
    "### Confusion Matrix (혼동 행렬)  \n",
    "![image](https://user-images.githubusercontent.com/45345120/94503235-f23a4680-0240-11eb-9fae-86768d58ff58.png)"
   ]
  },
  {
   "cell_type": "markdown",
   "metadata": {},
   "source": [
    "1. Confusion matrix 그리기"
   ]
  },
  {
   "cell_type": "code",
   "execution_count": 1,
   "metadata": {},
   "outputs": [
    {
     "ename": "ModuleNotFoundError",
     "evalue": "No module named 'seaborn'",
     "output_type": "error",
     "traceback": [
      "\u001b[1;31m---------------------------------------------------------------------------\u001b[0m",
      "\u001b[1;31mModuleNotFoundError\u001b[0m                       Traceback (most recent call last)",
      "\u001b[1;32m<ipython-input-1-7be84493ce0c>\u001b[0m in \u001b[0;36m<module>\u001b[1;34m\u001b[0m\n\u001b[1;32m----> 1\u001b[1;33m \u001b[1;32mimport\u001b[0m \u001b[0mseaborn\u001b[0m \u001b[1;32mas\u001b[0m \u001b[0msns\u001b[0m\u001b[1;33m\u001b[0m\u001b[1;33m\u001b[0m\u001b[0m\n\u001b[0m\u001b[0;32m      2\u001b[0m \u001b[1;32mimport\u001b[0m \u001b[0mpandas\u001b[0m \u001b[1;32mas\u001b[0m \u001b[0mpd\u001b[0m\u001b[1;33m\u001b[0m\u001b[1;33m\u001b[0m\u001b[0m\n\u001b[0;32m      3\u001b[0m \u001b[1;32mimport\u001b[0m \u001b[0mmatplotlib\u001b[0m\u001b[1;33m.\u001b[0m\u001b[0mpyplot\u001b[0m \u001b[1;32mas\u001b[0m \u001b[0mplt\u001b[0m\u001b[1;33m\u001b[0m\u001b[1;33m\u001b[0m\u001b[0m\n\u001b[0;32m      4\u001b[0m \u001b[0mget_ipython\u001b[0m\u001b[1;33m(\u001b[0m\u001b[1;33m)\u001b[0m\u001b[1;33m.\u001b[0m\u001b[0mrun_line_magic\u001b[0m\u001b[1;33m(\u001b[0m\u001b[1;34m'matplotlib'\u001b[0m\u001b[1;33m,\u001b[0m \u001b[1;34m'inline'\u001b[0m\u001b[1;33m)\u001b[0m\u001b[1;33m\u001b[0m\u001b[1;33m\u001b[0m\u001b[0m\n\u001b[0;32m      5\u001b[0m \u001b[0msns\u001b[0m\u001b[1;33m.\u001b[0m\u001b[0mset\u001b[0m\u001b[1;33m(\u001b[0m\u001b[0mfont_scale\u001b[0m\u001b[1;33m=\u001b[0m\u001b[1;36m2\u001b[0m\u001b[1;33m)\u001b[0m\u001b[1;33m\u001b[0m\u001b[1;33m\u001b[0m\u001b[0m\n",
      "\u001b[1;31mModuleNotFoundError\u001b[0m: No module named 'seaborn'"
     ]
    }
   ],
   "source": [
    "import seaborn as sns\n",
    "import pandas as pd\n",
    "import matplotlib.pyplot as plt\n",
    "%matplotlib inline\n",
    "sns.set(font_scale=2)\n",
    "array = [[1, 0, 0, 0], [0, 1, 0, 1], [0, 0, 1, 0], [0, 0, 0, 2]]\n",
    "df_cm = pd.DataFrame(array, index=[\"A\",\"B\",\"C\",\"D\"],\n",
    "                        columns=[\"A\",\"B\",\"C\",\"D\"])\n",
    "plt.figure(figsize=(10,7))\n",
    "plt.title('confusion matrix')\n"
   ]
  },
  {
   "cell_type": "markdown",
   "metadata": {},
   "source": [
    "2. Confusion Matrix with normalization"
   ]
  },
  {
   "cell_type": "code",
   "execution_count": null,
   "metadata": {},
   "outputs": [],
   "source": [
    "# 위의 셀을 먼저 실행한 후 실행해주세요, 변수 임의로 추가 가능\n",
    "array = # normalization\n",
    "df_cm = pd.DataFrame(array, index=[\"A\",\"B\",\"C\",\"D\"],\n",
    "                        columns=[\"A\",\"B\",\"C\",\"D\"])\n",
    "plt.figure(figsize=(10,7))\n",
    "plt.title('confusion matrix with normalization')\n",
    "# heatmap 그리기 - 매트릭스 안에 숫자 나오도록 설정"
   ]
  },
  {
   "cell_type": "markdown",
   "metadata": {},
   "source": [
    "### 다중 분류 모델 성능 평가  \n",
    "![image](https://user-images.githubusercontent.com/45345120/94510085-dc348200-0250-11eb-95fd-0f678b6f9e70.png)   \n",
    "위의 표를 보고 모델 성능을 측정해봅시다. (소수점 셋째자리에서 반올림)"
   ]
  },
  {
   "cell_type": "markdown",
   "metadata": {},
   "source": [
    "0. **A의** (1)TP, (2)TN, (3)FP, (4)FN 을 각각 구하시오.  \n",
    "\\[(1)답]  \n",
    "\\[(2)답]  \n",
    "\\[(3)답]  \n",
    "\\[(4)답]  "
   ]
  },
  {
   "cell_type": "markdown",
   "metadata": {},
   "source": [
    "1. Accuracy  \n",
    "\\[계산 과정]   \n",
    "\\[답]  "
   ]
  },
  {
   "cell_type": "markdown",
   "metadata": {},
   "source": [
    "2. Average Precision  \n",
    "\\[계산 과정]   \n",
    "\\[답]"
   ]
  },
  {
   "cell_type": "markdown",
   "metadata": {},
   "source": [
    "3. Average Recall  \n",
    "\\[계산 과정]   \n",
    "\\[답]"
   ]
  },
  {
   "cell_type": "markdown",
   "metadata": {},
   "source": [
    "4. f1 score  \n",
    "\\[계산 과정]   \n",
    "\\[답]"
   ]
  },
  {
   "cell_type": "markdown",
   "metadata": {},
   "source": [
    "## 2. 머신러닝 알고리즘 - 알고리즘 2개\\[필수] 선택해서 작성 (다 하셔도 됩니다!)   \n",
    "### 선택한 알고리즘 옆에 **❄**를 붙여주세요.  \n",
    "사진을 추가해도 되고 자유 형식입니다.\n",
    "[강의링크](https://edu.goorm.io/learn/lecture/4012/%2525EB%2525A8%2525B8%2525EC%25258B%2525A0%2525EB%25259F%2525AC%2525EB%25258B%25259D-%2525EC%25259D%2525B4%2525EB%2525A1%2525A0-%2525EB%2525B0%25258F-%2525ED%25258C%25258C%2525EC%25259D%2525B4%2525EC%25258D%2525AC-%2525EC%25258B%2525A4%2525EC%25258A%2525B5#) (머신러닝1, 머신러닝2-kmeans)"
   ]
  },
  {
   "cell_type": "markdown",
   "metadata": {},
   "source": [
    "### 1. KNN(k-Nearest Neighbors) "
   ]
  },
  {
   "cell_type": "markdown",
   "metadata": {},
   "source": [
    "1. KNN 알고리즘 정리  \n",
    "\\[답변]"
   ]
  },
  {
   "cell_type": "code",
   "execution_count": null,
   "metadata": {
    "tags": []
   },
   "outputs": [],
   "source": [
    "# 아래 pass 부분을 지우고 내용을 채워주세요.\n",
    "from sklearn.datasets import load_iris\n",
    "from sklearn.model_selection import train_test_split\n",
    "from sklearn.neighbors import KNeighborsClassifier\n",
    "# iris data 로드\n",
    "iris = load_iris()\n",
    "# data split\n",
    "x_train, x_test, y_train, y_test = pass      # x : iris.data / y : iris.target / test_size=0.3 / random_state=0\n",
    "# classifier 객체 생성\n",
    "knn = pass    # n_neighbors = 1 / n_jobs = -1 \n",
    "# n_neighbors 가 뜻하는 것? [답변] \n",
    "# n_jobs 가 뜻하는 것? [답변]\n",
    "knn.pass       # x_train, y_train 이용해 트레이닝\n",
    "\n",
    "prediction = pass       # knn 이용해 x_test 예측\n",
    "results = [iris.target_names[p] for p in prediction]\n",
    "print('results의 처음 6개 ==> {}'.format(results[:6]))\n",
    "\n",
    "# 정확도 계산\n",
    "print('score 메소드 이용 ==> {:.3f}'.format(knn.pass))         # x_test, y_test를 이용해 정확도 측정"
   ]
  },
  {
   "cell_type": "markdown",
   "metadata": {},
   "source": [
    "### 2. Decision Tree"
   ]
  },
  {
   "cell_type": "markdown",
   "metadata": {},
   "source": [
    "1. Decision Tree 알고리즘 정리  \n",
    "\\[답변]"
   ]
  },
  {
   "cell_type": "markdown",
   "metadata": {},
   "source": [
    "2. (1) Entropy (2)Information Gain 정리  \n",
    "\\[(1)답변]   \n",
    "\\[(2)답변]"
   ]
  },
  {
   "cell_type": "markdown",
   "metadata": {},
   "source": [
    "3. Information Gain 구하기  \n",
    "<table>\n",
    "    <thead>\n",
    "        <th>ID</th>\n",
    "        <th>Cartoon</th>\n",
    "        <th>WinterFamilyPhoto</th>\n",
    "    </thead>\n",
    "    <tbody>\n",
    "        <tr>\n",
    "            <td>1</td>\n",
    "            <td>No</td>\n",
    "            <td>Yes</td>\n",
    "        </tr>\n",
    "        <tr>\n",
    "            <td>2</td>\n",
    "            <td>Yes</td>\n",
    "            <td>No</td>\n",
    "        </tr>\n",
    "        <tr>\n",
    "            <td>3</td>\n",
    "            <td>Yes</td>\n",
    "            <td>No</td>\n",
    "        </tr>\n",
    "        <tr>\n",
    "            <td>4</td>\n",
    "            <td>No</td>\n",
    "            <td>No</td>\n",
    "        </tr>\n",
    "    </tbody>\n",
    "</table>"
   ]
  },
  {
   "cell_type": "markdown",
   "metadata": {},
   "source": [
    "(1) 위의 표 상황에서의 Entropy 구하기  \n",
    "\\[답변] E(WinterFamilyPhoto) =   \n",
    "</br>\n",
    "(2) Cartoon 기준으로 나눴을 때, Information gain 구하기  \n",
    "\\[답변] IG(WinterFamilyPhoto, Cartoon) = "
   ]
  },
  {
   "cell_type": "code",
   "execution_count": null,
   "metadata": {
    "tags": []
   },
   "outputs": [],
   "source": [
    "# 아래 pass 부분을 지우고 내용을 채워주세요.\n",
    "from sklearn.datasets import load_iris\n",
    "from sklearn.model_selection import train_test_split\n",
    "from sklearn.tree import DecisionTreeClassifier\n",
    "from sklearn.tree import export_text\n",
    "# iris data 로드\n",
    "iris = load_iris()\n",
    "# data split\n",
    "x_train, x_test, y_train, y_test = pass      # x : iris.data / y : iris.target / test_size=0.3 / random_state=0\n",
    "# classifier 객체 생성\n",
    "decision_tree = pass    # random_state = 0 / max_depth=2 \n",
    "# max_depth 의미? [답변] \n",
    "decision_tree.pass          # x_train, y_train 이용해 트레이닝\n",
    "r = pass         # export_text 함수를 이용해 decision_tree 출력\n",
    "print(r)\n",
    "\n",
    "prediction = decision_tree.pass      # decision tree 이용해 x_test 예측\n",
    "results = [iris.target_names[p] for p in prediction]\n",
    "print('results의 처음 6개 ==> {}'.format(results[:6]))\n",
    "\n",
    "# 정확도 계산\n",
    "print('score 메소드 이용 ==> {:.3f}'.format(decision_tree.pass))          # x_test, y_test를 이용해 정확도 측정"
   ]
  },
  {
   "cell_type": "markdown",
   "metadata": {},
   "source": [
    "### 3. Naive Bayes"
   ]
  },
  {
   "cell_type": "markdown",
   "metadata": {},
   "source": [
    "1. 조건부 확률   \n",
    "\\[답변]"
   ]
  },
  {
   "cell_type": "markdown",
   "metadata": {},
   "source": [
    "2. 베이즈 정리  \n",
    "\\[답변]"
   ]
  },
  {
   "cell_type": "markdown",
   "metadata": {},
   "source": [
    "3. 확률 계산  \n",
    "<table>\n",
    "    <thead>\n",
    "        <th>Index</th>\n",
    "        <th>Email</th>\n",
    "        <th>Spam</th>\n",
    "    </thead>\n",
    "    <tbody>\n",
    "        <tr>\n",
    "            <td>1</td>\n",
    "            <td>I got <strong>free</strong> two movie ticket from your boy friend</td>\n",
    "            <td>False</td>\n",
    "        </tr>\n",
    "        <tr>\n",
    "            <td>2</td>\n",
    "            <td><strong>free</strong> coupon from xx.com</td>\n",
    "            <td><strong>True</strong></td>\n",
    "        </tr>\n",
    "        <tr>\n",
    "            <td>3</td>\n",
    "            <td>watch <strong>free</strong> new movie from freemovie.com</td>\n",
    "            <td><strong>True</strong></td>\n",
    "        </tr>\n",
    "        <tr>\n",
    "            <td>4</td>\n",
    "            <td>Best deal, promo code here</td>\n",
    "            <td><strong>True</strong></td>\n",
    "        </tr>\n",
    "        <tr>\n",
    "            <td>5</td>\n",
    "            <td>There will be <strong>free</strong> pizza today 2pm meeting - your boss</td>\n",
    "            <td>False</td>\n",
    "        </tr>\n",
    "        <tr>\n",
    "            <td>6</td>\n",
    "            <td>Scheduled meeting tomorrow</td>\n",
    "            <td>False</td>\n",
    "        </tr>\n",
    "        <tr>\n",
    "            <td>7</td>\n",
    "            <td>Can we have lunch today?</td>\n",
    "            <td>False</td>\n",
    "        </tr>\n",
    "        <tr>\n",
    "            <td>8</td>\n",
    "            <td>I miss you</td>\n",
    "            <td>False</td>\n",
    "        </tr>\n",
    "        <tr>\n",
    "            <td>9</td>\n",
    "            <td>thanks my friend</td>\n",
    "            <td>False</td>\n",
    "        </tr>\n",
    "        <tr>\n",
    "            <td>10</td>\n",
    "            <td>It was good to see you today</td>\n",
    "            <td>False</td>\n",
    "        </tr>\n",
    "    </tbody>\n",
    "</table>"
   ]
  },
  {
   "cell_type": "markdown",
   "metadata": {},
   "source": [
    "(1) Spam 메일일 확률    \n",
    "\\[답변] P(Spam) =\n"
   ]
  },
  {
   "cell_type": "markdown",
   "metadata": {},
   "source": [
    "(2) 메일에 \"free\" 단어가 포함되어 있을 확률  \n",
    "\\[답변] P(\"free\") = "
   ]
  },
  {
   "cell_type": "markdown",
   "metadata": {},
   "source": [
    "(3) 스팸 메일에 \"free\" 단어가 포함되어 있을 확률   \n",
    "\\[답변] P(\"free\" | Spam) = "
   ]
  },
  {
   "cell_type": "markdown",
   "metadata": {},
   "source": [
    "(4) 메일에 \"free\" 단어가 포함되어 있을 경우 이 메일이 스팸일 확률  \n",
    "\\[답변] P(Spam | \"free\") = "
   ]
  },
  {
   "cell_type": "code",
   "execution_count": null,
   "metadata": {
    "tags": []
   },
   "outputs": [],
   "source": [
    "# 아래 pass 부분을 지우고 내용을 채워주세요.\n",
    "from sklearn.datasets import load_iris\n",
    "from sklearn.model_selection import train_test_split\n",
    "from sklearn.naive_bayes import GaussianNB\n",
    "# iris data 로드\n",
    "iris = load_iris()\n",
    "# data split\n",
    "x_train, x_test, y_train, y_test = pass # x : iris.data / y : iris.target / test_size=0.3 / random_state=0\n",
    "# classifier 객체 생성\n",
    "gnb = pass\n",
    "gnb.pass         # x_train, y_train 이용해 트레이닝\n",
    "\n",
    "prediction = gnb.pass       # gnb 이용해 x_test 예측\n",
    "results = [iris.target_names[p] for p in prediction]\n",
    "print('results의 처음 6개 ==> {}'.format(results[:6]))\n",
    "\n",
    "# 정확도 계산\n",
    "print('score 메소드 이용 ==> {:.3f}'.format(gnb.pass))        # x_test, y_test를 이용해 정확도 측정  "
   ]
  },
  {
   "cell_type": "markdown",
   "metadata": {},
   "source": [
    "### 4. SVM (Support Vector Machine)"
   ]
  },
  {
   "cell_type": "markdown",
   "metadata": {},
   "source": [
    "1. SVM 알고리즘 정리  \n",
    "\\[답변]"
   ]
  },
  {
   "cell_type": "markdown",
   "metadata": {},
   "source": [
    "2. SVM 파라미터 2가지  \n",
    "\\[답변] "
   ]
  },
  {
   "cell_type": "markdown",
   "metadata": {},
   "source": [
    "3. Grid Search 정리  \n",
    "\\[답변]"
   ]
  },
  {
   "cell_type": "code",
   "execution_count": null,
   "metadata": {
    "tags": []
   },
   "outputs": [],
   "source": [
    "# 아래 pass 부분을 지우고 내용을 채워주세요.\n",
    "from sklearn.datasets import load_iris\n",
    "from sklearn.model_selection import train_test_split\n",
    "from sklearn.svm import SVC\n",
    "# iris data 로드\n",
    "iris = load_iris()\n",
    "# data split\n",
    "x_train, x_test, y_train, y_test = pass      # x : iris.data / y : iris.target / test_size=0.3 / random_state=0\n",
    "# classifier 객체 생성\n",
    "svc = pass\n",
    "svc.pass            # x_train, y_train 이용해 트레이닝\n",
    "\n",
    "prediction = svc.pass       # svc 이용해 x_test 예측\n",
    "results = [iris.target_names[p] for p in prediction]\n",
    "print('results의 처음 6개 ==> {}'.format(results[:6]))\n",
    "\n",
    "# 정확도 계산\n",
    "print('score 메소드 이용 ==> {:.3f}'.format(svc.pass))          # x_test, y_test를 이용해 정확도 측정"
   ]
  },
  {
   "cell_type": "markdown",
   "metadata": {},
   "source": [
    "### 5. Linear Regression"
   ]
  },
  {
   "cell_type": "markdown",
   "metadata": {},
   "source": [
    "1. Classification VS Regression  \n",
    "\\[답변] "
   ]
  },
  {
   "cell_type": "markdown",
   "metadata": {},
   "source": [
    "3. Mean Square Error 란?  \n",
    "\\[답변] "
   ]
  },
  {
   "cell_type": "markdown",
   "metadata": {},
   "source": [
    "4. Error = h(x) - y 일 때 Mean Square Error   \n",
    "\\[답변] Mean Square Error = "
   ]
  },
  {
   "cell_type": "markdown",
   "metadata": {},
   "source": [
    "5. Gradient Descent 정리  \n",
    "\\[답변]"
   ]
  },
  {
   "cell_type": "code",
   "execution_count": null,
   "metadata": {},
   "outputs": [],
   "source": [
    "# 아래 pass 부분을 지우고 내용을 채워주세요.\n",
    "# 이 예제에서는 sepal length를 예측해봅시다.\n",
    "from sklearn.datasets import load_iris\n",
    "from sklearn.model_selection import train_test_split\n",
    "import pandas as pd\n",
    "\n",
    "# Load Iris Data\n",
    "iris = load_iris()\n",
    "iris_df = pd.DataFrame(data= iris.data, columns= iris.feature_names)        \n",
    "target_df = pd.DataFrame(data= iris.target, columns= ['species'])\n",
    "# Converting Objects to Numerical dtype\n",
    "iris_df = pd.concat([iris_df, target_df], axis= 1)\n",
    "\n",
    "iris_df"
   ]
  },
  {
   "cell_type": "code",
   "execution_count": null,
   "metadata": {
    "tags": []
   },
   "outputs": [],
   "source": [
    "from sklearn.linear_model import LinearRegression\n",
    "x = iris_df.pass        # 'sepal length (cm)' column drop\n",
    "y = iris_df['sepal length (cm)']    \n",
    "# data split\n",
    "x_train, x_test, y_train, y_test = pass    # test_size=0.3 / random_state=0\n",
    "# classifier 객체 생성\n",
    "lr = pass\n",
    "lr.pass         # x_train, y_train 이용해 트레이닝\n",
    "\n",
    "prediction = lr.pass           # lr 이용해 x_test 예측 \n",
    "print('실제 값의 처음 6개 ==> {}'.format(y_test.values[:6]))\n",
    "print('results의 처음 6개 ==> {}'.format(prediction[:6]))\n",
    "\n",
    "# 정확도 계산\n",
    "print('score 메소드 이용 ==> {:.3f}'.format(lr.pass))       # x_test, y_test를 이용해 정확도 측정"
   ]
  },
  {
   "cell_type": "markdown",
   "metadata": {},
   "source": [
    "### 6. Logistic Regression"
   ]
  },
  {
   "cell_type": "markdown",
   "metadata": {},
   "source": [
    "1. Linear regression VS Logistic Regression  \n",
    "\\[답변] "
   ]
  },
  {
   "cell_type": "markdown",
   "metadata": {},
   "source": [
    "2. Sigmoid Function 정리  \n",
    "\\[답변]"
   ]
  },
  {
   "cell_type": "markdown",
   "metadata": {},
   "source": [
    "3. Cost function?  \n",
    "\\[답변] "
   ]
  },
  {
   "cell_type": "code",
   "execution_count": null,
   "metadata": {
    "tags": []
   },
   "outputs": [],
   "source": [
    "# 아래 pass 부분을 지우고 내용을 채워주세요.\n",
    "from sklearn.datasets import load_iris\n",
    "from sklearn.model_selection import train_test_split\n",
    "from sklearn.linear_model import LogisticRegression\n",
    "# iris data 로드\n",
    "iris = load_iris()\n",
    "# data split\n",
    "x_train, x_test, y_train, y_test = pass      # x : iris.data / y : iris.target / test_size=0.3 / random_state=0\n",
    "# classifier 객체 생성\n",
    "lr = pass\n",
    "lr.pass             # x_train, y_train 이용해 트레이닝\n",
    "\n",
    "prediction = lr.pass           # lr 이용해 x_test 예측\n",
    "results = [iris.target_names[p] for p in prediction]\n",
    "print('results의 처음 6개 ==> {}'.format(results[:6]))\n",
    "\n",
    "# 정확도 계산\n",
    "print('score 메소드 이용 ==> {:.3f}'.format(lr.pass))       # x_test, y_test를 이용해 정확도 측정"
   ]
  },
  {
   "cell_type": "markdown",
   "metadata": {},
   "source": [
    "### 7. 랜덤 포레스트 Random Forest"
   ]
  },
  {
   "cell_type": "markdown",
   "metadata": {},
   "source": [
    "1. Random Forest 알고리즘 정리  \n",
    "\\[답변]"
   ]
  },
  {
   "cell_type": "code",
   "execution_count": null,
   "metadata": {
    "tags": []
   },
   "outputs": [],
   "source": [
    "# 아래 pass 부분을 지우고 내용을 채워주세요.\n",
    "from sklearn.datasets import load_iris\n",
    "from sklearn.model_selection import train_test_split\n",
    "from sklearn.ensemble import RandomForestClassifier\n",
    "# iris data 로드\n",
    "iris = load_iris()\n",
    "# data split\n",
    "x_train, x_test, y_train, y_test = pass      # x : iris.data / y : iris.target / test_size=0.3 / random_state=0\n",
    "# classifier 객체 생성\n",
    "clf = pass       # max_depth = 2 / random_state = 0\n",
    "# max_depth 의미? [답변]\n",
    "clf.pass         # x_train, y_train 이용해 트레이닝\n",
    "\n",
    "prediction = clf.pass           # clf 이용해 x_test 예측\n",
    "results = [iris.target_names[p] for p in prediction]\n",
    "print('results의 처음 6개 ==> {}'.format(results[:6]))\n",
    "\n",
    "# 정확도 계산\n",
    "print('score 메소드 이용 ==> {:.3f}'.format(clf.pass))          # x_test, y_test를 이용해 정확도 측정"
   ]
  },
  {
   "cell_type": "markdown",
   "metadata": {},
   "source": [
    "### 8. 앙상블"
   ]
  },
  {
   "cell_type": "markdown",
   "metadata": {},
   "source": [
    "1. Ensemble 기법 정리  \n",
    "\\[답변]"
   ]
  },
  {
   "cell_type": "markdown",
   "metadata": {},
   "source": [
    "2. hard voting VS soft voting  \n",
    "\\[답변] "
   ]
  },
  {
   "cell_type": "markdown",
   "metadata": {},
   "source": [
    "### 9. kmean 클러스터링"
   ]
  },
  {
   "cell_type": "markdown",
   "metadata": {},
   "source": [
    "1. k-mean 알고리즘 단계 - 추가 및 제거 가능  \n",
    "(1)\n",
    "<br>\n",
    "(2)\n",
    "<br>\n",
    "(3)\n",
    "<br>\n",
    "(4)\n",
    "<br>\n",
    "(5)\n",
    "<br>\n",
    "(6)\n",
    "<br>"
   ]
  },
  {
   "cell_type": "markdown",
   "metadata": {},
   "source": [
    "2. clustering이 끝났다고 판단되는 경우?  \n",
    "\\[답변]"
   ]
  },
  {
   "cell_type": "markdown",
   "metadata": {},
   "source": [
    "3. 초기 centroid 결정하는 방법 3가지와 그에 대한 설명  \n",
    "\\[답변(1)]\n",
    "<br>\n",
    "\\[답변(2)] \n",
    "<br>\n",
    "\\[답변(3)]\n"
   ]
  },
  {
   "cell_type": "markdown",
   "metadata": {},
   "source": [
    "4. KMeans 사용해보기"
   ]
  },
  {
   "cell_type": "code",
   "execution_count": null,
   "metadata": {},
   "outputs": [],
   "source": [
    "# 필요한 패키지 import\n",
    "import pandas as pd\n",
    "import numpy as np\n",
    "from sklearn.cluster import KMeans\n",
    "import matplotlib.pyplot as plt\n",
    "import seaborn as sns\n",
    "%matplotlib inline\n",
    "# Create data points\n",
    "array = [[3,1], [4,1], [3,2], [4,2],\n",
    "         [10,5], [10,6], [11,5], [11,6],\n",
    "         [15,1], [15,2], [16,1], [16,2]]\n",
    "df = pd.DataFrame(array, columns=['x', 'y'])\n",
    "\n",
    "# convert dataframe to numpy array\n",
    "data_points = df.values\n",
    "kmeans = pass    # cluster 개수 = 3 으로 KMeans clustering\n",
    "df['cluster_id'] = pass # clustering된 각 점의 cluster 번호 저장\n",
    "\n",
    "# Visualize data point\n",
    "sns.lmplot('x', 'y', data=df, fit_reg=False,                    \n",
    "            scatter_kws={\"s\": 200},\n",
    "            hue=\"cluster_id\")\n",
    "plt.title(\"kmean plot\")\n",
    "plt.xlabel(\"x\")\n",
    "plt.ylabel(\"y\")\n"
   ]
  }
 ],
 "metadata": {
  "kernelspec": {
   "display_name": "Python 3",
   "language": "python",
   "name": "python3"
  },
  "language_info": {
   "codemirror_mode": {
    "name": "ipython",
    "version": 3
   },
   "file_extension": ".py",
   "mimetype": "text/x-python",
   "name": "python",
   "nbconvert_exporter": "python",
   "pygments_lexer": "ipython3",
   "version": "3.8.5"
  }
 },
 "nbformat": 4,
 "nbformat_minor": 2
}
