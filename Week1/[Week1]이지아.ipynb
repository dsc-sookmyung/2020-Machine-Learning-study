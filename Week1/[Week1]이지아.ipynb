{
 "cells": [
  {
   "cell_type": "markdown",
   "metadata": {},
   "source": [
    "# 머신러닝 1주차 과제\n",
    "### ※ 참고 강의 : [[부스트코스] 머신러닝을 위한 파이썬](https://www.edwith.org/aipython/lecture/22951/)\n",
    "* 1) Pythonic Code\n",
    "* 2) Python for ML\n",
    "* 3) Data Handling\n",
    "\n",
    "### ※ 기간 : 10.06(화) 19:00 ~ 10.11(일) 12:00\n",
    "* 이번주 일요일 오전까지 제출 부탁드립니다.\n",
    "\n",
    "### ※ 제출 방법\n",
    "1. DSC 깃허브의 __2020-MachineLearning-study__ 레파지토리를 clone 합니다.\n",
    "2. 자신의 아이디를 이름으로 브랜치를 만듭니다.\n",
    "3. Week1 폴더 내의 \"\\[Week1\\]이름.ipynb\" 파일을 복사하여 이름에 본인이름을 넣고, 답을 작성하신 후에, pull-request를 보냅니다."
   ]
  },
  {
   "cell_type": "markdown",
   "metadata": {},
   "source": [
    "## 과제 1 : [연산자 끼워넣기](https://www.acmicpc.net/problem/14888)"
   ]
  },
  {
   "cell_type": "markdown",
   "metadata": {},
   "source": [
    "> __백준 문제 14888번 문제를 파이썬으로 풀고, 제출한 소스코드를 붙여넣으시면 됩니다.__"
   ]
  },
  {
   "cell_type": "markdown",
   "metadata": {},
   "source": [
    "N개의 수로 이루어진 수열 A1, A2, ..., AN이 주어진다. 또, 수와 수 사이에 끼워넣을 수 있는 N-1개의 연산자가 주어진다. 연산자는 덧셈(+), 뺄셈(-), 곱셈(×), 나눗셈(÷)으로만 이루어져 있다.\n",
    "\n",
    "우리는 수와 수 사이에 연산자를 하나씩 넣어서, 수식을 하나 만들 수 있다. 이때, 주어진 수의 순서를 바꾸면 안 된다.\n",
    "\n",
    "예를 들어, 6개의 수로 이루어진 수열이 1, 2, 3, 4, 5, 6이고, 주어진 연산자가 덧셈(+) 2개, 뺄셈(-) 1개, 곱셈(×) 1개, 나눗셈(÷) 1개인 경우에는 총 60가지의 식을 만들 수 있다. 예를 들어, 아래와 같은 식을 만들 수 있다.\n",
    "\n",
    "* 1+2+3-4×5÷6\n",
    "* 1÷2+3+4-5×6\n",
    "* 1+2÷3×4-5+6\n",
    "* 1÷2×3-4+5+6\n",
    "\n",
    "식의 계산은 연산자 우선 순위를 무시하고 앞에서부터 진행해야 한다. 또, 나눗셈은 정수 나눗셈으로 몫만 취한다. 음수를 양수로 나눌 때는 C++14의 기준을 따른다. 즉, 양수로 바꾼 뒤 몫을 취하고, 그 몫을 음수로 바꾼 것과 같다. 이에 따라서, 위의 식 4개의 결과를 계산해보면 아래와 같다.\n",
    "\n",
    "* 1+2+3-4×5÷6 = 1\n",
    "* 1÷2+3+4-5×6 = 12\n",
    "* 1+2÷3×4-5+6 = 5\n",
    "* 1÷2×3-4+5+6 = 7\n",
    "\n",
    "N개의 수와 N-1개의 연산자가 주어졌을 때, 만들 수 있는 식의 결과가 최대인 것과 최소인 것을 구하는 프로그램을 작성하시오.\n",
    "\n",
    "#### 입력\n",
    "\n",
    "첫째 줄에 수의 개수 N(2 ≤ N ≤ 11)가 주어진다. 둘째 줄에는 A1, A2, ..., AN이 주어진다. (1 ≤ Ai ≤ 100) 셋째 줄에는 합이 N-1인 4개의 정수가 주어지는데, 차례대로 덧셈(+)의 개수, 뺄셈(-)의 개수, 곱셈(×)의 개수, 나눗셈(÷)의 개수이다. \n",
    "\n",
    "#### 출력\n",
    "\n",
    "첫째 줄에 만들 수 있는 식의 결과의 최댓값을, 둘째 줄에는 최솟값을 출력한다. 연산자를 어떻게 끼워넣어도 항상 -10억보다 크거나 같고, 10억보다 작거나 같은 결과가 나오는 입력만 주어진다. 또한, 앞에서부터 계산했을 때, 중간에 계산되는 식의 결과도 항상 -10억보다 크거나 같고, 10억보다 작거나 같다."
   ]
  },
  {
   "cell_type": "markdown",
   "metadata": {},
   "source": [
    "* 힌트 : python에서 제공하는 permutations, lambda, reduce, List Comprehension, enumerate 를 사용하면 좀 더 간결하게 구현할 수 있습니다."
   ]
  },
  {
   "cell_type": "code",
   "execution_count": null,
   "metadata": {},
   "outputs": [],
   "source": [
import sys
from itertools import permutations 
   
max_result = -1000000001
min_result = 1000000001

N = int(input())
Arr = list(map(int, input().split()))
add, sub, multiple, div = map(int, input().split())
    
operation = []
operation += [1] * add
operation += [2] * sub
operation += [3] * multi
operation += [4] * div
   
op_set = []   
for numbers in list(permutations(operation)):
    op_set.append(numbers)
op_Set = list(set(op_set)) 
 
for case in op_Set:
    answer = Arr[0] 
    for i in range(N-1):
        if case[i] == 1:
            answer += Arr[i+1]
        elif case[i] == 2:
            answer -= Arr[i+1]
        elif case[i] == 3:
            answer *= Arr[i+1]
        elif case[i] == 4:  
               if answer < 0: 
                answer = -(-answer // Arr[i+1])
               else:
                answer //= Arr[i+1]
               
 if answer < min_result:
   min_result = answer
 if answer > max_result:
   max_result = answer  
   
print(max_result)
print(min_result)
    
   ]
  },
  {
   "cell_type": "markdown",
   "metadata": {},
   "source": [
    "## 과제 2 : Pandas와 Numpy를 이용하여 Rating Matrix 만들기"
   ]
  },
  {
   "cell_type": "markdown",
   "metadata": {},
   "source": [
    "#### ※ 데이터 : movie_rating.csv (사용자들의 제품에 대한 평가)\n",
    "\n",
    "|source  |target   | rating|\n",
    "|--|---|--|\n",
    "|Mick LaSalle|Superman Returns|3.0|\n",
    "|Mick LaSalle|The Night Listener|3.0|\n",
    "|Claudia Puig|Snakes on a Plane|3.5|\n",
    "\n",
    "#### ※ 예시 결과\n",
    "![image](https://user-images.githubusercontent.com/35680202/95011776-12696b80-066e-11eb-97b1-1f5ea615bd56.png)\n",
    "\n",
    "* 힌트 : pivot table"
   ]
  },
  {
   "cell_type": "code",
   "execution_count": null,
   "metadata": {},
   "outputs": [],
   "source": [
    "import pandas as pd\n",
    "import numpy as np\n",
    "def get_rating_matrix(filename, dtype=np.float32):\n",
             df=pd.read_csv(filename)
             result= pd.pivot_table(df, index='source',colums='target',values='rating',fill_value=0.0)
             return result
    "    pass"
   ]
  },
  {
   "cell_type": "code",
   "execution_count": null,
   "metadata": {},
   "outputs": [],
   "source": [
    "# 실행결과확인\n",
    "get_rating_matrix(\"movie_rating.csv\")"
   ]
  }
 ],
 "metadata": {
  "kernelspec": {
   "display_name": "Python 3",
   "language": "python",
   "name": "python3"
  },
  "language_info": {
   "codemirror_mode": {
    "name": "ipython",
    "version": 3
   },
   "file_extension": ".py",
   "mimetype": "text/x-python",
   "name": "python",
   "nbconvert_exporter": "python",
   "pygments_lexer": "ipython3",
   "version": "3.7.6"
  }
 },
 "nbformat": 4,
 "nbformat_minor": 4
}
