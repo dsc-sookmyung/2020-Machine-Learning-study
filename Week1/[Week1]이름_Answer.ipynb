{
 "cells": [
  {
   "cell_type": "markdown",
   "metadata": {},
   "source": [
    "# 머신러닝 1주차 과제"
   ]
  },
  {
   "cell_type": "markdown",
   "metadata": {},
   "source": [
    "## 과제 1 : [연산자 끼워넣기](https://www.acmicpc.net/problem/14888)\n",
    "* 해설 : [1) Pythonic Code 과제 설명&해설 영상](https://www.edwith.org/aipython/lecture/24070/)"
   ]
  },
  {
   "cell_type": "code",
   "execution_count": 1,
   "metadata": {},
   "outputs": [
    {
     "name": "stdout",
     "output_type": "stream",
     "text": [
      "6\n",
      "1 2 3 4 5 6\n",
      "2 1 1 1\n",
      "54\n",
      "-24\n"
     ]
    }
   ],
   "source": [
    "# 해설강의 정답코드\n",
    "import itertools\n",
    "from functools import reduce\n",
    "import sys\n",
    "import time\n",
    "\n",
    "def insert_operation(length, input_num, input_oper):\n",
    "    ops = {\"0\": (lambda x,y: x+y), \"1\": (lambda x,y: x-y), \n",
    "           \"2\": (lambda x,y: x*y), \"3\": (lambda x,y: int(x/y))}\n",
    "    oper_permutation = []\n",
    "    result = []\n",
    "    list(oper_permutation.extend(\n",
    "        [str(index)]*value) for index, value in enumerate(input_oper) if value>0)\n",
    "    permutation = [list(x) for x in set(itertools.permutations(oper_permutation))]\n",
    "    for i in permutation:\n",
    "        result.append(reduce(lambda x,y : ops[i.pop()](x,y), input_num))\n",
    "    print(str(max(result)) + \"\\n\" + str(min(result)))\n",
    "\n",
    "\n",
    "# 입력\n",
    "n = int(input()) # 6\n",
    "\n",
    "numbers = list(input().split()) # ['1', '2', '3', '4', '5', '6']\n",
    "numbers = list(map(int, numbers)) # [1, 2, 3, 4, 5, 6]\n",
    "\n",
    "arithmetics = list(input().split()) # ['2', '1', '1', '1']\n",
    "arithmetics = list(map(int, arithmetics)) # [2, 1, 1, 1]\n",
    "\n",
    "# 출력\n",
    "insert_operation(n, numbers, arithmetics)"
   ]
  },
  {
   "cell_type": "markdown",
   "metadata": {},
   "source": [
    "## 과제 2 : Pandas와 Numpy를 이용하여 Rating Matrix 만들기\n",
    "* 해설 : [2) Python for ML, 3) Data Handling 과제 설명&해설 영상](https://www.edwith.org/aipython/lecture/24073/)"
   ]
  },
  {
   "cell_type": "code",
   "execution_count": 2,
   "metadata": {},
   "outputs": [],
   "source": [
    "import pandas as pd\n",
    "import numpy as np\n",
    "def get_rating_matrix(filename, dtype=np.float32):\n",
    "    df = pd.read_csv(filename)\n",
    "    return df.groupby(['source', 'target'])['rating'].sum().unstack().fillna(0)"
   ]
  },
  {
   "cell_type": "code",
   "execution_count": 3,
   "metadata": {},
   "outputs": [
    {
     "data": {
      "text/html": [
       "<div>\n",
       "<style scoped>\n",
       "    .dataframe tbody tr th:only-of-type {\n",
       "        vertical-align: middle;\n",
       "    }\n",
       "\n",
       "    .dataframe tbody tr th {\n",
       "        vertical-align: top;\n",
       "    }\n",
       "\n",
       "    .dataframe thead th {\n",
       "        text-align: right;\n",
       "    }\n",
       "</style>\n",
       "<table border=\"1\" class=\"dataframe\">\n",
       "  <thead>\n",
       "    <tr style=\"text-align: right;\">\n",
       "      <th>target</th>\n",
       "      <th>Just My Luck</th>\n",
       "      <th>Lady in the Water</th>\n",
       "      <th>Snakes on a Plane</th>\n",
       "      <th>Superman Returns</th>\n",
       "      <th>The Night Listener</th>\n",
       "      <th>You Me and Dupree</th>\n",
       "    </tr>\n",
       "    <tr>\n",
       "      <th>source</th>\n",
       "      <th></th>\n",
       "      <th></th>\n",
       "      <th></th>\n",
       "      <th></th>\n",
       "      <th></th>\n",
       "      <th></th>\n",
       "    </tr>\n",
       "  </thead>\n",
       "  <tbody>\n",
       "    <tr>\n",
       "      <th>Claudia Puig</th>\n",
       "      <td>3.0</td>\n",
       "      <td>0.0</td>\n",
       "      <td>3.5</td>\n",
       "      <td>0.0</td>\n",
       "      <td>4.5</td>\n",
       "      <td>0.0</td>\n",
       "    </tr>\n",
       "    <tr>\n",
       "      <th>Gene Seymour</th>\n",
       "      <td>0.0</td>\n",
       "      <td>3.0</td>\n",
       "      <td>3.5</td>\n",
       "      <td>0.0</td>\n",
       "      <td>3.0</td>\n",
       "      <td>3.5</td>\n",
       "    </tr>\n",
       "    <tr>\n",
       "      <th>Jack Matthews</th>\n",
       "      <td>0.0</td>\n",
       "      <td>3.0</td>\n",
       "      <td>4.0</td>\n",
       "      <td>5.0</td>\n",
       "      <td>3.0</td>\n",
       "      <td>3.5</td>\n",
       "    </tr>\n",
       "    <tr>\n",
       "      <th>Lisa Rose</th>\n",
       "      <td>3.0</td>\n",
       "      <td>2.5</td>\n",
       "      <td>3.5</td>\n",
       "      <td>3.5</td>\n",
       "      <td>3.0</td>\n",
       "      <td>2.5</td>\n",
       "    </tr>\n",
       "    <tr>\n",
       "      <th>Mick LaSalle</th>\n",
       "      <td>2.0</td>\n",
       "      <td>3.0</td>\n",
       "      <td>4.0</td>\n",
       "      <td>3.0</td>\n",
       "      <td>3.0</td>\n",
       "      <td>0.0</td>\n",
       "    </tr>\n",
       "    <tr>\n",
       "      <th>Toby</th>\n",
       "      <td>0.0</td>\n",
       "      <td>0.0</td>\n",
       "      <td>4.5</td>\n",
       "      <td>4.0</td>\n",
       "      <td>0.0</td>\n",
       "      <td>0.0</td>\n",
       "    </tr>\n",
       "  </tbody>\n",
       "</table>\n",
       "</div>"
      ],
      "text/plain": [
       "target         Just My Luck  Lady in the Water  Snakes on a Plane  \\\n",
       "source                                                              \n",
       "Claudia Puig            3.0                0.0                3.5   \n",
       "Gene Seymour            0.0                3.0                3.5   \n",
       "Jack Matthews           0.0                3.0                4.0   \n",
       "Lisa Rose               3.0                2.5                3.5   \n",
       "Mick LaSalle            2.0                3.0                4.0   \n",
       "Toby                    0.0                0.0                4.5   \n",
       "\n",
       "target         Superman Returns  The Night Listener  You Me and Dupree  \n",
       "source                                                                  \n",
       "Claudia Puig                0.0                 4.5                0.0  \n",
       "Gene Seymour                0.0                 3.0                3.5  \n",
       "Jack Matthews               5.0                 3.0                3.5  \n",
       "Lisa Rose                   3.5                 3.0                2.5  \n",
       "Mick LaSalle                3.0                 3.0                0.0  \n",
       "Toby                        4.0                 0.0                0.0  "
      ]
     },
     "execution_count": 3,
     "metadata": {},
     "output_type": "execute_result"
    }
   ],
   "source": [
    "# 실행결과확인\n",
    "get_rating_matrix(\"movie_rating.csv\")"
   ]
  }
 ],
 "metadata": {
  "kernelspec": {
   "display_name": "Python 3",
   "language": "python",
   "name": "python3"
  },
  "language_info": {
   "codemirror_mode": {
    "name": "ipython",
    "version": 3
   },
   "file_extension": ".py",
   "mimetype": "text/x-python",
   "name": "python",
   "nbconvert_exporter": "python",
   "pygments_lexer": "ipython3",
   "version": "3.7.6"
  }
 },
 "nbformat": 4,
 "nbformat_minor": 4
}
