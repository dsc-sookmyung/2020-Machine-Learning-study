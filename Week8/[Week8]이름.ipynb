{
 "cells": [
  {
   "cell_type": "markdown",
   "metadata": {},
   "source": [
    "# [Week8] 이미지 분석 활용 맛보기(OCR) + 마스크 분류 프로젝트"
   ]
  },
  {
   "cell_type": "markdown",
   "metadata": {},
   "source": [
    "## 1. 문자인식(OCR, Optical Character Recognition) 맛보기"
   ]
  },
  {
   "cell_type": "markdown",
   "metadata": {},
   "source": [
    "### (1) 라이브러리 다운로드 : tesserocr"
   ]
  },
  {
   "cell_type": "markdown",
   "metadata": {},
   "source": [
    "* 참고 링크 : https://pypi.org/project/tesserocr/"
   ]
  },
  {
   "cell_type": "markdown",
   "metadata": {},
   "source": [
    "1. 아나콘다에서 작업할 가상환경으로 들어온다 (conda activate)\n",
    "2. 다음 명령을 통해 라이브러리를 다운로드 한다.\n",
    "```\n",
    "conda install -c conda-forge tesserocr\n",
    "```\n",
    "3. 다음 코드를 통해 버전과 언어를 확인한다."
   ]
  },
  {
   "cell_type": "code",
   "execution_count": null,
   "metadata": {},
   "outputs": [],
   "source": [
    "import tesserocr\n",
    "from PIL import Image\n",
    "\n",
    "print(tesserocr.tesseract_version())  # print tesseract-ocr version\n",
    "print(tesserocr.get_languages())  # prints tessdata path and list of available languages"
   ]
  },
  {
   "cell_type": "markdown",
   "metadata": {},
   "source": [
    "4. 한글 인식을 위해 데이터를 다운로드 한다.\n",
    "    * [한글 데이터 다운로드 링크](https://github.com/tesseract-ocr/tessdata/blob/master/script/Hangul.traineddata)\n",
    "    * [(참고) 다른 언어 데이터 링크](https://github.com/tesseract-ocr/tessdata/tree/master/script)\n",
    "5. 4번에서 다운받은 파일을 현재 가상환경 아래의 tessdata 폴더에 넣는다."
   ]
  },
  {
   "cell_type": "code",
   "execution_count": null,
   "metadata": {},
   "outputs": [],
   "source": [
    "# 디렉터리 위치 확인\n",
    "print(tesserocr.get_languages()[0])"
   ]
  },
  {
   "cell_type": "markdown",
   "metadata": {},
   "source": [
    "6. 다음 코드를 통해 'Hangul' 이 추가되었는지 확인한다."
   ]
  },
  {
   "cell_type": "code",
   "execution_count": null,
   "metadata": {},
   "outputs": [],
   "source": [
    "# 지원되는 언어 다시 확인\n",
    "print(tesserocr.get_languages()[1])"
   ]
  },
  {
   "cell_type": "markdown",
   "metadata": {},
   "source": [
    "### (2) 문자 인식 실습"
   ]
  },
  {
   "cell_type": "code",
   "execution_count": null,
   "metadata": {},
   "outputs": [],
   "source": [
    "# 영어 버전\n",
    "path = './Image/english.png'\n",
    "image = Image.open(path)\n",
    "display(image)\n",
    "print(tesserocr.image_to_text(image, lang='eng'))  # print ocr text from image"
   ]
  },
  {
   "cell_type": "code",
   "execution_count": null,
   "metadata": {},
   "outputs": [],
   "source": [
    "# 한글 버전\n",
    "path = './Image/korean.png'\n",
    "image = Image.open(path)\n",
    "display(image)\n",
    "print(tesserocr.image_to_text(image, lang='Hangul'))  # print ocr text from image"
   ]
  },
  {
   "cell_type": "markdown",
   "metadata": {},
   "source": [
    "### (3) 문자 인식을 활용한 프로젝트 아이디어"
   ]
  },
  {
   "cell_type": "markdown",
   "metadata": {},
   "source": [
    "> __이미지에서 문자를 추출하는 문자인식 기술을 사용한 프로젝트들을 검색하거나 생각해보고 1개 이상 작성해주세요.__"
   ]
  },
  {
   "cell_type": "markdown",
   "metadata": {},
   "source": [
    "답변 : "
   ]
  },
  {
   "cell_type": "markdown",
   "metadata": {},
   "source": [
    "## 2. 마스크 착용 여부 분류 (mask classification)"
   ]
  },
  {
   "cell_type": "markdown",
   "metadata": {},
   "source": [
    "### (1) 캐글에서 모델 만들기"
   ]
  },
  {
   "cell_type": "markdown",
   "metadata": {},
   "source": [
    "* 캐글 데이터셋 : https://www.kaggle.com/andrewmvd/face-mask-detection\n",
    "* 복사할 노트북 : https://www.kaggle.com/tapan2930/fastai-mask-classification/"
   ]
  },
  {
   "cell_type": "markdown",
   "metadata": {},
   "source": [
    "1. 노트북을 [Copy and Edit]한다.\n",
    "2. 노트북을 하나씩 실행해보며 결과를 확인한다.\n",
    "3. 마지막 코드에서 model export 을 주석 풀고 실행한다.\n",
    "4. output 결과로 나오는 /kaggle/working/model.pkl 을 다운로드하여, Model 폴더에 넣는다."
   ]
  },
  {
   "cell_type": "markdown",
   "metadata": {},
   "source": [
    "### (2) 라이브러리 설치"
   ]
  },
  {
   "cell_type": "markdown",
   "metadata": {},
   "source": [
    "* 참고 링크 : https://pypi.org/project/fastai/1.0.60/\n",
    "* __주의사항 : fastai 버전은 1로 맞춰서 설치해주세요!__"
   ]
  },
  {
   "cell_type": "code",
   "execution_count": null,
   "metadata": {},
   "outputs": [],
   "source": [
    "!pip install fastai==1.0.60"
   ]
  },
  {
   "cell_type": "code",
   "execution_count": null,
   "metadata": {},
   "outputs": [],
   "source": [
    "import warnings\n",
    "warnings.filterwarnings('ignore')"
   ]
  },
  {
   "cell_type": "code",
   "execution_count": null,
   "metadata": {},
   "outputs": [],
   "source": [
    "import fastai\n",
    "fastai.__version__"
   ]
  },
  {
   "cell_type": "code",
   "execution_count": null,
   "metadata": {},
   "outputs": [],
   "source": [
    "import cvlib as cv\n",
    "import cv2\n",
    "import torch\n",
    "import time\n",
    "import imutils\n",
    "from PIL import Image as PImage\n",
    "from matplotlib import pyplot as plt\n",
    "from fastai.vision import *\n",
    "from torchvision.transforms import Compose, Resize, ToPILImage, ToTensor"
   ]
  },
  {
   "cell_type": "markdown",
   "metadata": {},
   "source": [
    "### (3) 마스크 착용 여부 분류 프로그램 작성하기"
   ]
  },
  {
   "cell_type": "markdown",
   "metadata": {},
   "source": [
    "* 참고 링크 : https://github.com/vinaykudari/mask-classification/blob/master/inference/mask-detection-on-webcam.ipynb"
   ]
  },
  {
   "cell_type": "code",
   "execution_count": null,
   "metadata": {},
   "outputs": [],
   "source": [
    "# 모델 가져오기\n",
    "learn = load_learner(\"./Model\", 'model.pkl')"
   ]
  },
  {
   "cell_type": "code",
   "execution_count": null,
   "metadata": {},
   "outputs": [],
   "source": [
    "# Transform image\n",
    "transformations = Compose([\n",
    "        ToPILImage(),\n",
    "        Resize((224, 224)),\n",
    "        ToTensor(),\n",
    "    ])"
   ]
  },
  {
   "cell_type": "code",
   "execution_count": null,
   "metadata": {},
   "outputs": [],
   "source": [
    "webcam = cv2.VideoCapture(0)\n",
    "\n",
    "if not webcam.isOpened():\n",
    "    print(\"Could not open webcam\")\n",
    "    exit()\n",
    "\n",
    "while webcam.isOpened():\n",
    "    status, frame = webcam.read()\n",
    "\n",
    "    if not status:\n",
    "        print(\"Could not read frame\")\n",
    "        exit()\n",
    "\n",
    "    im = cv2.flip(frame, 1)\n",
    "    \n",
    "    # 1. cvlib 의 얼굴 인식 함수를 사용하여 다음 코드를 완성하세요.\n",
    "    # --------- Start Edit -------------\n",
    "    faces, confidences = None\n",
    "    # --------- End Edit   -------------\n",
    "    \n",
    "    for face in faces:\n",
    "        (startX,startY) = face[0],face[1]\n",
    "        (endX,endY) = face[2],face[3]\n",
    "        \n",
    "        # 2. 사진에서 얼굴 부분만 크롭하세요.\n",
    "        # --------- Start Edit -------------\n",
    "        face_crop = None\n",
    "        # --------- End Edit   -------------\n",
    "        \n",
    "        # 3. face_crop 이미지를 BGR 에서 RGB 로 변환해주세요.\n",
    "        # --------- Start Edit -------------\n",
    "        face_RGB = None\n",
    "        # --------- End Edit   -------------\n",
    "        \n",
    "        outImg = Image(transformations(face_RGB))\n",
    "        \n",
    "        # 4. learn.predict() 을 이용하여, outImg 의 결과를 받아오세요.\n",
    "        # --------- Start Edit -------------\n",
    "        pred_class, pred_idx, class_scores = None\n",
    "        # --------- End Edit   -------------\n",
    "        \n",
    "        text = f'{pred_class}, {int(class_scores[pred_idx]*100)} accurate'\n",
    "        cv2.putText(im, text, (startX,startY), cv2.FONT_HERSHEY_SIMPLEX, 0.5, (0, 255, 0), 1)\n",
    "    \n",
    "    cv2.imshow(\"Real-time video\", im)\n",
    "\n",
    "    # 키보드의 'q'를 누르면 프로그램이 종료됩니다.\n",
    "    if cv2.waitKey(1) & 0xFF == ord('q'):\n",
    "        break\n",
    "\n",
    "webcam.release()\n",
    "cv2.destroyAllWindows()"
   ]
  },
  {
   "cell_type": "code",
   "execution_count": null,
   "metadata": {},
   "outputs": [],
   "source": []
  }
 ],
 "metadata": {
  "kernelspec": {
   "display_name": "Python 3",
   "language": "python",
   "name": "python3"
  },
  "language_info": {
   "codemirror_mode": {
    "name": "ipython",
    "version": 3
   },
   "file_extension": ".py",
   "mimetype": "text/x-python",
   "name": "python",
   "nbconvert_exporter": "python",
   "pygments_lexer": "ipython3",
   "version": "3.7.9"
  }
 },
 "nbformat": 4,
 "nbformat_minor": 4
}
