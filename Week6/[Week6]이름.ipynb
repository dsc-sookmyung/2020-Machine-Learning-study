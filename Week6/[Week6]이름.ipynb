{
 "cells": [
  {
   "cell_type": "markdown",
   "metadata": {},
   "source": [
    "# [Week6] 이미지 분석 기초"
   ]
  },
  {
   "cell_type": "markdown",
   "metadata": {},
   "source": [
    "* 이번 과제는 답을 작성하는 문제 3개와 여러 개의 실습 문제로 이루어져 있습니다.\n",
    "    * 과제를 진행하시면서 나와있는 코드들은 실행하시면서 넘어가시면 됩니다.\n",
    "    * 실습 문제에서는 `### Start Edit` 과 `### End Edit` 사이에 코드를 추가/수정해주시고 실행해주시면 됩니다."
   ]
  },
  {
   "cell_type": "markdown",
   "metadata": {},
   "source": [
    "## 1. 이미지 분석 기본 용어 정리"
   ]
  },
  {
   "cell_type": "markdown",
   "metadata": {},
   "source": [
    "### (1) 화소(Pixel)\n",
    "* Pixel\n",
    "    * 픽셀(화소), 영상처리의 최소 기본 단위\n",
    "    * 기본적으로, 1byte, 0~255의 값으로 표현\n",
    "* Resolution (해상도)\n",
    "    * 가로 픽셀 수 x 세로 픽셀 수"
   ]
  },
  {
   "cell_type": "code",
   "execution_count": null,
   "metadata": {},
   "outputs": [],
   "source": [
    "# 실행하기\n",
    "import numpy as np\n",
    "from matplotlib import pyplot as plt\n",
    "\n",
    "img_arr = np.array([0, 10, 255, 40, 50,\n",
    "                    60, 255, 255, 90, 100,\n",
    "                    110, 120, 255, 140, 150,\n",
    "                    160, 170, 255, 190, 200,\n",
    "                    210, 255, 255, 255, 220])\n",
    "\n",
    "plt.imshow(img_arr.reshape(5, 5), cmap='gray')\n",
    "plt.axis('off')\n",
    "plt.show()"
   ]
  },
  {
   "cell_type": "markdown",
   "metadata": {},
   "source": [
    "> __문제 1 : 가장 밝은 색(흰색)을 표현하려면 픽셀 값이 어디에 가까워야 할까요? (0 ~ 255 사이의 값 중에서)__"
   ]
  },
  {
   "cell_type": "markdown",
   "metadata": {},
   "source": [
    "답변 : "
   ]
  },
  {
   "cell_type": "markdown",
   "metadata": {},
   "source": [
    "### (2) 파일 포맷(File format)\n",
    "* Raster(Bitmap)\n",
    "    * 픽셀이 모여 하나의 이미지를 구성하는 방식\n",
    "    * GIF, BMP, JPEG, PNG, ... 등\n",
    "* Vector Graphics\n",
    "    * 점, 선, 도형 등의 객체를 이용해 이미지를 구성하는 방식\n",
    "    * PS, EPS, SVG, ... 등"
   ]
  },
  {
   "cell_type": "markdown",
   "metadata": {},
   "source": [
    "> __문제 2 : 이미지 픽셀을 이용하여 분석하기 위해서는 어떤 포멧의 이미지를 사용해야 할까요?__"
   ]
  },
  {
   "cell_type": "markdown",
   "metadata": {},
   "source": [
    "답변 : "
   ]
  },
  {
   "cell_type": "markdown",
   "metadata": {},
   "source": [
    "### (3) 컬러 공간(Color Space)\n",
    "* 흑백 이미지 (1-channel) : 컬러 모델이 gray-scale일 때, 하나의 값이 한 픽셀을 나타냄\n",
    "* 컬러 이미지 (3-channel) : 컬러 모델이 RGB 일 때, 하나의 (Red, Green, Blue) 값이 한 픽셀을 나타냄"
   ]
  },
  {
   "cell_type": "code",
   "execution_count": null,
   "metadata": {},
   "outputs": [],
   "source": [
    "# 실행하기\n",
    "import numpy as np\n",
    "from matplotlib import pyplot as plt\n",
    "\n",
    "img_arrR = np.array([0,   0, 0, 10,  0, 0, 255, 0, 0, 40,  0, 0, 50,  0, 0,\n",
    "                     60,  0, 0, 255, 0, 0, 255, 0, 0, 90,  0, 0, 100, 0, 0,\n",
    "                     110, 0, 0, 120, 0, 0, 255, 0, 0, 140, 0, 0, 150, 0, 0,\n",
    "                     160, 0, 0, 170, 0, 0, 255, 0, 0, 190, 0, 0, 200, 0, 0,\n",
    "                     210, 0, 0, 255, 0, 0, 255, 0, 0, 255, 0, 0, 220, 0, 0])\n",
    "\n",
    "img_arrG = np.array([0, 0,   0, 0, 10,  0, 0, 255, 0, 0, 40,  0, 0, 50,  0,\n",
    "                     0, 60,  0, 0, 255, 0, 0, 255, 0, 0, 90,  0, 0, 100, 0,\n",
    "                     0, 110, 0, 0, 120, 0, 0, 255, 0, 0, 140, 0, 0, 150, 0,\n",
    "                     0, 160, 0, 0, 170, 0, 0, 255, 0, 0, 190, 0, 0, 200, 0,\n",
    "                     0, 210, 0, 0, 255, 0, 0, 255, 0, 0, 255, 0, 0, 220, 0])\n",
    "\n",
    "img_arrB = np.array([0, 0, 0,   0, 0, 10,  0, 0, 255, 0, 0, 40,  0, 0, 50,\n",
    "                     0, 0, 60,  0, 0, 255, 0, 0, 255, 0, 0, 90,  0, 0, 100,\n",
    "                     0, 0, 110, 0, 0, 120, 0, 0, 255, 0, 0, 140, 0, 0, 150,\n",
    "                     0, 0, 160, 0, 0, 170, 0, 0, 255, 0, 0, 190, 0, 0, 200,\n",
    "                     0, 0, 210, 0, 0, 255, 0, 0, 255, 0, 0, 255, 0, 0, 220])\n",
    "\n",
    "plt.subplot(1, 3, 1)\n",
    "plt.imshow(img_arrR.reshape(5, 5, 3))\n",
    "plt.axis('off')\n",
    "plt.subplot(1, 3, 2)\n",
    "plt.imshow(img_arrG.reshape(5, 5, 3))\n",
    "plt.axis('off')\n",
    "plt.subplot(1, 3, 3)\n",
    "plt.imshow(img_arrB.reshape(5, 5, 3))\n",
    "plt.axis('off')\n",
    "plt.tight_layout()\n",
    "plt.show()"
   ]
  },
  {
   "cell_type": "markdown",
   "metadata": {},
   "source": [
    "> __실습 : 다음 코드에서 리스트 값을 채워 노란색과 보라색 픽셀을 표현해주세요.__"
   ]
  },
  {
   "cell_type": "code",
   "execution_count": null,
   "metadata": {},
   "outputs": [],
   "source": [
    "### Start Edit ###\n",
    "yellow = [None, None, None]\n",
    "purple = [None, None, None]\n",
    "### End Edit #####\n",
    "\n",
    "img_arr = np.array([yellow, purple])\n",
    "plt.imshow(img_arr.reshape(1, 2, 3))\n",
    "plt.axis('off')\n",
    "plt.show()"
   ]
  },
  {
   "cell_type": "markdown",
   "metadata": {},
   "source": [
    "## 2. 이미지 가공 with OpenCV"
   ]
  },
  {
   "cell_type": "markdown",
   "metadata": {},
   "source": [
    "참고 : [OpenCV-Python Study documentation](https://opencv-python.readthedocs.io/en/latest/)"
   ]
  },
  {
   "cell_type": "markdown",
   "metadata": {},
   "source": [
    "### (1) 라이브러리 설치"
   ]
  },
  {
   "cell_type": "code",
   "execution_count": null,
   "metadata": {},
   "outputs": [],
   "source": [
    "# OpenCV\n",
    "!pip install opencv-python"
   ]
  },
  {
   "cell_type": "code",
   "execution_count": null,
   "metadata": {},
   "outputs": [],
   "source": [
    "import cv2"
   ]
  },
  {
   "cell_type": "markdown",
   "metadata": {},
   "source": [
    "### (2) 이미지 파일 불러오기"
   ]
  },
  {
   "cell_type": "markdown",
   "metadata": {},
   "source": [
    "> __실습 : 주어진 image_path의 이미지를 불러오는 코드를 작성하세요.__"
   ]
  },
  {
   "cell_type": "code",
   "execution_count": null,
   "metadata": {},
   "outputs": [],
   "source": [
    "image_path = './Image/image1.jpeg'\n",
    "\n",
    "### Start Edit ###\n",
    "im = None\n",
    "### End Edit #####\n",
    "\n",
    "plt.imshow(im)\n",
    "plt.axis('off')\n",
    "plt.show()"
   ]
  },
  {
   "cell_type": "markdown",
   "metadata": {},
   "source": [
    "> __문제 3 : 위의 코드를 실행했을 때 사과가 파란색으로 보이는 이유는 무엇일까요? (힌트 : OpenCV의 기본 color space)__"
   ]
  },
  {
   "cell_type": "markdown",
   "metadata": {},
   "source": [
    "답변 : "
   ]
  },
  {
   "cell_type": "markdown",
   "metadata": {},
   "source": [
    "### (3) 컬러 공간(Color Space) 변경"
   ]
  },
  {
   "cell_type": "markdown",
   "metadata": {},
   "source": [
    "> __실습 : 위의 이미지 파일에서 사과의 색이 빨간색으로 나오도록 코드를 작성해보세요.__"
   ]
  },
  {
   "cell_type": "code",
   "execution_count": null,
   "metadata": {},
   "outputs": [],
   "source": [
    "### Start Edit ###\n",
    "im = None\n",
    "### End Edit #####\n",
    "\n",
    "plt.imshow(im)\n",
    "plt.axis('off')\n",
    "plt.show()"
   ]
  },
  {
   "cell_type": "markdown",
   "metadata": {},
   "source": [
    "### (4) 이미지 사이즈 변경(resize), 자르기(crop)"
   ]
  },
  {
   "cell_type": "markdown",
   "metadata": {},
   "source": [
    "> __실습 : 위의 이미지(im) 크기를 `가로 30, 세로 20`으로 변경해보고 결과를 확인하세요. 또, 위의 이미지(im)에서 `사과 부분`만 잘라보세요. (힌트 : 왼쪽 위 좌표가 (0,0)입니다.)__"
   ]
  },
  {
   "cell_type": "code",
   "execution_count": null,
   "metadata": {},
   "outputs": [],
   "source": [
    "### Start Edit ###\n",
    "im_resize = None\n",
    "im_crop = None\n",
    "### End Edit #####\n",
    "\n",
    "plt.subplot(2, 1, 1)\n",
    "plt.imshow(im_resize)\n",
    "plt.axis('off')\n",
    "plt.subplot(2, 1, 2)\n",
    "plt.imshow(im_crop)\n",
    "plt.axis('off')\n",
    "plt.tight_layout()\n",
    "plt.show()"
   ]
  },
  {
   "cell_type": "markdown",
   "metadata": {},
   "source": [
    "### (5) 이미지 반전(flip), 회전(rotate)"
   ]
  },
  {
   "cell_type": "markdown",
   "metadata": {},
   "source": [
    "> __실습 : 이미지(im)를 좌우 반전시키고, 또, 이미지(im)를 시계방향으로 90도 회전시켜 보고 결과를 확인해보세요.__"
   ]
  },
  {
   "cell_type": "code",
   "execution_count": null,
   "metadata": {},
   "outputs": [],
   "source": [
    "### Start Edit ###\n",
    "im_flip = None\n",
    "im_rotate = None\n",
    "### End Edit #####\n",
    "\n",
    "plt.subplot(2, 1, 1)\n",
    "plt.imshow(im_flip)\n",
    "plt.axis('off')\n",
    "plt.subplot(2, 1, 2)\n",
    "plt.imshow(im_rotate)\n",
    "plt.axis('off')\n",
    "plt.tight_layout()\n",
    "plt.show()"
   ]
  },
  {
   "cell_type": "markdown",
   "metadata": {},
   "source": [
    "### (6) 이미지에 그리기"
   ]
  },
  {
   "cell_type": "markdown",
   "metadata": {},
   "source": [
    "> __실습 : 이미지(im)의 사과 부분에 네모 박스(rectangle)를 그리고, 그 위(im_rect)에 \"Apple\" 이라고 글씨를 넣어보세요. (색깔, 두께는 자유)__"
   ]
  },
  {
   "cell_type": "code",
   "execution_count": null,
   "metadata": {},
   "outputs": [],
   "source": [
    "### Start Edit ###\n",
    "im_rect = None\n",
    "im_drawing = None\n",
    "### End Edit #####\n",
    "\n",
    "plt.imshow(im_drawing)\n",
    "plt.axis('off')\n",
    "plt.show()"
   ]
  },
  {
   "cell_type": "markdown",
   "metadata": {},
   "source": [
    "### (7) 이미지 저장"
   ]
  },
  {
   "cell_type": "markdown",
   "metadata": {},
   "source": [
    "> __실습 : (6)번에서 진행한 실습 결과(im_drawing)를 자신의 이름(영어)을 넣은 파일 이름으로 저장하세요. (단, 저장 시 색깔이 제대로 저장되도록 고려해주세요.)__"
   ]
  },
  {
   "cell_type": "code",
   "execution_count": null,
   "metadata": {},
   "outputs": [],
   "source": [
    "### Start Edit ###\n",
    "save_image_path = './Image/' + 'your_name' +'.jpg'\n",
    "im_result = None\n",
    "### End Edit #####\n",
    "\n",
    "cv2.imwrite(save_image_path, im_result)"
   ]
  },
  {
   "cell_type": "markdown",
   "metadata": {},
   "source": [
    "6주차도 수고 많으셨습니다. 다음 주차에는 다양한 이미지 분석 활용(물체 탐지, 얼굴 인식 등)을 실습해볼 예정이니 이번 주보다 더 재밌을 거에요! 끝까지 화이팅입니다!"
   ]
  }
 ],
 "metadata": {
  "kernelspec": {
   "display_name": "Python 3",
   "language": "python",
   "name": "python3"
  },
  "language_info": {
   "codemirror_mode": {
    "name": "ipython",
    "version": 3
   },
   "file_extension": ".py",
   "mimetype": "text/x-python",
   "name": "python",
   "nbconvert_exporter": "python",
   "pygments_lexer": "ipython3",
   "version": "3.7.6"
  }
 },
 "nbformat": 4,
 "nbformat_minor": 4
}
