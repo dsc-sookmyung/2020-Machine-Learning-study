{
 "metadata": {
  "language_info": {
   "codemirror_mode": {
    "name": "ipython",
    "version": 3
   },
   "file_extension": ".py",
   "mimetype": "text/x-python",
   "name": "python",
   "nbconvert_exporter": "python",
   "pygments_lexer": "ipython3",
   "version": "3.8.4-final"
  },
  "orig_nbformat": 2,
  "kernelspec": {
   "name": "Python 3.8.4 64-bit",
   "display_name": "Python 3.8.4 64-bit",
   "metadata": {
    "interpreter": {
     "hash": "015647790a1949f0de812177e087b03d3c60d82f9d1707049480c8e3ba6333b1"
    }
   }
  }
 },
 "nbformat": 4,
 "nbformat_minor": 2,
 "cells": [
  {
   "source": [
    "# \\[Week4] 나이브베이즈 분류기를 이용해 캐글 데이터 긍정/부정 분류\n",
    "> [캐글 데이터](https://www.kaggle.com/c/nlp-getting-started/data)"
   ],
   "cell_type": "markdown",
   "metadata": {}
  },
  {
   "cell_type": "code",
   "execution_count": null,
   "metadata": {},
   "outputs": [],
   "source": [
    "# 필요한 패키지 불러오기\n",
    "import pandas as pd\n",
    "import re\n",
    "from collections import Counter\n",
    "from math import log, exp"
   ]
  },
  {
   "source": [
    "### 1. 데이터 불러오기"
   ],
   "cell_type": "markdown",
   "metadata": {}
  },
  {
   "cell_type": "code",
   "execution_count": null,
   "metadata": {},
   "outputs": [],
   "source": [
    "# pandas 이용해 csv를 dataframe으로 읽어오기\n",
    "df = # 코드 작성\n",
    "# \"text\", \"target\" column만 갖고오기\n",
    "df = # 코드 작성\n",
    "df.head()"
   ]
  },
  {
   "source": [
    "### 2. target 값 기준 (0/1)별로 text 리스트에 저장"
   ],
   "cell_type": "markdown",
   "metadata": {}
  },
  {
   "cell_type": "code",
   "execution_count": null,
   "metadata": {
    "tags": [
     "outputPrepend"
    ]
   },
   "outputs": [],
   "source": [
    "# target == 0\n",
    "df_zero = []\n",
    "# target == 1\n",
    "df_one = []\n",
    "\n",
    "for i in range(len(df)):\n",
    "    # 아래 pass 지우고 코드 작성\n",
    "    pass\n",
    "\n",
    "print(df_zero)\n",
    "print(df_one)"
   ]
  },
  {
   "source": [
    "### 3. train data에 저장"
   ],
   "cell_type": "markdown",
   "metadata": {}
  },
  {
   "cell_type": "code",
   "execution_count": null,
   "metadata": {},
   "outputs": [],
   "source": [
    "# 토큰화를 편하게 하기 위해 각각을 한문장으로 합치기\n",
    "# train_datas = [target==0인 문장, target==1인 문장]\n",
    "train_datas = [\" \".join(df_zero), \" \".join(df_one)]"
   ]
  },
  {
   "source": [
    "### 4. 데이터 전처리"
   ],
   "cell_type": "markdown",
   "metadata": {}
  },
  {
   "cell_type": "code",
   "execution_count": null,
   "metadata": {},
   "outputs": [],
   "source": [
    "def preprocessing(data):\n",
    "    # 아래 pass 지우고 코드 작성\n",
    "    # 스탑워드 제거 - 소문자로 바꾸기, 문자가 아닌 것(.,! 등)은 띄어쓰기로 변경\n",
    "    data_sw = pass\n",
    "    # 토큰화 - 띄어쓰기 기준으로\n",
    "    tokenized = pass\n",
    "    # Bow화 {단어 : 빈도수} 딕셔너리 형태로 저장\n",
    "    word_vector = pass\n",
    "    return word_vector, len(tokenized)"
   ]
  },
  {
   "cell_type": "code",
   "execution_count": null,
   "metadata": {
    "tags": []
   },
   "outputs": [],
   "source": [
    "train_zero, zero_total_wc = preprocessing(train_datas[0])\n",
    "train_one, one_total_wc = preprocessing(train_datas[1])"
   ]
  },
  {
   "source": [
    "### 5. 문장이 나올 확률 구하기 (log 이용)"
   ],
   "cell_type": "markdown",
   "metadata": {}
  },
  {
   "source": [
    "(문제) 여기서 왜 log를 취할까? (모르겠다면 예상 써주셔도 됩니다.)  \n",
    "\\[답변]"
   ],
   "cell_type": "markdown",
   "metadata": {}
  },
  {
   "source": [
    "train_data에 없는 단어 빈도 임의 지정"
   ],
   "cell_type": "markdown",
   "metadata": {}
  },
  {
   "cell_type": "code",
   "execution_count": null,
   "metadata": {},
   "outputs": [],
   "source": [
    "nowords_w = 0.1"
   ]
  },
  {
   "cell_type": "code",
   "execution_count": null,
   "metadata": {},
   "outputs": [],
   "source": [
    "# 문장이 나올 확률 = 각 단어가 등장할 확률 다 곱한 것\n",
    "# log(P(test_data|train_data))\n",
    "\n",
    "# pass 부분을 지우고 코드를 작성하세요\n",
    "\n",
    "def getLogProb(train_vector, test_vector, total_wc):\n",
    "    log_prob = 0\n",
    "    for word in test_vector:\n",
    "        # word가 train_vector에 있는 경우 --> 단어 등장 확률 // 없는 경우 --> 사전에 임의로 정한 확률\n",
    "        if word in train_vector:\n",
    "            log_prob += pass\n",
    "        else:\n",
    "            # 없는 단어는 가정\n",
    "            log_prob += log(nowords_w/total_wc)\n",
    "    return log_prob"
   ]
  },
  {
   "cell_type": "code",
   "execution_count": null,
   "metadata": {
    "tags": []
   },
   "outputs": [],
   "source": [
    "test_data = \"Traffic accident\"        # 예측 대상 문장 #input()으로 대체 가능\n",
    "test_vector, _ = preprocessing(test_data)"
   ]
  },
  {
   "source": [
    "### 6. P(target == 0) P(target == 1) 구하기  \n",
    "보통은 임의로 정하거나 데이터 비율로 정함.  \n",
    "여기서는 데이터 비율로 정할 것."
   ],
   "cell_type": "markdown",
   "metadata": {}
  },
  {
   "cell_type": "code",
   "execution_count": null,
   "metadata": {},
   "outputs": [],
   "source": [
    "zero_prob = pass # P(target == 0)\n",
    "one_prob = pass # P(target == 1)"
   ]
  },
  {
   "source": [
    "### 7. 베이즈 정리 이용 - 로그연산"
   ],
   "cell_type": "markdown",
   "metadata": {}
  },
  {
   "cell_type": "code",
   "execution_count": null,
   "metadata": {},
   "outputs": [],
   "source": [
    "# P(test_data) 는 공통이므로 신경쓰지 않음\n",
    "# P(부정|test_data) = P(test_data|부정) * P(부정) / P(test_data)\n",
    "test_zero_prob = getLogProb(train_zero, test_vector, zero_total_wc) + log(zero_prob) \n",
    "# P(긍정|test_data) = P(test_data|긍정) * P(긍정) / P(test_data)\n",
    "test_one_prob = getLogProb(train_one, test_vector, one_total_wc) + log(one_prob) "
   ]
  },
  {
   "source": [
    "### 8. 로그를 지수화, Normalize"
   ],
   "cell_type": "markdown",
   "metadata": {}
  },
  {
   "cell_type": "code",
   "execution_count": null,
   "metadata": {
    "tags": []
   },
   "outputs": [],
   "source": [
    "# 아래 pass 지우고 코드 작성\n",
    "# test_one_prob, test_zero_prob 중 **큰 것**을 찾아 똑같이 빼주어 하나가 0이 되도록\n",
    "maxprob = pass\n",
    "test_one_prob -= pass\n",
    "test_zero_prob -= pass\n",
    "\n",
    "# log 없애주기 위해 지수화 --> 힌트) exp 함수 사용\n",
    "test_one = pass\n",
    "test_zero = pass\n",
    "\n",
    "# 두 확률 값의 상대적인 비율 구하기(normalization)\n",
    "normalized_prob = [pass, pass]\n",
    "# 둘 중 큰 것의 index 출력\n",
    "pass"
   ]
  },
  {
   "cell_type": "code",
   "execution_count": null,
   "metadata": {},
   "outputs": [],
   "source": [
    "normalized_prob"
   ]
  }
 ]
}