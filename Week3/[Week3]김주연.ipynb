{
 "cells": [
  {
   "cell_type": "markdown",
   "metadata": {},
   "source": [
    "# \\[Week3] 텍스트분석 기초"
   ]
  },
  {
   "cell_type": "markdown",
   "metadata": {},
   "source": [
    "## 1. 텍스트 분석 기본 용어 정리\n",
    "https://wikidocs.net/21694  \n",
    "위의 링크와 구글링으로 정리  \n",
    "용어 정리는 추후에 본인이 보기에 편한 형식으로 정리하면 됩니다."
   ]
  },
  {
   "cell_type": "markdown",
   "metadata": {},
   "source": [
    "1. 토큰화 (Tokenization)  \n",
    "\\[답변] 주어진 문장, corpus를 token이라는 단위로 나누는 작업. token은 상황에 따라 기준이 달라진다. word, sentence, 등등. 한국어의 경우 형태소가 중요하다. NLTK는 영어 corpus tokenization에 사용한다. 한국어는 KoNLPY를 사용한다. "
   ]
  },
  {
   "cell_type": "markdown",
   "metadata": {},
   "source": [
    "2. 불용어 (Stopword)  \n",
    "\\[답변] 큰 의미가 없는 token"
   ]
  },
  {
   "cell_type": "markdown",
   "metadata": {},
   "source": [
    "3. 정규표현식 (Regular Expression) 문법  "
   ]
  },
  {
   "cell_type": "markdown",
   "metadata": {},
   "source": [
    "1) 정규 표현식에 해당하는 스트링 2개 이상  \n",
    "(1) a+  \n",
    "\\[답변] a, aa, aaaaaaaaaaaaa\n",
    "<br>\n",
    "(2) a{3}b{2,}  \n",
    "\\[답변] aaabb, aaabbbbbbbbbbbbbbbbbbbb\n",
    "<br>\n",
    "(3) .+b$  \n",
    "\\[답변] kkb, nb, dfb\n",
    "<br>\n",
    "(4) ^ab*     \n",
    "\\[답변] a, ab, abdflskejf\n",
    "<br>\n",
    "(5) \\[a-z]+\\[^a|z]  \n",
    "\\[답변] cb, cdb, xsz, xssafaefz"
   ]
  },
  {
   "cell_type": "code",
   "execution_count": 25,
   "metadata": {},
   "outputs": [
    {
     "data": {
      "text/plain": [
       "<re.Match object; span=(0, 8), match='xssafaef'>"
      ]
     },
     "execution_count": 25,
     "metadata": {},
     "output_type": "execute_result"
    }
   ],
   "source": [
    "import re\n",
    "r = re.compile(\"[a-z]+[^a|z]\")\n",
    "r.search(\"xssafaefz\")"
   ]
  },
  {
   "cell_type": "markdown",
   "metadata": {},
   "source": [
    "2) 정규 표현식 문자 규칙 의미  \n",
    "(1) \\\\\\ \\[답변] \\문자\n",
    "<br>\n",
    "(2) \\d \\[답변] 모든 숫자. [0-9]\n",
    "<br>\n",
    "(3) \\D \\[답변] 숫자 제외 모든 문자. [^0-9]\n",
    "<br>\n",
    "(4) \\s \\[답변] 공백. [ \\t\\n\\r\\f\\v]\n",
    "<br>\n",
    "(5) \\S \\[답변] 공백 제외 모든 문자. [^ \\t\\n\\r\\f\\v]\n",
    "<br>\n",
    "(6) \\w \\[답변] 문자 또는 숫자. [a-zA-Z0-9]\n",
    "<br>\n",
    "(7) \\W \\[답변] (문자 또는 숫자) 제외 문자. [^a-zA-Z0-9]"
   ]
  },
  {
   "cell_type": "markdown",
   "metadata": {},
   "source": [
    "3) 정규표현식 모듈 함수 사용"
   ]
  },
  {
   "cell_type": "markdown",
   "metadata": {},
   "source": [
    "(1) 출력 결과 : \\['010', '1234', '1234', '30']"
   ]
  },
  {
   "cell_type": "code",
   "execution_count": 26,
   "metadata": {},
   "outputs": [
    {
     "data": {
      "text/plain": [
       "['010', '1234', '5678', '25']"
      ]
     },
     "execution_count": 26,
     "metadata": {},
     "output_type": "execute_result"
    }
   ],
   "source": [
    "import re\n",
    "text = \"\"\"이름 : 눈송이\n",
    "전화번호 : 010-1234-5678\n",
    "나이 : 25\n",
    "성별 : 여\"\"\" \n",
    "re.findall(\"\\d+\", text)"
   ]
  },
  {
   "cell_type": "markdown",
   "metadata": {},
   "source": [
    "(2) 출력 결과 : \\['1234', '5678']"
   ]
  },
  {
   "cell_type": "code",
   "execution_count": 27,
   "metadata": {},
   "outputs": [
    {
     "data": {
      "text/plain": [
       "['1234', '5678']"
      ]
     },
     "execution_count": 27,
     "metadata": {},
     "output_type": "execute_result"
    }
   ],
   "source": [
    "import re\n",
    "text = \"\"\"이름 : 눈송이\n",
    "전화번호 : 010-1234-5678\n",
    "나이 : 25\n",
    "성별 : 여\"\"\"  \n",
    "re.findall(\"\\d{4}\", text)"
   ]
  },
  {
   "cell_type": "markdown",
   "metadata": {},
   "source": [
    "(3) 출력 결과 : \\['John', 'James', 'Noonsong'] "
   ]
  },
  {
   "cell_type": "code",
   "execution_count": 30,
   "metadata": {},
   "outputs": [
    {
     "data": {
      "text/plain": [
       "['John', 'James', 'Noonsong']"
      ]
     },
     "execution_count": 30,
     "metadata": {},
     "output_type": "execute_result"
    }
   ],
   "source": [
    "import re\n",
    "text = \"\"\"100 John    PROF\n",
    "101 James   STUD\n",
    "102 Noonsong   STUD\"\"\" \n",
    "re.findall(\"[A-Z][a-z]+\", text)"
   ]
  },
  {
   "cell_type": "markdown",
   "metadata": {},
   "source": [
    "4. 정수 인코딩(Integer Encoding)  "
   ]
  },
  {
   "cell_type": "markdown",
   "metadata": {},
   "source": [
    "1) 문장 분리 및 토큰화"
   ]
  },
  {
   "cell_type": "code",
   "execution_count": 2,
   "metadata": {},
   "outputs": [],
   "source": [
    "# 이 셀은 실행만 시키면 됩니다.\n",
    "text = \"A barber is a person. a barber is good person. a barber is huge person. he Knew A Secret! The Secret He Kept is huge secret. Huge secret. His barber kept his word. a barber kept his word. His barber kept his secret. But keeping and keeping such a huge secret to himself was driving the barber crazy. the barber went up a huge mountain.\"\n",
    "# 문장 분리\n",
    "sentences = text.replace(\"!\", \".\").split(\". \")\n",
    "# 토큰화\n",
    "tokenized = [sentence.lower().split() for sentence in sentences]"
   ]
  },
  {
   "cell_type": "code",
   "execution_count": 3,
   "metadata": {},
   "outputs": [
    {
     "data": {
      "text/plain": [
       "['A barber is a person',\n",
       " 'a barber is good person',\n",
       " 'a barber is huge person',\n",
       " 'he Knew A Secret',\n",
       " 'The Secret He Kept is huge secret',\n",
       " 'Huge secret',\n",
       " 'His barber kept his word',\n",
       " 'a barber kept his word',\n",
       " 'His barber kept his secret',\n",
       " 'But keeping and keeping such a huge secret to himself was driving the barber crazy',\n",
       " 'the barber went up a huge mountain.']"
      ]
     },
     "execution_count": 3,
     "metadata": {},
     "output_type": "execute_result"
    }
   ],
   "source": [
    "sentences"
   ]
  },
  {
   "cell_type": "code",
   "execution_count": 4,
   "metadata": {},
   "outputs": [
    {
     "data": {
      "text/plain": [
       "[['a', 'barber', 'is', 'a', 'person'],\n",
       " ['a', 'barber', 'is', 'good', 'person'],\n",
       " ['a', 'barber', 'is', 'huge', 'person'],\n",
       " ['he', 'knew', 'a', 'secret'],\n",
       " ['the', 'secret', 'he', 'kept', 'is', 'huge', 'secret'],\n",
       " ['huge', 'secret'],\n",
       " ['his', 'barber', 'kept', 'his', 'word'],\n",
       " ['a', 'barber', 'kept', 'his', 'word'],\n",
       " ['his', 'barber', 'kept', 'his', 'secret'],\n",
       " ['but',\n",
       "  'keeping',\n",
       "  'and',\n",
       "  'keeping',\n",
       "  'such',\n",
       "  'a',\n",
       "  'huge',\n",
       "  'secret',\n",
       "  'to',\n",
       "  'himself',\n",
       "  'was',\n",
       "  'driving',\n",
       "  'the',\n",
       "  'barber',\n",
       "  'crazy'],\n",
       " ['the', 'barber', 'went', 'up', 'a', 'huge', 'mountain.']]"
      ]
     },
     "execution_count": 4,
     "metadata": {},
     "output_type": "execute_result"
    }
   ],
   "source": [
    "tokenized"
   ]
  },
  {
   "cell_type": "markdown",
   "metadata": {},
   "source": [
    "2) 각 단어에 대한 빈도수 딕셔너리 저장  \n",
    "\\[출력] \\[('barber', 8), ('secret', 6), ('huge', 5), ('kept', 4), ('person', 3), ('word', 2), ('keeping', 2), ('good', 1), ('knew', 1), ('driving', 1), ('crazy', 1), ('went', 1), ('mountain.', 1)]"
   ]
  },
  {
   "cell_type": "code",
   "execution_count": 9,
   "metadata": {},
   "outputs": [
    {
     "name": "stderr",
     "output_type": "stream",
     "text": [
      "[nltk_data] Downloading package stopwords to\n",
      "[nltk_data]     C:\\Users\\Usersilsoo\\AppData\\Roaming\\nltk_data...\n",
      "[nltk_data]   Unzipping corpora\\stopwords.zip.\n"
     ]
    },
    {
     "data": {
      "text/plain": [
       "True"
      ]
     },
     "execution_count": 9,
     "metadata": {},
     "output_type": "execute_result"
    }
   ],
   "source": [
    "# import nltk\n",
    "# nltk.download('stopwords')"
   ]
  },
  {
   "cell_type": "code",
   "execution_count": 3,
   "metadata": {
    "tags": []
   },
   "outputs": [
    {
     "name": "stdout",
     "output_type": "stream",
     "text": [
      "[('barber', 8), ('secret', 6), ('huge', 5), ('kept', 4), ('person', 3), ('word', 2), ('keeping', 2), ('good', 1), ('knew', 1), ('driving', 1), ('crazy', 1), ('went', 1), ('mountain.', 1)]\n"
     ]
    }
   ],
   "source": [
    "# 각 단어에 대한 빈도수 딕셔너리로 저장 \n",
    "# *stopword는 제거\n",
    "from nltk.corpus import stopwords\n",
    "vocab = {}\n",
    "stop_words = set(stopwords.words('english'))\n",
    "sentences = []      # stopword 제거된 토큰화된 문장 리스트 저장\n",
    "# 여기부터 코드 작성\n",
    "for sentence in tokenized:\n",
    "    result = []\n",
    "    for word in sentence:\n",
    "        if word not in stop_words:\n",
    "            result.append(word)\n",
    "            if word not in vocab:\n",
    "                vocab[word] = 0\n",
    "            vocab[word] += 1\n",
    "    sentences.append(result)\n",
    "    \n",
    "# 빈도수 높은 순으로 정렬\n",
    "# 여기부터 코드 작성\n",
    "vocab_sorted = sorted(vocab.items(), key = lambda x:x[1], reverse = True)\n",
    "print(vocab_sorted)"
   ]
  },
  {
   "cell_type": "code",
   "execution_count": 4,
   "metadata": {},
   "outputs": [
    {
     "data": {
      "text/plain": [
       "[['barber', 'person'],\n",
       " ['barber', 'good', 'person'],\n",
       " ['barber', 'huge', 'person'],\n",
       " ['knew', 'secret'],\n",
       " ['secret', 'kept', 'huge', 'secret'],\n",
       " ['huge', 'secret'],\n",
       " ['barber', 'kept', 'word'],\n",
       " ['barber', 'kept', 'word'],\n",
       " ['barber', 'kept', 'secret'],\n",
       " ['keeping', 'keeping', 'huge', 'secret', 'driving', 'barber', 'crazy'],\n",
       " ['barber', 'went', 'huge', 'mountain.']]"
      ]
     },
     "execution_count": 4,
     "metadata": {},
     "output_type": "execute_result"
    }
   ],
   "source": [
    "sentences"
   ]
  },
  {
   "cell_type": "markdown",
   "metadata": {},
   "source": [
    "3) 빈도순으로 정렬된 단어에 정수 인덱스 부여  \n",
    "\\[출력] {'barber': 1, 'secret': 2, 'huge': 3, 'kept': 4, 'person': 5, 'word': 6, 'keeping': 7, 'good': 8, 'knew': 9, 'driving': 10, 'crazy': 11, 'went': 12, 'mountain': 13, 'OOV' : 14}"
   ]
  },
  {
   "cell_type": "code",
   "execution_count": 5,
   "metadata": {
    "tags": []
   },
   "outputs": [
    {
     "name": "stdout",
     "output_type": "stream",
     "text": [
      "{'barber': 1, 'secret': 2, 'huge': 3, 'kept': 4, 'person': 5, 'word': 6, 'keeping': 7, 'good': 8, 'knew': 9, 'driving': 10, 'crazy': 11, 'went': 12, 'mountain.': 13, 'OOV': 14}\n"
     ]
    }
   ],
   "source": [
    "word_to_index = {}\n",
    "i = 1\n",
    "# 여기부터 코드 작성\n",
    "for (word, frequency) in vocab_sorted:\n",
    "    word_to_index[word] = i\n",
    "    i += 1\n",
    "# dictionary에 없는 단어\n",
    "word_to_index['OOV'] = len(word_to_index) + 1\n",
    "print(word_to_index)"
   ]
  },
  {
   "cell_type": "markdown",
   "metadata": {},
   "source": [
    "4) word_to_index를 사용하여 sentences의 모든 단어들을 맵핑되는 정수로 인코딩  \n",
    "\\[출력] \\[\\[1, 5], \\[1, 8, 5], \\[1, 3, 5], \\[9, 2], \\[2, 4, 3, 2], \\[3, 2], \\[1, 4, 6], \\[1, 4, 6], \\[1, 4, 2], \\[7, 7, 3, 2, 10, 1, 11], \\[1, 12, 3, 13]]"
   ]
  },
  {
   "cell_type": "code",
   "execution_count": 6,
   "metadata": {
    "tags": []
   },
   "outputs": [
    {
     "name": "stdout",
     "output_type": "stream",
     "text": [
      "[[1, 5], [1, 8, 5], [1, 3, 5], [9, 2], [2, 4, 3, 2], [3, 2], [1, 4, 6], [1, 4, 6], [1, 4, 2], [7, 7, 3, 2, 10, 1, 11], [1, 12, 3, 13]]\n"
     ]
    }
   ],
   "source": [
    "encoded = []\n",
    "# 여기부터 코드 작성\n",
    "for sentence in sentences:\n",
    "    temp = []\n",
    "    for token in sentence:\n",
    "        try:\n",
    "            temp.append(word_to_index[token])\n",
    "        except KeyError:\n",
    "            temp.append(word_to_index['OOV'])\n",
    "    encoded.append(temp)\n",
    "print(encoded)"
   ]
  },
  {
   "cell_type": "markdown",
   "metadata": {},
   "source": [
    "5. 패딩(Padding)  \n",
    "0으로 패딩해보기"
   ]
  },
  {
   "cell_type": "markdown",
   "metadata": {},
   "source": [
    "1) 가장 긴 문장 길이 찾기"
   ]
  },
  {
   "cell_type": "code",
   "execution_count": 9,
   "metadata": {
    "tags": []
   },
   "outputs": [
    {
     "name": "stdout",
     "output_type": "stream",
     "text": [
      "7\n"
     ]
    }
   ],
   "source": [
    "max_len = max(len(item) for item in encoded) # 가장 긴 문장 길이 찾기\n",
    "print(max_len)"
   ]
  },
  {
   "cell_type": "markdown",
   "metadata": {},
   "source": [
    "2) 가장 긴 문장 길이에 맞춰 0으로 채워넣기  \n",
    "\\[\\[ 1  5  0  0  0  0  0]  \n",
    " \\[ 1  8  5  0  0  0  0]  \n",
    " \\[ 1  3  5  0  0  0  0]  \n",
    " \\[ 9  2  0  0  0  0  0]  \n",
    " \\[ 2  4  3  2  0  0  0]  \n",
    " \\[ 3  2  0  0  0  0  0]  \n",
    " \\[ 1  4  6  0  0  0  0]  \n",
    " \\[ 1  4  6  0  0  0  0]  \n",
    " \\[ 1  4  2  0  0  0  0]  \n",
    " \\[ 7  7  3  2 10  1 11]  \n",
    " \\[ 1 12  3 13  0  0  0]]"
   ]
  },
  {
   "cell_type": "code",
   "execution_count": 11,
   "metadata": {
    "tags": []
   },
   "outputs": [
    {
     "name": "stdout",
     "output_type": "stream",
     "text": [
      "[[ 1  5  0  0  0  0  0]\n",
      " [ 1  8  5  0  0  0  0]\n",
      " [ 1  3  5  0  0  0  0]\n",
      " [ 9  2  0  0  0  0  0]\n",
      " [ 2  4  3  2  0  0  0]\n",
      " [ 3  2  0  0  0  0  0]\n",
      " [ 1  4  6  0  0  0  0]\n",
      " [ 1  4  6  0  0  0  0]\n",
      " [ 1  4  2  0  0  0  0]\n",
      " [ 7  7  3  2 10  1 11]\n",
      " [ 1 12  3 13  0  0  0]]\n"
     ]
    }
   ],
   "source": [
    "import numpy as np\n",
    "for sentence in encoded:\n",
    "    # 코드 작성\n",
    "    while len(sentence) < max_len:\n",
    "        sentence.append(0)\n",
    "\n",
    "encoded = np.array(encoded)        # 지금은 보기 좋게 하기 위함임..\n",
    "print(encoded)"
   ]
  },
  {
   "cell_type": "markdown",
   "metadata": {},
   "source": [
    "6. 원-핫 인코딩(One-Hot Encoding)  \n",
    "\\[출력] \\[0, 0, 0, 1, 0, 0, 0, 0, 0, 0, 0, 0, 0, 0, 0]"
   ]
  },
  {
   "cell_type": "code",
   "execution_count": 12,
   "metadata": {},
   "outputs": [],
   "source": [
    "def one_hot_encoding(word, word_to_index):\n",
    "    # 코드 작성\n",
    "    one_hot_vector = [0] * len(word_to_index)\n",
    "    index = word_to_index[word]\n",
    "    one_hot_vector[index] = 1\n",
    "    return one_hot_vector"
   ]
  },
  {
   "cell_type": "code",
   "execution_count": 13,
   "metadata": {
    "tags": []
   },
   "outputs": [
    {
     "data": {
      "text/plain": [
       "[0, 0, 0, 1, 0, 0, 0, 0, 0, 0, 0, 0, 0, 0]"
      ]
     },
     "execution_count": 13,
     "metadata": {},
     "output_type": "execute_result"
    }
   ],
   "source": [
    "# 위의 함수와 정수 인코딩 실행 후 실행할 것.\n",
    "one_hot_encoding(\"huge\", word_to_index)"
   ]
  },
  {
   "cell_type": "markdown",
   "metadata": {},
   "source": [
    "7. Bag of Words(BoW)  \n",
    "\\[답변] 단어 출현 frequency를 저장한 단어 가방. 각 단어에 정수 인덱스를 부여하고 각 인덱스 위치에 token 등장 횟수를 기록한다. "
   ]
  },
  {
   "cell_type": "markdown",
   "metadata": {},
   "source": [
    "## 2. 텍스트 분석 전처리 경험해보기"
   ]
  },
  {
   "cell_type": "markdown",
   "metadata": {},
   "source": [
    "1. 본인이 좋아하는 노래 가사, 시 등 text에 저장"
   ]
  },
  {
   "cell_type": "code",
   "execution_count": 55,
   "metadata": {},
   "outputs": [],
   "source": [
    "LoveIsAnOpenDoor = \" Okay can I just say something crazy I love crazy All my life has been a series of doors in my face And then suddenly I bump into you I was thinking the same thing ‘Cause like I've been searching my whole life to find my own place And maybe it's the party talking or the chocolate fondue But with you But with you I found my place I see your face And it's nothing like I've ever known before Love is an open door Love is an open door Love is an open door With you With you With you With you Love is an open door I mean it's crazy What We finish each other's Sandwiches That's what I was gonna say I've never met someone Who thinks so much like me Jinx Jinx again Our mental synchronization Can have but one explanation You And I Were Just Meant to be Say goodbye Say goodbye To the pain of the past We don't have to feel it any more Love is an open door Love is an open door Life can be so much more With you With you With you With you Love is an open door Can I say something crazy Will you marry me Can I say something even crazier Yes\"\n",
    "ForTheFirstTimeInForever = \" The window is open So's that door I didn't know they did that anymore Who knew we owned eight thousand salad plates For years I've roamed these empty halls Why have a ballroom with no balls Finally they're opening up the gates There'll be actual real live people It'll be totally strange wow Am I so ready for this change 'Cause for the first time in forever There'll be music there'll be light For the first time in forever I'll be dancing through the night Don't know if I'm elated or gassy But I'm somewhere in that zone Cause for the first time in forever I won't be alone I can't wait to meet everyone What if I meet the one Tonight imagine me gown and all Fetchingly draped against the wall The picture of sophisticated grace Ooh I suddenly see him standing there A beautiful stranger tall and fair I wanna stuff some chocolate in my face But then we laugh and talk all evening Which is totally bizarre Nothing like the life I've lead so far For the first time in forever There'll be magic there'll be fun For the first time in forever I could be noticed by someone And I know it is totally crazy To dream I'd find romance But for the first time in forever At least I've got a chance Don't let them in Don't let them see Be the good girl You always have to be Conceal Don't feel Put on a show Make one wrong move And everyone will know But it's only for today It's only for today It's agony to wait It's agony to wait Tell the guards to open up the gate the gate For the first time in forever Don't let them in I'm getting what I'm dreaming of Be the good girl you always have to be A chance to change my lonely world Conceal A chance to find true love Conceal don't feel Don't let them know I know it all ends tomorrow So it has to be today 'Cause for the first time in forever For the first time in forever Nothing's in my way\"\n",
    "LetItGo = \" The snow glows white on the mountain tonight Not a footprint to be seen A kingdom of isolation And it looks like I'm the queen The wind is howling like this swirling storm inside Couldn't keep it in heaven knows I've tried Don't let them in don't let them see Be the good girl you always have to be Conceal don't feel don't let them know Well now they know Let it go let it go Can't hold it back anymore Let it go let it go Turn away and slam the door I don't care what they're going to say Let the storm rage on The cold never bothered me anyway It's funny how some distance makes everything seem small And the fears that once controlled me can't get to me at all It's time to see what I can do To test the limits and break through No right no wrong no rules for me I'm free Let it go let it go I am one with the wind and sky Let it go let it go You'll never see me cry Here I stand and here I'll stay Let the storm rage on My power flurries through the air into the ground My soul is spiraling in frozen fractals all around And one thought crystallizes like an icy blast I'm never going back the past is in the past Let it go let it go And I'll rise like the break of dawn Let it go let it go That perfect girl is gone Here I stand in the light of day Let the storm rage on The cold never bothered me anyway\"\n",
    "FixerUpper = \" What's the issue dear Why are you holding back from such a man Is it the clumpy way he walks Or the grumpy way he talks Or the pear shaped square shaped Weirdness of his feet And though we know he washes Well he always ends up sort of smelly But you'll never meet a fellow who's as Sensitive and sweet So he's a bit of a fixer upper So he's got a few flaws Like his peculiar brain dear His thing with the reindeer That's a little outside of nature's laws So he's a bit of a fixer upper but this we're certain of You can fix this fixer upper Up with a little bit of love Can we please just Stop talking about this We've got a real actual problem here I'll say So tell me dear Is it the way that he runs scared Or that he's socially impaired Or that he only likes to tinkle in the woods what Are you holding back your Fondness due to his unmanly blondness Or the way he covers Up that he's the honest goods He’s just a bit of a fixer upper He's got a couple of bugs His isolation is confirmation Of his desperation for human hugs So he's a bit of a fixer upper But we know what to do The way to fix up this fixer upper Is to fix him up with you ENOUGH She is engaged to someone else okay So she's a bit of a fixer upper That's a minor thing Her quote 'engagement' is a flex arrangement And by the way I don't see no ring So she's a bit of a fixer upper Her brain's a bit betwixt Get the fiance out of the way and The whole thing will be fixed We're not sayin' you can change him 'Cause people don't really change We're only saying that love's a force That's powerful and strange People make bad choices if they're mad Or scared or stressed Throw a little love their way Throw a little love their way you'll bring out their best True love brings out their best Everyone's a bit of a fixer upper That's what it's all about Father Sister Brother We need each other to raise Us up and round us out Everyone's a bit of a fixer upper But when push comes to shove The only fixer upper fixer That can fix up a fixer upper is True true True true true Love True love Love love love love love Love True love True Do you Anna take Kristoff to be your troll fully wedded Wait what You're getting married Love\"\n",
    "DoYouWantToBuildASnowman = \" Elsa Do you want to build a snowman Come on, let's go and play I never see you anymore Come out the door It's like you've gone away We used to be best buddies And now we're not I wish you would tell me why Do you want to build a snowman It doesn't have to be a snowman Go away Anna Okay bye Do you want to build a snowman Or ride our bike around the halls I think some company is overdue I've started talking to The pictures on the walls Hang in there Joan It gets a little lonely All these empty rooms Just watching the hours tick by Tick tock tick tock tick tock tick tock Elsa please I know you're in there People are asking where you've been They say have courage And I'm trying to I'm right out here for you Just let me in We only have each other It's just you and me What are we gonna do Do you want to build a snowman\"\n",
    "\n",
    "Frozen = LoveIsAnOpenDoor + ForTheFirstTimeInForever + LetItGo + FixerUpper + DoYouWantToBuildASnowman"
   ]
  },
  {
   "cell_type": "markdown",
   "metadata": {},
   "source": [
    "2. 토큰화"
   ]
  },
  {
   "cell_type": "code",
   "execution_count": 58,
   "metadata": {},
   "outputs": [],
   "source": [
    "# Tokenizer 사용해보셔도 됩니다.\n",
    "# Tokenizer 사용 시 시간이 좀 걸리기 때문에 그냥 띄어쓰기 기준으로 나눴습니다,\n",
    "text = Frozen.lower().split()"
   ]
  },
  {
   "cell_type": "markdown",
   "metadata": {},
   "source": [
    "3. 불용어 제거"
   ]
  },
  {
   "cell_type": "code",
   "execution_count": 92,
   "metadata": {},
   "outputs": [],
   "source": [
    "stopwords = ['a', 'an', 'the','it', 'it\\'s', 'to', 'be', 'is', 'in', 'and', 'of', 'for', 'with']\n",
    "tokens = []\n",
    "for word in text:\n",
    "    if word not in stopwords:\n",
    "        tokens.append(word)"
   ]
  },
  {
   "cell_type": "markdown",
   "metadata": {},
   "source": [
    "4. 빈도수 리스트 만들기"
   ]
  },
  {
   "cell_type": "code",
   "execution_count": 93,
   "metadata": {},
   "outputs": [],
   "source": [
    "word_dict = {}\n",
    "# 코드 작성\n",
    "for token in tokens:\n",
    "    if token not in word_dict:\n",
    "        word_dict[token] = 0\n",
    "    word_dict[token] += 1"
   ]
  },
  {
   "cell_type": "markdown",
   "metadata": {},
   "source": [
    "5. 워드 클라우드 이미지 생성"
   ]
  },
  {
   "cell_type": "code",
   "execution_count": 94,
   "metadata": {},
   "outputs": [],
   "source": [
    "# conda install -c conda-forge wordcloud\n",
    "# in terminal"
   ]
  },
  {
   "cell_type": "code",
   "execution_count": 95,
   "metadata": {},
   "outputs": [
    {
     "data": {
      "text/plain": [
       "<matplotlib.image.AxesImage at 0x2a8382f9b20>"
      ]
     },
     "execution_count": 95,
     "metadata": {},
     "output_type": "execute_result"
    },
    {
     "data": {
      "image/png": "[encoded data removed]",
      "text/plain": [
       "<Figure size 432x288 with 1 Axes>"
      ]
     },
     "metadata": {
      "needs_background": "light"
     },
     "output_type": "display_data"
    }
   ],
   "source": [
    "from wordcloud import WordCloud\n",
    "# word_dict 를 이용해 wordcloud 만들기\n",
    "# 코드 작성\n",
    "wordcloud = WordCloud().generate_from_frequencies(word_dict)\n",
    "import matplotlib.pyplot as plt\n",
    "plt.imshow(wordcloud)"
   ]
  },
  {
   "cell_type": "code",
   "execution_count": null,
   "metadata": {},
   "outputs": [],
   "source": []
  }
 ],
 "metadata": {
  "kernelspec": {
   "display_name": "Python 3",
   "language": "python",
   "name": "python3"
  },
  "language_info": {
   "codemirror_mode": {
    "name": "ipython",
    "version": 3
   },
   "file_extension": ".py",
   "mimetype": "text/x-python",
   "name": "python",
   "nbconvert_exporter": "python",
   "pygments_lexer": "ipython3",
   "version": "3.8.5"
  }
 },
 "nbformat": 4,
 "nbformat_minor": 2
}
