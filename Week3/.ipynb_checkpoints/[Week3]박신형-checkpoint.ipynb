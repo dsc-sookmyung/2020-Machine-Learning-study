{
 "cells": [
  {
   "cell_type": "markdown",
   "metadata": {},
   "source": [
    "# \\[Week3] 텍스트분석 기초"
   ]
  },
  {
   "cell_type": "markdown",
   "metadata": {},
   "source": [
    "## 1. 텍스트 분석 기본 용어 정리\n",
    "https://wikidocs.net/21694  \n",
    "위의 링크와 구글링으로 정리  \n",
    "용어 정리는 추후에 본인이 보기에 편한 형식으로 정리하면 됩니다."
   ]
  },
  {
   "cell_type": "markdown",
   "metadata": {},
   "source": [
    "#### \"자연어 처리\"를 하기 위해서는 \"텍스트 전처리\" 과정이 필수적이다\n",
    "- 자연어 처리 : 인간의 언어 현상을 컴퓨터와 같은 기계를 이용하여 모사할 수 있도록 연구 한 것.  (인공지능의 주요 분야)\n",
    "- 텍스트 전처리 : 텍스트를 사전에 처리하는 작업"
   ]
  },
  {
   "cell_type": "markdown",
   "metadata": {},
   "source": [
    "#### 1. 토큰화 (Tokenization)  \n",
    "- 크롤링과 같이 가공되지 않은 데이터를 용도에 맞게 <b>토큰화</b>, <b>정제</b>, <b>정규화(normalization)</b>을 하게 된다 <br>\n",
    "\\[답변] &nbsp; 토큰화 : 의미있는 단위 즉 <b>\"토큰\"</b>으로 문자열을 나눈 것이다"
   ]
  },
  {
   "cell_type": "code",
   "execution_count": 24,
   "metadata": {},
   "outputs": [
    {
     "name": "stdout",
     "output_type": "stream",
     "text": [
      "['Do', \"n't\", 'be', 'fooled', 'by', 'the', 'dark', 'sounding', 'name', ',', 'Mr.', 'Jone', \"'s\", 'Orphanage', 'is', 'as', 'cheery', 'as', 'cheery', 'goes', 'for', 'a', 'pastry', 'shop']\n"
     ]
    }
   ],
   "source": [
    "from nltk.tokenize import word_tokenize\n",
    "example = \"Don't be fooled by the dark sounding name, Mr. Jone's Orphanage is as cheery as cheery goes for a pastry shop\"\n",
    "word_tokens = word_tokenize(example)\n",
    "print(word_tokens)"
   ]
  },
  {
   "cell_type": "code",
   "execution_count": 30,
   "metadata": {},
   "outputs": [
    {
     "name": "stdout",
     "output_type": "stream",
     "text": [
      "['Don', \"'\", 't', 'be', 'fooled', 'by', 'the', 'dark', 'sounding', 'name', ',', 'Mr', '.', 'Jone', \"'\", 's', 'Orphanage', 'is', 'as', 'cheery', 'as', 'cheery', 'goes', 'for', 'a', 'pastry', 'shop']\n"
     ]
    }
   ],
   "source": [
    "from nltk.tokenize import WordPunctTokenizer  \n",
    "print(WordPunctTokenizer().tokenize(example))"
   ]
  },
  {
   "cell_type": "markdown",
   "metadata": {},
   "source": [
    "#### 2. 불용어 (Stopword)  \n",
    "\\[답변] &nbsp; 불용어: 갖고 있는 데이터에서 <b>유의미한 단어 토큰만을 선별하기 위해서 큰 의미가 없는 단어 토큰을 제거하는 작업</b>으로 <br/> &nbsp; &nbsp; &nbsp; &nbsp; &nbsp; &nbsp; 예를 들면 I,my,me, over 과 같은 조사, 접미사 처럼 문장의 의미를 선별하는 데에 있어 중요하지 않은 것들을 제거하는 작업이다."
   ]
  },
  {
   "cell_type": "code",
   "execution_count": 10,
   "metadata": {},
   "outputs": [
    {
     "name": "stderr",
     "output_type": "stream",
     "text": [
      "[nltk_data] Downloading package stopwords to\n",
      "[nltk_data]     C:\\Users\\user\\AppData\\Roaming\\nltk_data...\n",
      "[nltk_data]   Unzipping corpora\\stopwords.zip.\n"
     ]
    },
    {
     "data": {
      "text/plain": [
       "True"
      ]
     },
     "execution_count": 10,
     "metadata": {},
     "output_type": "execute_result"
    }
   ],
   "source": [
    "import nltk\n",
    "nltk.download('stopwords')\n",
    "nltk.download('punkt')"
   ]
  },
  {
   "cell_type": "code",
   "execution_count": 11,
   "metadata": {},
   "outputs": [
    {
     "data": {
      "text/plain": [
       "['i', 'me', 'my', 'myself', 'we', 'our', 'ours', 'ourselves', 'you', \"you're\"]"
      ]
     },
     "execution_count": 11,
     "metadata": {},
     "output_type": "execute_result"
    }
   ],
   "source": [
    "from nltk.corpus import stopwords  \n",
    "stopwords.words('english')[:10] # NLTK가 정의한 영어 불용어 리스트를 의미함"
   ]
  },
  {
   "cell_type": "code",
   "execution_count": 22,
   "metadata": {},
   "outputs": [
    {
     "name": "stdout",
     "output_type": "stream",
     "text": [
      "['Family', 'is', 'not', 'an', 'important', 'thing', '.', 'It', \"'s\", 'everything', '.']\n",
      "['Family', 'important', 'thing', '.', 'It', \"'s\", 'everything', '.']\n"
     ]
    }
   ],
   "source": [
    "from nltk.corpus import stopwords\n",
    "from nltk.tokenize import word_tokenize\n",
    "example = \"Family is not an important thing. It's everything.\"\n",
    "stopwords.words('english')\n",
    "stop_words = set(stopwords.words('english')) # -> set에 담기\n",
    "\n",
    "word_tokens = word_tokenize(example) # -> example 문장을 모두 tokenize 하기\n",
    "\n",
    "result = []\n",
    "for w in word_tokens:\n",
    "    if w not in stop_words: # 그럼 중요한 말이라는 뜻\n",
    "        result.append(w)\n",
    "\n",
    "print(word_tokens)\n",
    "print(result)"
   ]
  },
  {
   "cell_type": "markdown",
   "metadata": {},
   "source": [
    "#### 3. 정규표현식 (Regular Expression) 문법  \n",
    "* 이전에 <b>정제</b>와 <b>정규화</b>에 대해 알아보기<br/><br>\n",
    "    -- 정제 : 갖고 있는 코퍼스로부터 노이즈 제이터를 제거하기<br/>\n",
    "        ex). 1). 등장 빈도가 적은 단어\n",
    "        ex). 2). 길이가 짧은 단어\n",
    "    -- 정규화 : 표현방법이 다른 단어들을 통합시켜서 같은 단어로 만들어 주기 ex). 대소문자 통합"
   ]
  },
  {
   "cell_type": "code",
   "execution_count": 71,
   "metadata": {},
   "outputs": [
    {
     "name": "stdout",
     "output_type": "stream",
     "text": [
      " was wondering anyone out there could enlighten this car\n"
     ]
    }
   ],
   "source": [
    "import re\n",
    "text = \"I was wondering if anyone out there could enlighten me on this car\"\n",
    "shortword = re.compile(r'\\W*\\b\\w{1,2}\\b') # -> I if me on\n",
    "print(shortword.sub('', text))"
   ]
  },
  {
   "cell_type": "markdown",
   "metadata": {},
   "source": [
    "* 1) 정규 표현식에 해당하는 스트링 2개 이상  \n",
    "(1) a+  \n",
    "\\[답변] 맨 앞에 a는 꼭 들어가고 그 이후 어떠한 문자가 와도 가능함<br/>\n",
    "<br>\n",
    "(2) a{3}b{2,}  \n",
    "\\[답변] a 문자가 3번 반복하며, b 문자는 2번 이상 반복하게 됨<br/>\n",
    "<br>\n",
    "(3) .+b$  \n",
    "\\[답변] b 문자 앞에 1개 이상의 문자가 와야 하며, 끝날때는 b로 끝나야 함 <br/>\n",
    "<br>\n",
    "(4) ^ab*  \n",
    "\\[답변] a로 시작하고 b가 0개 이상이여야 함 <br/>\n",
    "<br>\n",
    "(5) \\[a-z]+\\[^a|z]  \n",
    "\\[답변] a-z사이의 문자와 a-z가 아닌 것( 숫자, 특수 기호 ) "
   ]
  },
  {
   "cell_type": "markdown",
   "metadata": {},
   "source": [
    "* 2) 정규 표현식 문자 규칙 의미  \n",
    "(1) \\\\\\ \\[답변] &nbsp; 역 슬래쉬 문자 자체를 의미합니다 <br/>\n",
    "<br>\n",
    "(2) \\d \\[답변] &nbsp; 모든 숫자를 의미합니다. [0-9]와 의미가 동일합니다<br/>\n",
    "<br>\n",
    "(3) \\D \\[답변] &nbsp; 숫자를 제외한 모든 문자를 의미합니다. [^0-9]와 의미가 동일합니다.<br/>\n",
    "<br>\n",
    "(4) \\s \\[답변] &nbsp; 공백을 의미합니다. <br/>\n",
    "<br>\n",
    "(5) \\S \\[답변] &nbsp; 공백을 제외한 문자를 의미합니다. <br/>\n",
    "<br>\n",
    "(6) \\w \\[답변] &nbsp; 문자 또는 숫자를 의미합니다. [a-zA-Z0-9]와 의미가 동일합니다<br/>\n",
    "<br>\n",
    "(7) \\W \\[답변] &nbsp; 문자 또는 숫자가 아닌 문자를 의미합니다. [^a-zA-Z0-9]와 의미가 동일합니다<br/>"
   ]
  },
  {
   "cell_type": "markdown",
   "metadata": {},
   "source": [
    "* 3) 정규표현식 모듈 함수 사용<br/><br/>\n",
    "(1). re.compile() : 정규 표현식을 컴파일하는 함수, 찾고자 하는 패턴을 미리 컴파일 해놓음 <br/>\n",
    "(2). re.search() : 문자열 전체에 정규 표현식과 매치 되는 것을 검색함 <br/>\n",
    "(3). re.match() : 문자열의 처음이 정규표현식과 매치되는지 검색<br/>\n",
    "(4). re.split() : 정규 표현식을 기준으로 문자열을 분리하여 리스트로 리턴한다.<br/>\n",
    "(5). re.findall() : 문자열에서 정규 표현식과 매치되는 모든 경우의 <b>문자열</b>을 찾아서 리스트로 리턴합니다.<br/>\n",
    "(6). re.finditer() : 문자열에서 정규표현식과 매치되는 모든 경우의 문자열에 대한 이터레이터 객체를 리턴합니다.<br/>\n",
    "(7). re.sub() : 문자열에서 정규표현식과 일치하는 부분에 대해서 다른 문자열로 대체합니다<br/>"
   ]
  },
  {
   "cell_type": "markdown",
   "metadata": {},
   "source": [
    "(1) 출력 결과 : \\['010', '1234', '1234', '30']"
   ]
  },
  {
   "cell_type": "code",
   "execution_count": 22,
   "metadata": {},
   "outputs": [
    {
     "data": {
      "text/plain": [
       "['010', '1234', '5678', '25']"
      ]
     },
     "execution_count": 22,
     "metadata": {},
     "output_type": "execute_result"
    }
   ],
   "source": [
    "import re\n",
    "text = \"\"\"이름 : 눈송이\n",
    "전화번호 : 010-1234-5678\n",
    "나이 : 25\n",
    "성별 : 여\"\"\" \n",
    "# 코드 작성\n",
    "re.findall('\\d+',text)"
   ]
  },
  {
   "cell_type": "markdown",
   "metadata": {},
   "source": [
    "(2) 출력 결과 : \\['1234', '5678']"
   ]
  },
  {
   "cell_type": "code",
   "execution_count": 23,
   "metadata": {},
   "outputs": [
    {
     "data": {
      "text/plain": [
       "['1234', '5678']"
      ]
     },
     "execution_count": 23,
     "metadata": {},
     "output_type": "execute_result"
    }
   ],
   "source": [
    "import re\n",
    "text = \"\"\"이름 : 눈송이\n",
    "전화번호 : 010-1234-5678\n",
    "나이 : 25\n",
    "성별 : 여\"\"\"  \n",
    "# 코드 작성\n",
    "re.findall('\\d{4}',text)"
   ]
  },
  {
   "cell_type": "markdown",
   "metadata": {},
   "source": [
    "(3) 출력 결과 : \\['John', 'James', 'Noonsong'] "
   ]
  },
  {
   "cell_type": "code",
   "execution_count": 31,
   "metadata": {},
   "outputs": [
    {
     "data": {
      "text/plain": [
       "['John', 'James', 'Noonsong']"
      ]
     },
     "execution_count": 31,
     "metadata": {},
     "output_type": "execute_result"
    }
   ],
   "source": [
    "import re\n",
    "text = \"\"\"100 John    PROF\n",
    "101 James   STUD\n",
    "102 Noonsong   STUD\"\"\" \n",
    "# 코드 작성\n",
    "re.findall(\"[A-Z][a-z]+\",text)"
   ]
  },
  {
   "cell_type": "markdown",
   "metadata": {},
   "source": [
    "4. 정수 인코딩(Integer Encoding)  "
   ]
  },
  {
   "cell_type": "markdown",
   "metadata": {},
   "source": [
    "1) 문장 분리 및 토큰화"
   ]
  },
  {
   "cell_type": "code",
   "execution_count": 46,
   "metadata": {},
   "outputs": [],
   "source": [
    "# 이 셀은 실행만 시키면 됩니다.\n",
    "text = \"A barber is a person. a barber is good person. a barber is huge person. he Knew A Secret! The Secret He Kept is huge secret. Huge secret. His barber kept his word. a barber kept his word. His barber kept his secret. But keeping and keeping such a huge secret to himself was driving the barber crazy. the barber went up a huge mountain.\"\n",
    "# 문장 분리\n",
    "sentences = text.replace(\"!\", \".\").split(\". \")\n",
    "# 토큰화\n",
    "tokenized = [sentence.lower().split() for sentence in sentences]"
   ]
  },
  {
   "cell_type": "code",
   "execution_count": 113,
   "metadata": {},
   "outputs": [
    {
     "name": "stdout",
     "output_type": "stream",
     "text": [
      "[['a', 'barber', 'is', 'a', 'person'], ['a', 'barber', 'is', 'good', 'person'], ['a', 'barber', 'is', 'huge', 'person'], ['he', 'knew', 'a', 'secret'], ['the', 'secret', 'he', 'kept', 'is', 'huge', 'secret'], ['huge', 'secret'], ['his', 'barber', 'kept', 'his', 'word'], ['a', 'barber', 'kept', 'his', 'word'], ['his', 'barber', 'kept', 'his', 'secret'], ['but', 'keeping', 'and', 'keeping', 'such', 'a', 'huge', 'secret', 'to', 'himself', 'was', 'driving', 'the', 'barber', 'crazy'], ['the', 'barber', 'went', 'up', 'a', 'huge', 'mountain.']]\n"
     ]
    }
   ],
   "source": [
    "print(tokenized)"
   ]
  },
  {
   "cell_type": "markdown",
   "metadata": {},
   "source": [
    "2) 각 단어에 대한 빈도수 딕셔너리 저장  \n",
    "\\[출력] \\[('barber', 8), ('secret', 6), ('huge', 5), ('kept', 4), ('person', 3), ('word', 2), ('keeping', 2), ('good', 1), ('knew', 1), ('driving', 1), ('crazy', 1), ('went', 1), ('mountain.', 1)]"
   ]
  },
  {
   "cell_type": "code",
   "execution_count": 81,
   "metadata": {
    "tags": []
   },
   "outputs": [
    {
     "name": "stdout",
     "output_type": "stream",
     "text": [
      "[('barber', 8), ('secret', 6), ('huge', 5), ('kept', 4), ('person', 3), ('word', 2), ('keeping', 2), ('good', 1), ('knew', 1), ('driving', 1), ('crazy', 1), ('went', 1), ('mountain.', 1)]\n"
     ]
    }
   ],
   "source": [
    "# 각 단어에 대한 빈도수 딕셔너리로 저장 \n",
    "# *stopword는 제거\n",
    "from nltk.corpus import stopwords\n",
    "vocab = {}\n",
    "stop_words = set(stopwords.words('english'))\n",
    "sentences = []      # stopword 제거된 토큰화된 문장 리스트 저장\n",
    "\n",
    "# 여기부터 코드 작성\n",
    "for a in tokenized:\n",
    "    li = []\n",
    "    for b in a:\n",
    "        if b not in stop_words:\n",
    "            if (b in vocab):\n",
    "                vocab[b] +=1\n",
    "            else:\n",
    "                vocab[b]=1\n",
    "            li.append(b)\n",
    "    sentences.append(li)\n",
    "\n",
    "# 빈도수 높은 순으로 정렬\n",
    "# 여기부터 코드 작성\n",
    "vocab_sorted = sorted(vocab.items(), key = lambda x : x[1],reverse=True)\n",
    "\n",
    "print(vocab_sorted)"
   ]
  },
  {
   "cell_type": "code",
   "execution_count": 82,
   "metadata": {},
   "outputs": [
    {
     "name": "stdout",
     "output_type": "stream",
     "text": [
      "[['barber', 'person'], ['barber', 'good', 'person'], ['barber', 'huge', 'person'], ['knew', 'secret'], ['secret', 'kept', 'huge', 'secret'], ['huge', 'secret'], ['barber', 'kept', 'word'], ['barber', 'kept', 'word'], ['barber', 'kept', 'secret'], ['keeping', 'keeping', 'huge', 'secret', 'driving', 'barber', 'crazy'], ['barber', 'went', 'huge', 'mountain.']]\n"
     ]
    }
   ],
   "source": [
    "print(sentences)"
   ]
  },
  {
   "cell_type": "markdown",
   "metadata": {},
   "source": [
    "3) 빈도순으로 정렬된 단어에 정수 인덱스 부여  \n",
    "\\[출력] \\[('barber', 8), ('secret', 6), ('huge', 5), ('kept', 4), ('person', 3), ('word', 2), ('keeping', 2), ('good', 1), ('knew', 1), ('driving', 1), ('crazy', 1), ('went', 1), ('mountain', 1)]"
   ]
  },
  {
   "cell_type": "code",
   "execution_count": 65,
   "metadata": {
    "tags": []
   },
   "outputs": [
    {
     "name": "stdout",
     "output_type": "stream",
     "text": [
      "{'barber': 1, 'secret': 2, 'huge': 3, 'kept': 4, 'person': 5, 'word': 6, 'keeping': 7, 'good': 8, 'knew': 9, 'driving': 10, 'crazy': 11, 'went': 12, 'mountain.': 13, 'OOV': 14}\n"
     ]
    }
   ],
   "source": [
    "word_to_index = {}\n",
    "i = 1\n",
    "# 여기부터 코드 작성\n",
    "for ( w, fre ) in vocab_sorted:\n",
    "    word_to_index[w]=i\n",
    "    i+=1\n",
    "# dictionary에 없는 단어\n",
    "word_to_index['OOV'] = len(word_to_index) + 1\n",
    "print(word_to_index)"
   ]
  },
  {
   "cell_type": "markdown",
   "metadata": {},
   "source": [
    "4) word_to_index를 사용하여 sentences의 모든 단어들을 맵핑되는 정수로 인코딩  \n",
    "\\[출력] \\[\\[1, 5], \\[1, 8, 5], \\[1, 3, 5], \\[9, 2], \\[2, 4, 3, 2], \\[3, 2], \\[1, 4, 6], \\[1, 4, 6], \\[1, 4, 2], \\[7, 7, 3, 2, 10, 1, 11], \\[1, 12, 3, 13]]"
   ]
  },
  {
   "cell_type": "code",
   "execution_count": 93,
   "metadata": {
    "tags": []
   },
   "outputs": [
    {
     "name": "stdout",
     "output_type": "stream",
     "text": [
      "[[1, 5], [1, 8, 5], [1, 3, 5], [9, 2], [2, 4, 3, 2], [3, 2], [1, 4, 6], [1, 4, 6], [1, 4, 2], [7, 7, 3, 2, 10, 1, 11], [1, 12, 3, 13]]\n"
     ]
    }
   ],
   "source": [
    "encoded = []\n",
    "# 여기부터 코드 작성\n",
    "for w in sentences:\n",
    "    li = []\n",
    "    for k in w:\n",
    "        li.append(word_to_index[k])\n",
    "    encoded.append(li)\n",
    "print(encoded)"
   ]
  },
  {
   "cell_type": "markdown",
   "metadata": {},
   "source": [
    "5. 패딩(Padding)  \n",
    "0으로 패딩해보기"
   ]
  },
  {
   "cell_type": "markdown",
   "metadata": {},
   "source": [
    "1) 가장 긴 문장 길이 찾기"
   ]
  },
  {
   "cell_type": "code",
   "execution_count": 88,
   "metadata": {
    "tags": []
   },
   "outputs": [
    {
     "name": "stdout",
     "output_type": "stream",
     "text": [
      "7\n"
     ]
    }
   ],
   "source": [
    "max_len = max(len(i) for i in encoded)\n",
    "print(max_len)"
   ]
  },
  {
   "cell_type": "markdown",
   "metadata": {},
   "source": [
    "2) 가장 긴 문장 길이에 맞춰 0으로 채워넣기  \n",
    "\\[\\[ 1  5  0  0  0  0  0]  \n",
    " \\[ 1  8  5  0  0  0  0]  \n",
    " \\[ 1  3  5  0  0  0  0]  \n",
    " \\[ 9  2  0  0  0  0  0]  \n",
    " \\[ 2  4  3  2  0  0  0]  \n",
    " \\[ 3  2  0  0  0  0  0]  \n",
    " \\[ 1  4  6  0  0  0  0]  \n",
    " \\[ 1  4  6  0  0  0  0]  \n",
    " \\[ 1  4  2  0  0  0  0]  \n",
    " \\[ 7  7  3  2 10  1 11]  \n",
    " \\[ 1 12  3 13  0  0  0]]"
   ]
  },
  {
   "cell_type": "code",
   "execution_count": 94,
   "metadata": {
    "tags": []
   },
   "outputs": [
    {
     "name": "stdout",
     "output_type": "stream",
     "text": [
      "[[1, 5, 0, 0, 0, 0, 0], [1, 8, 5, 0, 0, 0, 0], [1, 3, 5, 0, 0, 0, 0], [9, 2, 0, 0, 0, 0, 0], [2, 4, 3, 2, 0, 0, 0], [3, 2, 0, 0, 0, 0, 0], [1, 4, 6, 0, 0, 0, 0], [1, 4, 6, 0, 0, 0, 0], [1, 4, 2, 0, 0, 0, 0], [7, 7, 3, 2, 10, 1, 11], [1, 12, 3, 13, 0, 0, 0]]\n"
     ]
    }
   ],
   "source": [
    "import numpy as np\n",
    "for sentence in encoded:\n",
    "    # 아래 pass 지우고 코드 작성\n",
    "    while len(sentence)<max_len:\n",
    "        sentence.append(0)\n",
    "\n",
    "encoded = np.array(encoded)        # 지금은 보기 좋게 하기 위함임..\n",
    "print(encoded)"
   ]
  },
  {
   "cell_type": "markdown",
   "metadata": {},
   "source": [
    "6. 원-핫 인코딩(One-Hot Encoding)  \n",
    "\\[출력] \\[0, 0, 0, 1, 0, 0, 0, 0, 0, 0, 0, 0, 0, 0, 0]"
   ]
  },
  {
   "cell_type": "code",
   "execution_count": 97,
   "metadata": {},
   "outputs": [
    {
     "name": "stdout",
     "output_type": "stream",
     "text": [
      "14\n"
     ]
    }
   ],
   "source": [
    "print(len(word_to_index))"
   ]
  },
  {
   "cell_type": "code",
   "execution_count": 98,
   "metadata": {},
   "outputs": [],
   "source": [
    "def one_hot_encoding(word, word_to_index):\n",
    "    one_hot_vector = [0]*(len(word_to_index))\n",
    "    index = word_to_index[word]\n",
    "    one_hot_vector[index] =1\n",
    "    return one_hot_vector"
   ]
  },
  {
   "cell_type": "code",
   "execution_count": 99,
   "metadata": {
    "tags": []
   },
   "outputs": [
    {
     "data": {
      "text/plain": [
       "[0, 0, 0, 1, 0, 0, 0, 0, 0, 0, 0, 0, 0, 0]"
      ]
     },
     "execution_count": 99,
     "metadata": {},
     "output_type": "execute_result"
    }
   ],
   "source": [
    "# 위의 함수와 정수 인코딩 실행 후 실행할 것.\n",
    "one_hot_encoding(\"huge\", word_to_index)"
   ]
  },
  {
   "cell_type": "markdown",
   "metadata": {},
   "source": [
    "7. Bag of Words(BoW)  \n",
    "\\[답변] 단어들의 순서를 고려하지 않은 채, 단어들의 출현 빈도에만 집중하는 텍스트 데이터의 수치화 표현 방법"
   ]
  },
  {
   "cell_type": "markdown",
   "metadata": {},
   "source": [
    "## 2. 텍스트 분석 전처리 경험해보기"
   ]
  },
  {
   "cell_type": "markdown",
   "metadata": {},
   "source": [
    "1. 본인이 좋아하는 노래 가사, 시 등 text에 저장"
   ]
  },
  {
   "cell_type": "code",
   "execution_count": 115,
   "metadata": {},
   "outputs": [],
   "source": [
    "text =\"I spend my weekends tryna get you off My mind again, but I can't make it stop, I'm tryna pretend I'm good, but you can tell Cause you know me too, you know me too well\""
   ]
  },
  {
   "cell_type": "markdown",
   "metadata": {},
   "source": [
    "2. 토큰화"
   ]
  },
  {
   "cell_type": "code",
   "execution_count": 106,
   "metadata": {},
   "outputs": [
    {
     "name": "stdout",
     "output_type": "stream",
     "text": [
      "['I', 'spend', 'my', 'weekends', 'tryna', 'get', 'you', 'off', 'My', 'mind', 'again,', 'but', 'I', \"can't\", 'make', 'it', 'stop', \"I'm\", 'tryna', 'pretend', \"I'm\", 'good,', 'but', 'you', 'can', 'tell', 'Cause', 'you', 'know', 'me', 'too,', 'you', 'know', 'me', 'too', 'well']\n"
     ]
    }
   ],
   "source": [
    "'''from nltk.tokenize import word_tokenize\n",
    "word_tokens = word_tokenize(text)\n",
    "#print(word_tokens)\n",
    "text = text.split()\n",
    "print(text)'''"
   ]
  },
  {
   "cell_type": "code",
   "execution_count": 118,
   "metadata": {},
   "outputs": [
    {
     "name": "stdout",
     "output_type": "stream",
     "text": [
      "[['i', 'spend', 'my', 'weekends', 'tryna', 'get', 'you', 'off', 'my', 'mind', 'again'], ['but', 'i', \"can't\", 'make', 'it', 'stop'], [\"i'm\", 'tryna', 'pretend', \"i'm\", 'good'], ['but', 'you', 'can', 'tell', 'cause', 'you', 'know', 'me', 'too'], ['you', 'know', 'me', 'too', 'well']]\n"
     ]
    }
   ],
   "source": [
    "sentences = text.split(\", \")\n",
    "tokenized = [sentence.lower().split() for sentence in sentences]\n",
    "print(tokenized)"
   ]
  },
  {
   "cell_type": "markdown",
   "metadata": {},
   "source": [
    "3. 불용어 제거"
   ]
  },
  {
   "cell_type": "code",
   "execution_count": 119,
   "metadata": {},
   "outputs": [
    {
     "name": "stdout",
     "output_type": "stream",
     "text": [
      "[['spend', 'weekends', 'tryna', 'get', 'mind'], [\"can't\", 'make', 'stop'], [\"i'm\", 'tryna', 'pretend', \"i'm\", 'good'], ['tell', 'cause', 'know'], ['know', 'well']]\n"
     ]
    }
   ],
   "source": [
    "from nltk.corpus import stopwords\n",
    "stop_words = set(stopwords.words('english'))\n",
    "\n",
    "result=[]\n",
    "for a in tokenized:\n",
    "    li = []\n",
    "    for b in a:\n",
    "        if b not in stop_words:\n",
    "            li.append(b)\n",
    "    result.append(li)\n",
    "print(result)"
   ]
  },
  {
   "cell_type": "markdown",
   "metadata": {},
   "source": [
    "4. 빈도수 리스트 만들기"
   ]
  },
  {
   "cell_type": "code",
   "execution_count": 120,
   "metadata": {},
   "outputs": [
    {
     "name": "stdout",
     "output_type": "stream",
     "text": [
      "{'spend': 1, 'weekends': 1, 'tryna': 2, 'get': 1, 'mind': 1, \"can't\": 1, 'make': 1, 'stop': 1, \"i'm\": 2, 'pretend': 1, 'good': 1, 'tell': 1, 'cause': 1, 'know': 2, 'well': 1}\n"
     ]
    }
   ],
   "source": [
    "word_dict = {}\n",
    "for a in tokenized:\n",
    "    for b in a:\n",
    "        if b not in stop_words:\n",
    "            if b not in word_dict:\n",
    "                word_dict[b]=1\n",
    "            else:\n",
    "                word_dict[b]+=1\n",
    "print(word_dict)"
   ]
  },
  {
   "cell_type": "code",
   "execution_count": 122,
   "metadata": {},
   "outputs": [
    {
     "name": "stdout",
     "output_type": "stream",
     "text": [
      "[('tryna', 2), (\"i'm\", 2), ('know', 2), ('spend', 1), ('weekends', 1), ('get', 1), ('mind', 1), (\"can't\", 1), ('make', 1), ('stop', 1), ('pretend', 1), ('good', 1), ('tell', 1), ('cause', 1), ('well', 1)]\n"
     ]
    }
   ],
   "source": [
    "word_sorted = sorted(word_dict.items(), key = lambda x:x[1], reverse=True)\n",
    "print(word_sorted)"
   ]
  },
  {
   "cell_type": "markdown",
   "metadata": {},
   "source": [
    "5. 워드 클라우드 이미지 생성"
   ]
  },
  {
   "cell_type": "code",
   "execution_count": 130,
   "metadata": {},
   "outputs": [
    {
     "data": {
      "text/plain": [
       "<matplotlib.image.AxesImage at 0x1a3c5de24c8>"
      ]
     },
     "execution_count": 130,
     "metadata": {},
     "output_type": "execute_result"
    },
    {
     "data": {
      "image/png": "[encoded data removed]",
      "text/plain": [
       "<Figure size 432x288 with 1 Axes>"
      ]
     },
     "metadata": {
      "needs_background": "light"
     },
     "output_type": "display_data"
    }
   ],
   "source": [
    "from wordcloud import WordCloud\n",
    "# word_dict 를 이용해 wordcloud 만들기\n",
    "# 코드 작성\n",
    "import matplotlib.pyplot as plt\n",
    "\n",
    "wordcloud = WordCloud().generate_from_frequencies(word_dict)\n",
    "plt.axis('off')\n",
    "plt.imshow(wordcloud)"
   ]
  },
  {
   "cell_type": "code",
   "execution_count": 125,
   "metadata": {},
   "outputs": [
    {
     "name": "stdout",
     "output_type": "stream",
     "text": [
      "C:\\Users\\user\\anaconda3\\python.exe\n"
     ]
    }
   ],
   "source": [
    "import sys\n",
    "print(sys.executable)"
   ]
  }
 ],
 "metadata": {
  "kernelspec": {
   "display_name": "Python 3",
   "language": "python",
   "name": "python3"
  },
  "language_info": {
   "codemirror_mode": {
    "name": "ipython",
    "version": 3
   },
   "file_extension": ".py",
   "mimetype": "text/x-python",
   "name": "python",
   "nbconvert_exporter": "python",
   "pygments_lexer": "ipython3",
   "version": "3.7.9"
  }
 },
 "nbformat": 4,
 "nbformat_minor": 2
}
